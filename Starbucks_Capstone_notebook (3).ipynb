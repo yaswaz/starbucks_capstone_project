{
 "cells": [
  {
   "cell_type": "markdown",
   "metadata": {},
   "source": [
    "pip install cmake\n",
    "pip3 install xgboost"
   ]
  },
  {
   "cell_type": "markdown",
   "metadata": {},
   "source": [
    "# Starbucks Capstone Challenge\n",
    "\n",
    "### Introduction\n",
    "\n",
    "This data set contains simulated data that mimics customer behavior on the Starbucks rewards mobile app. Once every few days, Starbucks sends out an offer to users of the mobile app. An offer can be merely an advertisement for a drink or an actual offer such as a discount or BOGO (buy one get one free). Some users might not receive any offer during certain weeks. \n",
    "\n",
    "Not all users receive the same offer, and that is the challenge to solve with this data set.\n",
    "\n",
    "Your task is to combine transaction, demographic and offer data to determine which demographic groups respond best to which offer type. This data set is a simplified version of the real Starbucks app because the underlying simulator only has one product whereas Starbucks actually sells dozens of products.\n",
    "\n",
    "Every offer has a validity period before the offer expires. As an example, a BOGO offer might be valid for only 5 days. You'll see in the data set that informational offers have a validity period even though these ads are merely providing information about a product; for example, if an informational offer has 7 days of validity, you can assume the customer is feeling the influence of the offer for 7 days after receiving the advertisement.\n",
    "\n",
    "You'll be given transactional data showing user purchases made on the app including the timestamp of purchase and the amount of money spent on a purchase. This transactional data also has a record for each offer that a user receives as well as a record for when a user actually views the offer. There are also records for when a user completes an offer. \n",
    "\n",
    "Keep in mind as well that someone using the app might make a purchase through the app without having received an offer or seen an offer.\n",
    "\n",
    "### Example\n",
    "\n",
    "To give an example, a user could receive a discount offer buy 10 dollars get 2 off on Monday. The offer is valid for 10 days from receipt. If the customer accumulates at least 10 dollars in purchases during the validity period, the customer completes the offer.\n",
    "\n",
    "However, there are a few things to watch out for in this data set. Customers do not opt into the offers that they receive; in other words, a user can receive an offer, never actually view the offer, and still complete the offer. For example, a user might receive the \"buy 10 dollars get 2 dollars off offer\", but the user never opens the offer during the 10 day validity period. The customer spends 15 dollars during those ten days. There will be an offer completion record in the data set; however, the customer was not influenced by the offer because the customer never viewed the offer.\n",
    "\n",
    "### Cleaning\n",
    "\n",
    "This makes data cleaning especially important and tricky.\n",
    "\n",
    "You'll also want to take into account that some demographic groups will make purchases even if they don't receive an offer. From a business perspective, if a customer is going to make a 10 dollar purchase without an offer anyway, you wouldn't want to send a buy 10 dollars get 2 dollars off offer. You'll want to try to assess what a certain demographic group will buy when not receiving any offers.\n",
    "\n",
    "### Final Advice\n",
    "\n",
    "Because this is a capstone project, you are free to analyze the data any way you see fit. For example, you could build a machine learning model that predicts how much someone will spend based on demographics and offer type. Or you could build a model that predicts whether or not someone will respond to an offer. Or, you don't need to build a machine learning model at all. You could develop a set of heuristics that determine what offer you should send to each customer (i.e., 75 percent of women customers who were 35 years old responded to offer A vs 40 percent from the same demographic to offer B, so send offer A)."
   ]
  },
  {
   "cell_type": "markdown",
   "metadata": {},
   "source": [
    "# Data Sets\n",
    "\n",
    "The data is contained in three files:\n",
    "\n",
    "* portfolio.json - containing offer ids and meta data about each offer (duration, type, etc.)\n",
    "* profile.json - demographic data for each customer\n",
    "* transcript.json - records for transactions, offers received, offers viewed, and offers completed\n",
    "\n",
    "Here is the schema and explanation of each variable in the files:\n",
    "\n",
    "**portfolio.json**\n",
    "* id (string) - offer id\n",
    "* offer_type (string) - type of offer ie BOGO, discount, informational\n",
    "* difficulty (int) - minimum required spend to complete an offer\n",
    "* reward (int) - reward given for completing an offer\n",
    "* duration (int) - time for offer to be open, in days\n",
    "* channels (list of strings)\n",
    "\n",
    "**profile.json**\n",
    "* age (int) - age of the customer \n",
    "* became_member_on (int) - date when customer created an app account\n",
    "* gender (str) - gender of the customer (note some entries contain 'O' for other rather than M or F)\n",
    "* id (str) - customer id\n",
    "* income (float) - customer's income\n",
    "\n",
    "**transcript.json**\n",
    "* event (str) - record description (ie transaction, offer received, offer viewed, etc.)\n",
    "* person (str) - customer id\n",
    "* time (int) - time in hours since start of test. The data begins at time t=0\n",
    "* value - (dict of strings) - either an offer id or transaction amount depending on the record\n",
    "\n",
    "**Note:** If you are using the workspace, you will need to go to the terminal and run the command `conda update pandas` before reading in the files. This is because the version of pandas in the workspace cannot read in the transcript.json file correctly, but the newest version of pandas can. You can access the termnal from the orange icon in the top left of this notebook.  \n",
    "\n",
    "You can see how to access the terminal and how the install works using the two images below.  First you need to access the terminal:\n",
    "\n",
    "<img src=\"pic1.png\"/>\n",
    "\n",
    "Then you will want to run the above command:\n",
    "\n",
    "<img src=\"pic2.png\"/>\n",
    "\n",
    "Finally, when you enter back into the notebook (use the jupyter icon again), you should be able to run the below cell without any errors."
   ]
  },
  {
   "cell_type": "markdown",
   "metadata": {},
   "source": [
    "## PROJECT OVERVIEW\n",
    "The project uses simulated data of Starbucks customers behavior on the Starbucks rewards app. Starbucks customers sometimes receive an offer or two for its products. The dataset is a simplified version of the actual data. It only contains offers related to a single product instead of many. The users might receive more than one offer or no offer at all.  "
   ]
  },
  {
   "cell_type": "markdown",
   "metadata": {},
   "source": [
    "## PROBLEM STATEMENT\n",
    "The Capstone Challenge Project builds a successful machine learning model which predicts whether customers will most likely complete an offer. The project seeks to help Starbucks on which demographic of customers are most likely to complete its offers. We will explore the following demographics and then choose the one that is mostly suitable for the Machine learning model. They are:\n",
    "\n",
    "- Income level\n",
    "- Gender\n",
    "- Age\n",
    "- Offer Duration\n",
    "- How the offer is communicated\n",
    "- Offer type\n",
    "\n",
    "These are the areas which are thought to have major impact on the behavior of Starbucks customers. The actual degree to which they matter will become apparent as the dataset is explored. The features seen as the most significant to the completion of offers will be further explored and used where necessary for the model."
   ]
  },
  {
   "cell_type": "code",
   "execution_count": 1,
   "metadata": {},
   "outputs": [],
   "source": [
    "# Import Libraries\n",
    "import pandas as pd\n",
    "import numpy as np\n",
    "import math\n",
    "import json\n",
    "% matplotlib inline\n",
    "from sklearn.preprocessing import LabelBinarizer, MultiLabelBinarizer\n",
    "import matplotlib.pyplot as plt\n",
    "import seaborn as sb\n",
    "sb.set(style = 'whitegrid')\n",
    "\n",
    "# read in the json files\n",
    "portfolio = pd.read_json('data/portfolio.json', orient='records', lines=True)\n",
    "profile = pd.read_json('data/profile.json', orient='records', lines=True)\n",
    "transcript = pd.read_json('data/transcript.json', orient='records', lines=True)"
   ]
  },
  {
   "cell_type": "markdown",
   "metadata": {},
   "source": [
    "## Data Exploration"
   ]
  },
  {
   "cell_type": "markdown",
   "metadata": {},
   "source": [
    "### Assessment"
   ]
  },
  {
   "cell_type": "code",
   "execution_count": 2,
   "metadata": {},
   "outputs": [
    {
     "data": {
      "text/html": [
       "<div>\n",
       "<style scoped>\n",
       "    .dataframe tbody tr th:only-of-type {\n",
       "        vertical-align: middle;\n",
       "    }\n",
       "\n",
       "    .dataframe tbody tr th {\n",
       "        vertical-align: top;\n",
       "    }\n",
       "\n",
       "    .dataframe thead th {\n",
       "        text-align: right;\n",
       "    }\n",
       "</style>\n",
       "<table border=\"1\" class=\"dataframe\">\n",
       "  <thead>\n",
       "    <tr style=\"text-align: right;\">\n",
       "      <th></th>\n",
       "      <th>channels</th>\n",
       "      <th>difficulty</th>\n",
       "      <th>duration</th>\n",
       "      <th>id</th>\n",
       "      <th>offer_type</th>\n",
       "      <th>reward</th>\n",
       "    </tr>\n",
       "  </thead>\n",
       "  <tbody>\n",
       "    <tr>\n",
       "      <th>0</th>\n",
       "      <td>[email, mobile, social]</td>\n",
       "      <td>10</td>\n",
       "      <td>7</td>\n",
       "      <td>ae264e3637204a6fb9bb56bc8210ddfd</td>\n",
       "      <td>bogo</td>\n",
       "      <td>10</td>\n",
       "    </tr>\n",
       "    <tr>\n",
       "      <th>1</th>\n",
       "      <td>[web, email, mobile, social]</td>\n",
       "      <td>10</td>\n",
       "      <td>5</td>\n",
       "      <td>4d5c57ea9a6940dd891ad53e9dbe8da0</td>\n",
       "      <td>bogo</td>\n",
       "      <td>10</td>\n",
       "    </tr>\n",
       "    <tr>\n",
       "      <th>2</th>\n",
       "      <td>[web, email, mobile]</td>\n",
       "      <td>0</td>\n",
       "      <td>4</td>\n",
       "      <td>3f207df678b143eea3cee63160fa8bed</td>\n",
       "      <td>informational</td>\n",
       "      <td>0</td>\n",
       "    </tr>\n",
       "    <tr>\n",
       "      <th>3</th>\n",
       "      <td>[web, email, mobile]</td>\n",
       "      <td>5</td>\n",
       "      <td>7</td>\n",
       "      <td>9b98b8c7a33c4b65b9aebfe6a799e6d9</td>\n",
       "      <td>bogo</td>\n",
       "      <td>5</td>\n",
       "    </tr>\n",
       "    <tr>\n",
       "      <th>4</th>\n",
       "      <td>[web, email]</td>\n",
       "      <td>20</td>\n",
       "      <td>10</td>\n",
       "      <td>0b1e1539f2cc45b7b9fa7c272da2e1d7</td>\n",
       "      <td>discount</td>\n",
       "      <td>5</td>\n",
       "    </tr>\n",
       "    <tr>\n",
       "      <th>5</th>\n",
       "      <td>[web, email, mobile, social]</td>\n",
       "      <td>7</td>\n",
       "      <td>7</td>\n",
       "      <td>2298d6c36e964ae4a3e7e9706d1fb8c2</td>\n",
       "      <td>discount</td>\n",
       "      <td>3</td>\n",
       "    </tr>\n",
       "    <tr>\n",
       "      <th>6</th>\n",
       "      <td>[web, email, mobile, social]</td>\n",
       "      <td>10</td>\n",
       "      <td>10</td>\n",
       "      <td>fafdcd668e3743c1bb461111dcafc2a4</td>\n",
       "      <td>discount</td>\n",
       "      <td>2</td>\n",
       "    </tr>\n",
       "    <tr>\n",
       "      <th>7</th>\n",
       "      <td>[email, mobile, social]</td>\n",
       "      <td>0</td>\n",
       "      <td>3</td>\n",
       "      <td>5a8bc65990b245e5a138643cd4eb9837</td>\n",
       "      <td>informational</td>\n",
       "      <td>0</td>\n",
       "    </tr>\n",
       "    <tr>\n",
       "      <th>8</th>\n",
       "      <td>[web, email, mobile, social]</td>\n",
       "      <td>5</td>\n",
       "      <td>5</td>\n",
       "      <td>f19421c1d4aa40978ebb69ca19b0e20d</td>\n",
       "      <td>bogo</td>\n",
       "      <td>5</td>\n",
       "    </tr>\n",
       "    <tr>\n",
       "      <th>9</th>\n",
       "      <td>[web, email, mobile]</td>\n",
       "      <td>10</td>\n",
       "      <td>7</td>\n",
       "      <td>2906b810c7d4411798c6938adc9daaa5</td>\n",
       "      <td>discount</td>\n",
       "      <td>2</td>\n",
       "    </tr>\n",
       "  </tbody>\n",
       "</table>\n",
       "</div>"
      ],
      "text/plain": [
       "                       channels  difficulty  duration  \\\n",
       "0       [email, mobile, social]          10         7   \n",
       "1  [web, email, mobile, social]          10         5   \n",
       "2          [web, email, mobile]           0         4   \n",
       "3          [web, email, mobile]           5         7   \n",
       "4                  [web, email]          20        10   \n",
       "5  [web, email, mobile, social]           7         7   \n",
       "6  [web, email, mobile, social]          10        10   \n",
       "7       [email, mobile, social]           0         3   \n",
       "8  [web, email, mobile, social]           5         5   \n",
       "9          [web, email, mobile]          10         7   \n",
       "\n",
       "                                 id     offer_type  reward  \n",
       "0  ae264e3637204a6fb9bb56bc8210ddfd           bogo      10  \n",
       "1  4d5c57ea9a6940dd891ad53e9dbe8da0           bogo      10  \n",
       "2  3f207df678b143eea3cee63160fa8bed  informational       0  \n",
       "3  9b98b8c7a33c4b65b9aebfe6a799e6d9           bogo       5  \n",
       "4  0b1e1539f2cc45b7b9fa7c272da2e1d7       discount       5  \n",
       "5  2298d6c36e964ae4a3e7e9706d1fb8c2       discount       3  \n",
       "6  fafdcd668e3743c1bb461111dcafc2a4       discount       2  \n",
       "7  5a8bc65990b245e5a138643cd4eb9837  informational       0  \n",
       "8  f19421c1d4aa40978ebb69ca19b0e20d           bogo       5  \n",
       "9  2906b810c7d4411798c6938adc9daaa5       discount       2  "
      ]
     },
     "execution_count": 2,
     "metadata": {},
     "output_type": "execute_result"
    }
   ],
   "source": [
    "portfolio#.head()"
   ]
  },
  {
   "cell_type": "code",
   "execution_count": 3,
   "metadata": {},
   "outputs": [
    {
     "data": {
      "text/plain": [
       "(10, 6)"
      ]
     },
     "execution_count": 3,
     "metadata": {},
     "output_type": "execute_result"
    }
   ],
   "source": [
    "portfolio.shape"
   ]
  },
  {
   "cell_type": "code",
   "execution_count": 4,
   "metadata": {},
   "outputs": [
    {
     "name": "stdout",
     "output_type": "stream",
     "text": [
      "<class 'pandas.core.frame.DataFrame'>\n",
      "RangeIndex: 10 entries, 0 to 9\n",
      "Data columns (total 6 columns):\n",
      "channels      10 non-null object\n",
      "difficulty    10 non-null int64\n",
      "duration      10 non-null int64\n",
      "id            10 non-null object\n",
      "offer_type    10 non-null object\n",
      "reward        10 non-null int64\n",
      "dtypes: int64(3), object(3)\n",
      "memory usage: 560.0+ bytes\n"
     ]
    }
   ],
   "source": [
    "# Check general info\n",
    "portfolio.info()"
   ]
  },
  {
   "cell_type": "code",
   "execution_count": 5,
   "metadata": {},
   "outputs": [
    {
     "data": {
      "text/plain": [
       "f19421c1d4aa40978ebb69ca19b0e20d    1\n",
       "4d5c57ea9a6940dd891ad53e9dbe8da0    1\n",
       "5a8bc65990b245e5a138643cd4eb9837    1\n",
       "ae264e3637204a6fb9bb56bc8210ddfd    1\n",
       "2906b810c7d4411798c6938adc9daaa5    1\n",
       "9b98b8c7a33c4b65b9aebfe6a799e6d9    1\n",
       "3f207df678b143eea3cee63160fa8bed    1\n",
       "fafdcd668e3743c1bb461111dcafc2a4    1\n",
       "0b1e1539f2cc45b7b9fa7c272da2e1d7    1\n",
       "2298d6c36e964ae4a3e7e9706d1fb8c2    1\n",
       "Name: id, dtype: int64"
      ]
     },
     "execution_count": 5,
     "metadata": {},
     "output_type": "execute_result"
    }
   ],
   "source": [
    "# Check value counts of offers\n",
    "portfolio.id.value_counts()"
   ]
  },
  {
   "cell_type": "markdown",
   "metadata": {},
   "source": [
    "#### Portfolio Assessment issues\n",
    "\n",
    "- Change position of id\n",
    "- Change id to offer_id\n",
    "- Encode Channels and Offer type"
   ]
  },
  {
   "cell_type": "markdown",
   "metadata": {},
   "source": [
    "#### Cleaning Code"
   ]
  },
  {
   "cell_type": "code",
   "execution_count": 6,
   "metadata": {},
   "outputs": [],
   "source": [
    "def portfolio_clean(portfolio):\n",
    "    \"\"\" Clean the portfolio dataset.\n",
    "    - Makes a copy of the dataset\n",
    "    - Rearrange column position so that id comes first\n",
    "    - Renames id to offer_id\n",
    "    - Hot encodes offer type and channels types\n",
    "    - Merges dataframes\n",
    "    - Drop channels and offer type columns\n",
    "    \n",
    "    Input:\n",
    "    - portfolio: original dataset\n",
    "    Returns:\n",
    "    - portfolio_clean\n",
    "    \"\"\"\n",
    "    # Copy portfolio df\n",
    "    portfolio_clean = portfolio.copy()\n",
    "    \n",
    "    # Rearrange column positions\n",
    "    portfolio_clean = portfolio_clean[['id', 'channels','difficulty', 'duration', 'offer_type', 'reward']]\n",
    "    \n",
    "    # Rename id to offer id\n",
    "    portfolio_clean.rename(columns={'id': 'offer_id'}, inplace=True)\n",
    "    \n",
    "    # Encode Offer types\n",
    "    offertype_dummy = pd.get_dummies(portfolio_clean['offer_type'])\n",
    "    \n",
    "    # Encode Channels types\n",
    "    channels_dummy = pd.get_dummies(portfolio_clean.channels.apply(pd.Series).stack(),\n",
    "                             prefix=\"channel\").sum(level=0)\n",
    "    \n",
    "    # Concat dummy dfs to portfolio\n",
    "    portfolio_clean = pd.concat([portfolio_clean, offertype_dummy, channels_dummy], axis=1)\n",
    "    \n",
    "    # Drop channels and offer type columns\n",
    "    portfolio_clean.drop(columns=['channels'], inplace=True)\n",
    "\n",
    "    return portfolio_clean"
   ]
  },
  {
   "cell_type": "code",
   "execution_count": 7,
   "metadata": {},
   "outputs": [
    {
     "data": {
      "text/html": [
       "<div>\n",
       "<style scoped>\n",
       "    .dataframe tbody tr th:only-of-type {\n",
       "        vertical-align: middle;\n",
       "    }\n",
       "\n",
       "    .dataframe tbody tr th {\n",
       "        vertical-align: top;\n",
       "    }\n",
       "\n",
       "    .dataframe thead th {\n",
       "        text-align: right;\n",
       "    }\n",
       "</style>\n",
       "<table border=\"1\" class=\"dataframe\">\n",
       "  <thead>\n",
       "    <tr style=\"text-align: right;\">\n",
       "      <th></th>\n",
       "      <th>offer_id</th>\n",
       "      <th>difficulty</th>\n",
       "      <th>duration</th>\n",
       "      <th>offer_type</th>\n",
       "      <th>reward</th>\n",
       "      <th>bogo</th>\n",
       "      <th>discount</th>\n",
       "      <th>informational</th>\n",
       "      <th>channel_email</th>\n",
       "      <th>channel_mobile</th>\n",
       "      <th>channel_social</th>\n",
       "      <th>channel_web</th>\n",
       "    </tr>\n",
       "  </thead>\n",
       "  <tbody>\n",
       "    <tr>\n",
       "      <th>0</th>\n",
       "      <td>ae264e3637204a6fb9bb56bc8210ddfd</td>\n",
       "      <td>10</td>\n",
       "      <td>7</td>\n",
       "      <td>bogo</td>\n",
       "      <td>10</td>\n",
       "      <td>1</td>\n",
       "      <td>0</td>\n",
       "      <td>0</td>\n",
       "      <td>1</td>\n",
       "      <td>1</td>\n",
       "      <td>1</td>\n",
       "      <td>0</td>\n",
       "    </tr>\n",
       "    <tr>\n",
       "      <th>1</th>\n",
       "      <td>4d5c57ea9a6940dd891ad53e9dbe8da0</td>\n",
       "      <td>10</td>\n",
       "      <td>5</td>\n",
       "      <td>bogo</td>\n",
       "      <td>10</td>\n",
       "      <td>1</td>\n",
       "      <td>0</td>\n",
       "      <td>0</td>\n",
       "      <td>1</td>\n",
       "      <td>1</td>\n",
       "      <td>1</td>\n",
       "      <td>1</td>\n",
       "    </tr>\n",
       "    <tr>\n",
       "      <th>2</th>\n",
       "      <td>3f207df678b143eea3cee63160fa8bed</td>\n",
       "      <td>0</td>\n",
       "      <td>4</td>\n",
       "      <td>informational</td>\n",
       "      <td>0</td>\n",
       "      <td>0</td>\n",
       "      <td>0</td>\n",
       "      <td>1</td>\n",
       "      <td>1</td>\n",
       "      <td>1</td>\n",
       "      <td>0</td>\n",
       "      <td>1</td>\n",
       "    </tr>\n",
       "    <tr>\n",
       "      <th>3</th>\n",
       "      <td>9b98b8c7a33c4b65b9aebfe6a799e6d9</td>\n",
       "      <td>5</td>\n",
       "      <td>7</td>\n",
       "      <td>bogo</td>\n",
       "      <td>5</td>\n",
       "      <td>1</td>\n",
       "      <td>0</td>\n",
       "      <td>0</td>\n",
       "      <td>1</td>\n",
       "      <td>1</td>\n",
       "      <td>0</td>\n",
       "      <td>1</td>\n",
       "    </tr>\n",
       "    <tr>\n",
       "      <th>4</th>\n",
       "      <td>0b1e1539f2cc45b7b9fa7c272da2e1d7</td>\n",
       "      <td>20</td>\n",
       "      <td>10</td>\n",
       "      <td>discount</td>\n",
       "      <td>5</td>\n",
       "      <td>0</td>\n",
       "      <td>1</td>\n",
       "      <td>0</td>\n",
       "      <td>1</td>\n",
       "      <td>0</td>\n",
       "      <td>0</td>\n",
       "      <td>1</td>\n",
       "    </tr>\n",
       "  </tbody>\n",
       "</table>\n",
       "</div>"
      ],
      "text/plain": [
       "                           offer_id  difficulty  duration     offer_type  \\\n",
       "0  ae264e3637204a6fb9bb56bc8210ddfd          10         7           bogo   \n",
       "1  4d5c57ea9a6940dd891ad53e9dbe8da0          10         5           bogo   \n",
       "2  3f207df678b143eea3cee63160fa8bed           0         4  informational   \n",
       "3  9b98b8c7a33c4b65b9aebfe6a799e6d9           5         7           bogo   \n",
       "4  0b1e1539f2cc45b7b9fa7c272da2e1d7          20        10       discount   \n",
       "\n",
       "   reward  bogo  discount  informational  channel_email  channel_mobile  \\\n",
       "0      10     1         0              0              1               1   \n",
       "1      10     1         0              0              1               1   \n",
       "2       0     0         0              1              1               1   \n",
       "3       5     1         0              0              1               1   \n",
       "4       5     0         1              0              1               0   \n",
       "\n",
       "   channel_social  channel_web  \n",
       "0               1            0  \n",
       "1               1            1  \n",
       "2               0            1  \n",
       "3               0            1  \n",
       "4               0            1  "
      ]
     },
     "execution_count": 7,
     "metadata": {},
     "output_type": "execute_result"
    }
   ],
   "source": [
    "# Clean portfolio df and view first few rows\n",
    "portfolio_clean = portfolio_clean(portfolio)\n",
    "portfolio_clean.head()"
   ]
  },
  {
   "cell_type": "markdown",
   "metadata": {},
   "source": [
    "## PROFILE DF"
   ]
  },
  {
   "cell_type": "code",
   "execution_count": 8,
   "metadata": {},
   "outputs": [
    {
     "data": {
      "text/html": [
       "<div>\n",
       "<style scoped>\n",
       "    .dataframe tbody tr th:only-of-type {\n",
       "        vertical-align: middle;\n",
       "    }\n",
       "\n",
       "    .dataframe tbody tr th {\n",
       "        vertical-align: top;\n",
       "    }\n",
       "\n",
       "    .dataframe thead th {\n",
       "        text-align: right;\n",
       "    }\n",
       "</style>\n",
       "<table border=\"1\" class=\"dataframe\">\n",
       "  <thead>\n",
       "    <tr style=\"text-align: right;\">\n",
       "      <th></th>\n",
       "      <th>age</th>\n",
       "      <th>became_member_on</th>\n",
       "      <th>gender</th>\n",
       "      <th>id</th>\n",
       "      <th>income</th>\n",
       "    </tr>\n",
       "  </thead>\n",
       "  <tbody>\n",
       "    <tr>\n",
       "      <th>0</th>\n",
       "      <td>118</td>\n",
       "      <td>20170212</td>\n",
       "      <td>None</td>\n",
       "      <td>68be06ca386d4c31939f3a4f0e3dd783</td>\n",
       "      <td>NaN</td>\n",
       "    </tr>\n",
       "    <tr>\n",
       "      <th>1</th>\n",
       "      <td>55</td>\n",
       "      <td>20170715</td>\n",
       "      <td>F</td>\n",
       "      <td>0610b486422d4921ae7d2bf64640c50b</td>\n",
       "      <td>112000.0</td>\n",
       "    </tr>\n",
       "    <tr>\n",
       "      <th>2</th>\n",
       "      <td>118</td>\n",
       "      <td>20180712</td>\n",
       "      <td>None</td>\n",
       "      <td>38fe809add3b4fcf9315a9694bb96ff5</td>\n",
       "      <td>NaN</td>\n",
       "    </tr>\n",
       "    <tr>\n",
       "      <th>3</th>\n",
       "      <td>75</td>\n",
       "      <td>20170509</td>\n",
       "      <td>F</td>\n",
       "      <td>78afa995795e4d85b5d9ceeca43f5fef</td>\n",
       "      <td>100000.0</td>\n",
       "    </tr>\n",
       "    <tr>\n",
       "      <th>4</th>\n",
       "      <td>118</td>\n",
       "      <td>20170804</td>\n",
       "      <td>None</td>\n",
       "      <td>a03223e636434f42ac4c3df47e8bac43</td>\n",
       "      <td>NaN</td>\n",
       "    </tr>\n",
       "  </tbody>\n",
       "</table>\n",
       "</div>"
      ],
      "text/plain": [
       "   age  became_member_on gender                                id    income\n",
       "0  118          20170212   None  68be06ca386d4c31939f3a4f0e3dd783       NaN\n",
       "1   55          20170715      F  0610b486422d4921ae7d2bf64640c50b  112000.0\n",
       "2  118          20180712   None  38fe809add3b4fcf9315a9694bb96ff5       NaN\n",
       "3   75          20170509      F  78afa995795e4d85b5d9ceeca43f5fef  100000.0\n",
       "4  118          20170804   None  a03223e636434f42ac4c3df47e8bac43       NaN"
      ]
     },
     "execution_count": 8,
     "metadata": {},
     "output_type": "execute_result"
    }
   ],
   "source": [
    "# Get first few rows of df\n",
    "profile.head()"
   ]
  },
  {
   "cell_type": "code",
   "execution_count": 9,
   "metadata": {},
   "outputs": [
    {
     "data": {
      "text/plain": [
       "(17000, 5)"
      ]
     },
     "execution_count": 9,
     "metadata": {},
     "output_type": "execute_result"
    }
   ],
   "source": [
    "# Get the number of rows and columns\n",
    "profile.shape"
   ]
  },
  {
   "cell_type": "code",
   "execution_count": 10,
   "metadata": {},
   "outputs": [
    {
     "data": {
      "text/html": [
       "<div>\n",
       "<style scoped>\n",
       "    .dataframe tbody tr th:only-of-type {\n",
       "        vertical-align: middle;\n",
       "    }\n",
       "\n",
       "    .dataframe tbody tr th {\n",
       "        vertical-align: top;\n",
       "    }\n",
       "\n",
       "    .dataframe thead th {\n",
       "        text-align: right;\n",
       "    }\n",
       "</style>\n",
       "<table border=\"1\" class=\"dataframe\">\n",
       "  <thead>\n",
       "    <tr style=\"text-align: right;\">\n",
       "      <th></th>\n",
       "      <th>age</th>\n",
       "      <th>became_member_on</th>\n",
       "      <th>gender</th>\n",
       "      <th>id</th>\n",
       "      <th>income</th>\n",
       "    </tr>\n",
       "  </thead>\n",
       "  <tbody>\n",
       "    <tr>\n",
       "      <th>16796</th>\n",
       "      <td>118</td>\n",
       "      <td>20151120</td>\n",
       "      <td>None</td>\n",
       "      <td>c4137a37c33446f2a22f59282865f6c5</td>\n",
       "      <td>NaN</td>\n",
       "    </tr>\n",
       "    <tr>\n",
       "      <th>2908</th>\n",
       "      <td>118</td>\n",
       "      <td>20160309</td>\n",
       "      <td>None</td>\n",
       "      <td>d79a422d00674d80a30311c203ad0e6b</td>\n",
       "      <td>NaN</td>\n",
       "    </tr>\n",
       "    <tr>\n",
       "      <th>4739</th>\n",
       "      <td>40</td>\n",
       "      <td>20180703</td>\n",
       "      <td>M</td>\n",
       "      <td>1e449ed491f64f1498d25b4160274edc</td>\n",
       "      <td>59000.0</td>\n",
       "    </tr>\n",
       "    <tr>\n",
       "      <th>10881</th>\n",
       "      <td>22</td>\n",
       "      <td>20180516</td>\n",
       "      <td>M</td>\n",
       "      <td>207333c76c074708b82abdea3883e76e</td>\n",
       "      <td>56000.0</td>\n",
       "    </tr>\n",
       "    <tr>\n",
       "      <th>2060</th>\n",
       "      <td>26</td>\n",
       "      <td>20171206</td>\n",
       "      <td>M</td>\n",
       "      <td>10983bae435748a3a300222adc9ee9ed</td>\n",
       "      <td>39000.0</td>\n",
       "    </tr>\n",
       "  </tbody>\n",
       "</table>\n",
       "</div>"
      ],
      "text/plain": [
       "       age  became_member_on gender                                id   income\n",
       "16796  118          20151120   None  c4137a37c33446f2a22f59282865f6c5      NaN\n",
       "2908   118          20160309   None  d79a422d00674d80a30311c203ad0e6b      NaN\n",
       "4739    40          20180703      M  1e449ed491f64f1498d25b4160274edc  59000.0\n",
       "10881   22          20180516      M  207333c76c074708b82abdea3883e76e  56000.0\n",
       "2060    26          20171206      M  10983bae435748a3a300222adc9ee9ed  39000.0"
      ]
     },
     "execution_count": 10,
     "metadata": {},
     "output_type": "execute_result"
    }
   ],
   "source": [
    "# Get a sample of df values\n",
    "profile.sample(5)"
   ]
  },
  {
   "cell_type": "code",
   "execution_count": 11,
   "metadata": {},
   "outputs": [
    {
     "name": "stdout",
     "output_type": "stream",
     "text": [
      "<class 'pandas.core.frame.DataFrame'>\n",
      "RangeIndex: 17000 entries, 0 to 16999\n",
      "Data columns (total 5 columns):\n",
      "age                 17000 non-null int64\n",
      "became_member_on    17000 non-null int64\n",
      "gender              14825 non-null object\n",
      "id                  17000 non-null object\n",
      "income              14825 non-null float64\n",
      "dtypes: float64(1), int64(2), object(2)\n",
      "memory usage: 664.1+ KB\n"
     ]
    }
   ],
   "source": [
    "# Get general information on df\n",
    "profile.info()"
   ]
  },
  {
   "cell_type": "code",
   "execution_count": 12,
   "metadata": {},
   "outputs": [
    {
     "data": {
      "text/plain": [
       "age                    0\n",
       "became_member_on       0\n",
       "gender              2175\n",
       "id                     0\n",
       "income              2175\n",
       "dtype: int64"
      ]
     },
     "execution_count": 12,
     "metadata": {},
     "output_type": "execute_result"
    }
   ],
   "source": [
    "# Find missing values in profile df\n",
    "profile.isnull().sum()"
   ]
  },
  {
   "cell_type": "code",
   "execution_count": 13,
   "metadata": {},
   "outputs": [
    {
     "data": {
      "text/html": [
       "<div>\n",
       "<style scoped>\n",
       "    .dataframe tbody tr th:only-of-type {\n",
       "        vertical-align: middle;\n",
       "    }\n",
       "\n",
       "    .dataframe tbody tr th {\n",
       "        vertical-align: top;\n",
       "    }\n",
       "\n",
       "    .dataframe thead th {\n",
       "        text-align: right;\n",
       "    }\n",
       "</style>\n",
       "<table border=\"1\" class=\"dataframe\">\n",
       "  <thead>\n",
       "    <tr style=\"text-align: right;\">\n",
       "      <th></th>\n",
       "      <th>age</th>\n",
       "      <th>became_member_on</th>\n",
       "      <th>income</th>\n",
       "    </tr>\n",
       "  </thead>\n",
       "  <tbody>\n",
       "    <tr>\n",
       "      <th>count</th>\n",
       "      <td>17000.000000</td>\n",
       "      <td>1.700000e+04</td>\n",
       "      <td>14825.000000</td>\n",
       "    </tr>\n",
       "    <tr>\n",
       "      <th>mean</th>\n",
       "      <td>62.531412</td>\n",
       "      <td>2.016703e+07</td>\n",
       "      <td>65404.991568</td>\n",
       "    </tr>\n",
       "    <tr>\n",
       "      <th>std</th>\n",
       "      <td>26.738580</td>\n",
       "      <td>1.167750e+04</td>\n",
       "      <td>21598.299410</td>\n",
       "    </tr>\n",
       "    <tr>\n",
       "      <th>min</th>\n",
       "      <td>18.000000</td>\n",
       "      <td>2.013073e+07</td>\n",
       "      <td>30000.000000</td>\n",
       "    </tr>\n",
       "    <tr>\n",
       "      <th>25%</th>\n",
       "      <td>45.000000</td>\n",
       "      <td>2.016053e+07</td>\n",
       "      <td>49000.000000</td>\n",
       "    </tr>\n",
       "    <tr>\n",
       "      <th>50%</th>\n",
       "      <td>58.000000</td>\n",
       "      <td>2.017080e+07</td>\n",
       "      <td>64000.000000</td>\n",
       "    </tr>\n",
       "    <tr>\n",
       "      <th>75%</th>\n",
       "      <td>73.000000</td>\n",
       "      <td>2.017123e+07</td>\n",
       "      <td>80000.000000</td>\n",
       "    </tr>\n",
       "    <tr>\n",
       "      <th>max</th>\n",
       "      <td>118.000000</td>\n",
       "      <td>2.018073e+07</td>\n",
       "      <td>120000.000000</td>\n",
       "    </tr>\n",
       "  </tbody>\n",
       "</table>\n",
       "</div>"
      ],
      "text/plain": [
       "                age  became_member_on         income\n",
       "count  17000.000000      1.700000e+04   14825.000000\n",
       "mean      62.531412      2.016703e+07   65404.991568\n",
       "std       26.738580      1.167750e+04   21598.299410\n",
       "min       18.000000      2.013073e+07   30000.000000\n",
       "25%       45.000000      2.016053e+07   49000.000000\n",
       "50%       58.000000      2.017080e+07   64000.000000\n",
       "75%       73.000000      2.017123e+07   80000.000000\n",
       "max      118.000000      2.018073e+07  120000.000000"
      ]
     },
     "execution_count": 13,
     "metadata": {},
     "output_type": "execute_result"
    }
   ],
   "source": [
    "# Get summary descriptive statistics\n",
    "profile.describe()"
   ]
  },
  {
   "cell_type": "code",
   "execution_count": 14,
   "metadata": {},
   "outputs": [
    {
     "data": {
      "image/png": "[encoded data removed]",
      "text/plain": [
       "<matplotlib.figure.Figure at 0x7fc7fe8da240>"
      ]
     },
     "metadata": {
      "needs_background": "light"
     },
     "output_type": "display_data"
    }
   ],
   "source": [
    "# Plot histogram\n",
    "profile.hist(figsize=(10,10));"
   ]
  },
  {
   "cell_type": "markdown",
   "metadata": {},
   "source": [
    "There seems to be a lot of rows with age 118 which is unusual. Lets investigate a little further"
   ]
  },
  {
   "cell_type": "code",
   "execution_count": 15,
   "metadata": {},
   "outputs": [
    {
     "name": "stdout",
     "output_type": "stream",
     "text": [
      "<class 'pandas.core.frame.DataFrame'>\n",
      "Int64Index: 2175 entries, 0 to 16994\n",
      "Data columns (total 5 columns):\n",
      "age                 2175 non-null int64\n",
      "became_member_on    2175 non-null int64\n",
      "gender              0 non-null object\n",
      "id                  2175 non-null object\n",
      "income              0 non-null float64\n",
      "dtypes: float64(1), int64(2), object(2)\n",
      "memory usage: 102.0+ KB\n"
     ]
    }
   ],
   "source": [
    "# Get df with only age 118\n",
    "only_118 = profile.query('age == 118')\n",
    "only_118.info()"
   ]
  },
  {
   "cell_type": "code",
   "execution_count": 16,
   "metadata": {},
   "outputs": [
    {
     "data": {
      "text/plain": [
       "(2175, 5)"
      ]
     },
     "execution_count": 16,
     "metadata": {},
     "output_type": "execute_result"
    }
   ],
   "source": [
    "# Get shape of df\n",
    "only_118.shape"
   ]
  },
  {
   "cell_type": "markdown",
   "metadata": {},
   "source": [
    "Those with 118 years are also missing key demographic information such as age and gender"
   ]
  },
  {
   "cell_type": "code",
   "execution_count": 17,
   "metadata": {},
   "outputs": [
    {
     "data": {
      "text/plain": [
       "M    8484\n",
       "F    6129\n",
       "O     212\n",
       "Name: gender, dtype: int64"
      ]
     },
     "execution_count": 17,
     "metadata": {},
     "output_type": "execute_result"
    }
   ],
   "source": [
    "# Lets get the gender counts\n",
    "gender_counts = profile.gender.value_counts()\n",
    "gender_counts"
   ]
  },
  {
   "cell_type": "markdown",
   "metadata": {},
   "source": [
    "#### Profile Assessment Issues\n",
    "\n",
    "- Change id to customer_id\n",
    "- Change position of id to first column\n",
    "- Change became_member_on to date type from integer\n",
    "- Dummy the gender column\n",
    "- There are 2175 missing values in the gender and income column"
   ]
  },
  {
   "cell_type": "markdown",
   "metadata": {},
   "source": [
    "#### Cleaning Code"
   ]
  },
  {
   "cell_type": "code",
   "execution_count": 18,
   "metadata": {},
   "outputs": [],
   "source": [
    "def clean_profile(profile):\n",
    "    \"\"\" Clean the profile dataset.\n",
    "    - make a copy of df\n",
    "    - Remove null values\n",
    "    - Change the date format\n",
    "    - Rearrange column position\n",
    "    - Rename the column name id to profile_id\n",
    "    - *Create column to identify customers with demographic data\n",
    "    - Dummy columns for gender\n",
    "    Input:\n",
    "    - profile: original dataset\n",
    "    Returns:\n",
    "    - profile_clean\n",
    "    \"\"\"\n",
    "    profile_clean = profile.copy()\n",
    "    \n",
    "    # Remove customers with null income data and gender\n",
    "    profile_clean = profile_clean.dropna(subset=['gender', 'income'])\n",
    "    \n",
    "    # Change became_member_on to date time type from integer\n",
    "    date = lambda x: pd.to_datetime(str(x), format='%Y%m%d')\n",
    "    profile_clean.became_member_on = profile_clean.became_member_on.apply(date)\n",
    "    \n",
    "    # Create a new column from \"became_member_on\" for the number of days since the user is a member of starbucks\n",
    "    profile_clean['days_as_member'] = pd.to_datetime('today') - profile_clean['became_member_on']\n",
    "    profile_clean['days_as_member'] = profile_clean['days_as_member'].dt.days\n",
    "    \n",
    "    # Rearrange column positions\n",
    "    profile_clean = profile_clean[['id', 'age','became_member_on', 'days_as_member', 'gender', 'income']]\n",
    "    \n",
    "    # Rename id to profile id\n",
    "    profile_clean.rename(columns={'id': 'customer_id'}, inplace=True)\n",
    "    \n",
    "#     # Dummy gender column\n",
    "#     gender_dummy = pd.get_dummies(profile_clean['gender'])\n",
    "    \n",
    "#     # Concat gender_dummy dfs to profile clean\n",
    "#     profile_clean = pd.concat([profile_clean, gender_dummy], axis=1)\n",
    "    \n",
    "#     # Drop channels and offer type columns\n",
    "#     profile_clean.drop(columns=['gender'], inplace=True)\n",
    "    \n",
    "\n",
    "    \n",
    "    return profile_clean"
   ]
  },
  {
   "cell_type": "code",
   "execution_count": 19,
   "metadata": {},
   "outputs": [],
   "source": [
    "profile_clean = clean_profile(profile)"
   ]
  },
  {
   "cell_type": "code",
   "execution_count": 20,
   "metadata": {},
   "outputs": [
    {
     "data": {
      "text/plain": [
       "<function date.today>"
      ]
     },
     "execution_count": 20,
     "metadata": {},
     "output_type": "execute_result"
    }
   ],
   "source": [
    "import datetime as dt     \n",
    "date = dt.date.today\n",
    "date"
   ]
  },
  {
   "cell_type": "code",
   "execution_count": 21,
   "metadata": {},
   "outputs": [
    {
     "data": {
      "text/plain": [
       "age                   int64\n",
       "became_member_on      int64\n",
       "gender               object\n",
       "id                   object\n",
       "income              float64\n",
       "dtype: object"
      ]
     },
     "execution_count": 21,
     "metadata": {},
     "output_type": "execute_result"
    }
   ],
   "source": [
    "profile.dtypes"
   ]
  },
  {
   "cell_type": "code",
   "execution_count": 22,
   "metadata": {},
   "outputs": [
    {
     "data": {
      "text/plain": [
       "M    0.572277\n",
       "F    0.413423\n",
       "O    0.014300\n",
       "Name: gender, dtype: float64"
      ]
     },
     "execution_count": 22,
     "metadata": {},
     "output_type": "execute_result"
    }
   ],
   "source": [
    "# Gender distribution\n",
    "profile_clean.gender.value_counts()/ profile_clean.shape[0]"
   ]
  },
  {
   "cell_type": "code",
   "execution_count": 23,
   "metadata": {},
   "outputs": [
    {
     "data": {
      "text/plain": [
       "count     14825.000000\n",
       "mean      65404.991568\n",
       "std       21598.299410\n",
       "min       30000.000000\n",
       "25%       49000.000000\n",
       "50%       64000.000000\n",
       "75%       80000.000000\n",
       "max      120000.000000\n",
       "Name: income, dtype: float64"
      ]
     },
     "execution_count": 23,
     "metadata": {},
     "output_type": "execute_result"
    }
   ],
   "source": [
    "profile_clean.income.describe()"
   ]
  },
  {
   "cell_type": "markdown",
   "metadata": {},
   "source": [
    "### ANALYSIS\n",
    "#### EXPLORE RELATIONSHIPS"
   ]
  },
  {
   "cell_type": "code",
   "execution_count": 24,
   "metadata": {},
   "outputs": [
    {
     "data": {
      "text/html": [
       "<div>\n",
       "<style scoped>\n",
       "    .dataframe tbody tr th:only-of-type {\n",
       "        vertical-align: middle;\n",
       "    }\n",
       "\n",
       "    .dataframe tbody tr th {\n",
       "        vertical-align: top;\n",
       "    }\n",
       "\n",
       "    .dataframe thead th {\n",
       "        text-align: right;\n",
       "    }\n",
       "</style>\n",
       "<table border=\"1\" class=\"dataframe\">\n",
       "  <thead>\n",
       "    <tr style=\"text-align: right;\">\n",
       "      <th></th>\n",
       "      <th>customer_id</th>\n",
       "      <th>age</th>\n",
       "      <th>became_member_on</th>\n",
       "      <th>days_as_member</th>\n",
       "      <th>gender</th>\n",
       "      <th>income</th>\n",
       "    </tr>\n",
       "  </thead>\n",
       "  <tbody>\n",
       "    <tr>\n",
       "      <th>1</th>\n",
       "      <td>0610b486422d4921ae7d2bf64640c50b</td>\n",
       "      <td>55</td>\n",
       "      <td>2017-07-15</td>\n",
       "      <td>1171</td>\n",
       "      <td>F</td>\n",
       "      <td>112000.0</td>\n",
       "    </tr>\n",
       "    <tr>\n",
       "      <th>3</th>\n",
       "      <td>78afa995795e4d85b5d9ceeca43f5fef</td>\n",
       "      <td>75</td>\n",
       "      <td>2017-05-09</td>\n",
       "      <td>1238</td>\n",
       "      <td>F</td>\n",
       "      <td>100000.0</td>\n",
       "    </tr>\n",
       "    <tr>\n",
       "      <th>5</th>\n",
       "      <td>e2127556f4f64592b11af22de27a7932</td>\n",
       "      <td>68</td>\n",
       "      <td>2018-04-26</td>\n",
       "      <td>886</td>\n",
       "      <td>M</td>\n",
       "      <td>70000.0</td>\n",
       "    </tr>\n",
       "    <tr>\n",
       "      <th>8</th>\n",
       "      <td>389bc3fa690240e798340f5a15918d5c</td>\n",
       "      <td>65</td>\n",
       "      <td>2018-02-09</td>\n",
       "      <td>962</td>\n",
       "      <td>M</td>\n",
       "      <td>53000.0</td>\n",
       "    </tr>\n",
       "    <tr>\n",
       "      <th>12</th>\n",
       "      <td>2eeac8d8feae4a8cad5a6af0499a211d</td>\n",
       "      <td>58</td>\n",
       "      <td>2017-11-11</td>\n",
       "      <td>1052</td>\n",
       "      <td>M</td>\n",
       "      <td>51000.0</td>\n",
       "    </tr>\n",
       "  </tbody>\n",
       "</table>\n",
       "</div>"
      ],
      "text/plain": [
       "                         customer_id  age became_member_on  days_as_member  \\\n",
       "1   0610b486422d4921ae7d2bf64640c50b   55       2017-07-15            1171   \n",
       "3   78afa995795e4d85b5d9ceeca43f5fef   75       2017-05-09            1238   \n",
       "5   e2127556f4f64592b11af22de27a7932   68       2018-04-26             886   \n",
       "8   389bc3fa690240e798340f5a15918d5c   65       2018-02-09             962   \n",
       "12  2eeac8d8feae4a8cad5a6af0499a211d   58       2017-11-11            1052   \n",
       "\n",
       "   gender    income  \n",
       "1       F  112000.0  \n",
       "3       F  100000.0  \n",
       "5       M   70000.0  \n",
       "8       M   53000.0  \n",
       "12      M   51000.0  "
      ]
     },
     "execution_count": 24,
     "metadata": {},
     "output_type": "execute_result"
    }
   ],
   "source": [
    "# Get first few rows of df\n",
    "profile_clean.head()"
   ]
  },
  {
   "cell_type": "code",
   "execution_count": 25,
   "metadata": {},
   "outputs": [
    {
     "data": {
      "image/png": "[encoded data removed]",
      "text/plain": [
       "<matplotlib.figure.Figure at 0x7fc7fe823668>"
      ]
     },
     "metadata": {
      "needs_background": "light"
     },
     "output_type": "display_data"
    }
   ],
   "source": [
    "# Plot histogram of df\n",
    "profile_clean.hist(figsize=(10,10));"
   ]
  },
  {
   "cell_type": "code",
   "execution_count": 26,
   "metadata": {},
   "outputs": [
    {
     "data": {
      "text/html": [
       "<div>\n",
       "<style scoped>\n",
       "    .dataframe tbody tr th:only-of-type {\n",
       "        vertical-align: middle;\n",
       "    }\n",
       "\n",
       "    .dataframe tbody tr th {\n",
       "        vertical-align: top;\n",
       "    }\n",
       "\n",
       "    .dataframe thead th {\n",
       "        text-align: right;\n",
       "    }\n",
       "</style>\n",
       "<table border=\"1\" class=\"dataframe\">\n",
       "  <thead>\n",
       "    <tr style=\"text-align: right;\">\n",
       "      <th></th>\n",
       "      <th>age</th>\n",
       "      <th>days_as_member</th>\n",
       "      <th>income</th>\n",
       "    </tr>\n",
       "  </thead>\n",
       "  <tbody>\n",
       "    <tr>\n",
       "      <th>count</th>\n",
       "      <td>14825.000000</td>\n",
       "      <td>14825.000000</td>\n",
       "      <td>14825.000000</td>\n",
       "    </tr>\n",
       "    <tr>\n",
       "      <th>mean</th>\n",
       "      <td>54.393524</td>\n",
       "      <td>1317.478988</td>\n",
       "      <td>65404.991568</td>\n",
       "    </tr>\n",
       "    <tr>\n",
       "      <th>std</th>\n",
       "      <td>17.383705</td>\n",
       "      <td>419.205158</td>\n",
       "      <td>21598.299410</td>\n",
       "    </tr>\n",
       "    <tr>\n",
       "      <th>min</th>\n",
       "      <td>18.000000</td>\n",
       "      <td>795.000000</td>\n",
       "      <td>30000.000000</td>\n",
       "    </tr>\n",
       "    <tr>\n",
       "      <th>25%</th>\n",
       "      <td>42.000000</td>\n",
       "      <td>1003.000000</td>\n",
       "      <td>49000.000000</td>\n",
       "    </tr>\n",
       "    <tr>\n",
       "      <th>50%</th>\n",
       "      <td>55.000000</td>\n",
       "      <td>1153.000000</td>\n",
       "      <td>64000.000000</td>\n",
       "    </tr>\n",
       "    <tr>\n",
       "      <th>75%</th>\n",
       "      <td>66.000000</td>\n",
       "      <td>1592.000000</td>\n",
       "      <td>80000.000000</td>\n",
       "    </tr>\n",
       "    <tr>\n",
       "      <th>max</th>\n",
       "      <td>101.000000</td>\n",
       "      <td>2618.000000</td>\n",
       "      <td>120000.000000</td>\n",
       "    </tr>\n",
       "  </tbody>\n",
       "</table>\n",
       "</div>"
      ],
      "text/plain": [
       "                age  days_as_member         income\n",
       "count  14825.000000    14825.000000   14825.000000\n",
       "mean      54.393524     1317.478988   65404.991568\n",
       "std       17.383705      419.205158   21598.299410\n",
       "min       18.000000      795.000000   30000.000000\n",
       "25%       42.000000     1003.000000   49000.000000\n",
       "50%       55.000000     1153.000000   64000.000000\n",
       "75%       66.000000     1592.000000   80000.000000\n",
       "max      101.000000     2618.000000  120000.000000"
      ]
     },
     "execution_count": 26,
     "metadata": {},
     "output_type": "execute_result"
    }
   ],
   "source": [
    "profile_clean.describe()"
   ]
  },
  {
   "cell_type": "code",
   "execution_count": 27,
   "metadata": {},
   "outputs": [],
   "source": [
    "age_income = profile_clean.groupby('age').mean().income"
   ]
  },
  {
   "cell_type": "code",
   "execution_count": 28,
   "metadata": {},
   "outputs": [
    {
     "data": {
      "image/png": "[encoded data removed]",
      "text/plain": [
       "<matplotlib.figure.Figure at 0x7fc7fe895e10>"
      ]
     },
     "metadata": {
      "needs_background": "light"
     },
     "output_type": "display_data"
    }
   ],
   "source": [
    "# Plot line chart\n",
    "plt.figure(figsize=(12,6))\n",
    "plt.plot(age_income);\n",
    "plt.xlabel(\"Age\")\n",
    "plt.ylabel(\"Income\")\n",
    "plt.title(\"Age vs Income\")\n",
    "# plt.xticks(rotation=15)\n",
    "# ytick = np.arange(0, 12+2, 2)\n",
    "# plt.yticks(ytick)\n",
    "plt.show();"
   ]
  },
  {
   "cell_type": "code",
   "execution_count": 29,
   "metadata": {},
   "outputs": [
    {
     "data": {
      "text/html": [
       "<div>\n",
       "<style scoped>\n",
       "    .dataframe tbody tr th:only-of-type {\n",
       "        vertical-align: middle;\n",
       "    }\n",
       "\n",
       "    .dataframe tbody tr th {\n",
       "        vertical-align: top;\n",
       "    }\n",
       "\n",
       "    .dataframe thead th {\n",
       "        text-align: right;\n",
       "    }\n",
       "</style>\n",
       "<table border=\"1\" class=\"dataframe\">\n",
       "  <thead>\n",
       "    <tr style=\"text-align: right;\">\n",
       "      <th></th>\n",
       "      <th>customer_id</th>\n",
       "      <th>age</th>\n",
       "      <th>became_member_on</th>\n",
       "      <th>days_as_member</th>\n",
       "      <th>gender</th>\n",
       "      <th>income</th>\n",
       "    </tr>\n",
       "  </thead>\n",
       "  <tbody>\n",
       "    <tr>\n",
       "      <th>1</th>\n",
       "      <td>0610b486422d4921ae7d2bf64640c50b</td>\n",
       "      <td>55</td>\n",
       "      <td>2017-07-15</td>\n",
       "      <td>1171</td>\n",
       "      <td>F</td>\n",
       "      <td>112000.0</td>\n",
       "    </tr>\n",
       "    <tr>\n",
       "      <th>3</th>\n",
       "      <td>78afa995795e4d85b5d9ceeca43f5fef</td>\n",
       "      <td>75</td>\n",
       "      <td>2017-05-09</td>\n",
       "      <td>1238</td>\n",
       "      <td>F</td>\n",
       "      <td>100000.0</td>\n",
       "    </tr>\n",
       "    <tr>\n",
       "      <th>5</th>\n",
       "      <td>e2127556f4f64592b11af22de27a7932</td>\n",
       "      <td>68</td>\n",
       "      <td>2018-04-26</td>\n",
       "      <td>886</td>\n",
       "      <td>M</td>\n",
       "      <td>70000.0</td>\n",
       "    </tr>\n",
       "    <tr>\n",
       "      <th>8</th>\n",
       "      <td>389bc3fa690240e798340f5a15918d5c</td>\n",
       "      <td>65</td>\n",
       "      <td>2018-02-09</td>\n",
       "      <td>962</td>\n",
       "      <td>M</td>\n",
       "      <td>53000.0</td>\n",
       "    </tr>\n",
       "    <tr>\n",
       "      <th>12</th>\n",
       "      <td>2eeac8d8feae4a8cad5a6af0499a211d</td>\n",
       "      <td>58</td>\n",
       "      <td>2017-11-11</td>\n",
       "      <td>1052</td>\n",
       "      <td>M</td>\n",
       "      <td>51000.0</td>\n",
       "    </tr>\n",
       "  </tbody>\n",
       "</table>\n",
       "</div>"
      ],
      "text/plain": [
       "                         customer_id  age became_member_on  days_as_member  \\\n",
       "1   0610b486422d4921ae7d2bf64640c50b   55       2017-07-15            1171   \n",
       "3   78afa995795e4d85b5d9ceeca43f5fef   75       2017-05-09            1238   \n",
       "5   e2127556f4f64592b11af22de27a7932   68       2018-04-26             886   \n",
       "8   389bc3fa690240e798340f5a15918d5c   65       2018-02-09             962   \n",
       "12  2eeac8d8feae4a8cad5a6af0499a211d   58       2017-11-11            1052   \n",
       "\n",
       "   gender    income  \n",
       "1       F  112000.0  \n",
       "3       F  100000.0  \n",
       "5       M   70000.0  \n",
       "8       M   53000.0  \n",
       "12      M   51000.0  "
      ]
     },
     "execution_count": 29,
     "metadata": {},
     "output_type": "execute_result"
    }
   ],
   "source": [
    "profile_clean.head()"
   ]
  },
  {
   "cell_type": "code",
   "execution_count": 30,
   "metadata": {},
   "outputs": [],
   "source": [
    "# Lets get the gender counts after cleaning\n",
    "#profile_clean.F.mean(), profile_clean.M.mean(), "
   ]
  },
  {
   "cell_type": "code",
   "execution_count": null,
   "metadata": {},
   "outputs": [],
   "source": []
  },
  {
   "cell_type": "code",
   "execution_count": 31,
   "metadata": {},
   "outputs": [
    {
     "data": {
      "text/plain": [
       "became_member_on\n",
       "2013-12-31     274\n",
       "2014-12-31     662\n",
       "2015-12-31    1597\n",
       "2016-12-31    3024\n",
       "2017-12-31    5599\n",
       "2018-12-31    3669\n",
       "Freq: A-DEC, Name: customer_id, dtype: int64"
      ]
     },
     "execution_count": 31,
     "metadata": {},
     "output_type": "execute_result"
    }
   ],
   "source": [
    "# Membership by year\n",
    "start_year = profile_clean.groupby(pd.Grouper(key='became_member_on', freq='Y')).count().customer_id\n",
    "start_year"
   ]
  },
  {
   "cell_type": "code",
   "execution_count": 32,
   "metadata": {},
   "outputs": [
    {
     "data": {
      "image/png": "[encoded data removed]",
      "text/plain": [
       "<matplotlib.figure.Figure at 0x7fc7fe6b2a58>"
      ]
     },
     "metadata": {
      "needs_background": "light"
     },
     "output_type": "display_data"
    }
   ],
   "source": [
    "# Plot line chart\n",
    "plt.figure(figsize=(12,4))\n",
    "plt.plot(start_year)\n",
    "plt.xlabel('Year')\n",
    "plt.ylabel('Number of people')\n",
    "plt.title('Membership date of customers');"
   ]
  },
  {
   "cell_type": "code",
   "execution_count": 33,
   "metadata": {},
   "outputs": [
    {
     "data": {
      "image/png": "[encoded data removed]",
      "text/plain": [
       "<matplotlib.figure.Figure at 0x7fc7fe6e94a8>"
      ]
     },
     "metadata": {
      "needs_background": "light"
     },
     "output_type": "display_data"
    }
   ],
   "source": [
    "# Plot bar chart\n",
    "plt.figure(figsize = [10, 8])\n",
    "start_year.plot(kind=\"bar\", color=\"blue\")\n",
    "plt.title('Membership by Year')\n",
    "plt.xlabel('Year')\n",
    "plt.ylabel('Count');"
   ]
  },
  {
   "cell_type": "markdown",
   "metadata": {},
   "source": [
    "The membership has been growing year on year except 2018 where it dropped off"
   ]
  },
  {
   "cell_type": "code",
   "execution_count": 34,
   "metadata": {},
   "outputs": [],
   "source": [
    "# Group by gender and get income\n",
    "gender_income = profile.groupby('gender').mean().income"
   ]
  },
  {
   "cell_type": "code",
   "execution_count": 35,
   "metadata": {},
   "outputs": [
    {
     "data": {
      "image/png": "[encoded data removed]",
      "text/plain": [
       "<matplotlib.figure.Figure at 0x7fc7fe7162e8>"
      ]
     },
     "metadata": {
      "needs_background": "light"
     },
     "output_type": "display_data"
    }
   ],
   "source": [
    "# Plot income by gender bar chart\n",
    "gender_income.plot(kind=\"bar\", color=\"blue\")\n",
    "plt.title('Income by Gender')\n",
    "plt.xlabel('Gender')\n",
    "plt.ylabel('Mean Income');"
   ]
  },
  {
   "cell_type": "markdown",
   "metadata": {},
   "source": [
    "### Transcipt\n"
   ]
  },
  {
   "cell_type": "markdown",
   "metadata": {},
   "source": [
    "#### ASSESSMENT"
   ]
  },
  {
   "cell_type": "code",
   "execution_count": 36,
   "metadata": {},
   "outputs": [
    {
     "data": {
      "text/html": [
       "<div>\n",
       "<style scoped>\n",
       "    .dataframe tbody tr th:only-of-type {\n",
       "        vertical-align: middle;\n",
       "    }\n",
       "\n",
       "    .dataframe tbody tr th {\n",
       "        vertical-align: top;\n",
       "    }\n",
       "\n",
       "    .dataframe thead th {\n",
       "        text-align: right;\n",
       "    }\n",
       "</style>\n",
       "<table border=\"1\" class=\"dataframe\">\n",
       "  <thead>\n",
       "    <tr style=\"text-align: right;\">\n",
       "      <th></th>\n",
       "      <th>event</th>\n",
       "      <th>person</th>\n",
       "      <th>time</th>\n",
       "      <th>value</th>\n",
       "    </tr>\n",
       "  </thead>\n",
       "  <tbody>\n",
       "    <tr>\n",
       "      <th>0</th>\n",
       "      <td>offer received</td>\n",
       "      <td>78afa995795e4d85b5d9ceeca43f5fef</td>\n",
       "      <td>0</td>\n",
       "      <td>{'offer id': '9b98b8c7a33c4b65b9aebfe6a799e6d9'}</td>\n",
       "    </tr>\n",
       "    <tr>\n",
       "      <th>1</th>\n",
       "      <td>offer received</td>\n",
       "      <td>a03223e636434f42ac4c3df47e8bac43</td>\n",
       "      <td>0</td>\n",
       "      <td>{'offer id': '0b1e1539f2cc45b7b9fa7c272da2e1d7'}</td>\n",
       "    </tr>\n",
       "    <tr>\n",
       "      <th>2</th>\n",
       "      <td>offer received</td>\n",
       "      <td>e2127556f4f64592b11af22de27a7932</td>\n",
       "      <td>0</td>\n",
       "      <td>{'offer id': '2906b810c7d4411798c6938adc9daaa5'}</td>\n",
       "    </tr>\n",
       "    <tr>\n",
       "      <th>3</th>\n",
       "      <td>offer received</td>\n",
       "      <td>8ec6ce2a7e7949b1bf142def7d0e0586</td>\n",
       "      <td>0</td>\n",
       "      <td>{'offer id': 'fafdcd668e3743c1bb461111dcafc2a4'}</td>\n",
       "    </tr>\n",
       "    <tr>\n",
       "      <th>4</th>\n",
       "      <td>offer received</td>\n",
       "      <td>68617ca6246f4fbc85e91a2a49552598</td>\n",
       "      <td>0</td>\n",
       "      <td>{'offer id': '4d5c57ea9a6940dd891ad53e9dbe8da0'}</td>\n",
       "    </tr>\n",
       "  </tbody>\n",
       "</table>\n",
       "</div>"
      ],
      "text/plain": [
       "            event                            person  time  \\\n",
       "0  offer received  78afa995795e4d85b5d9ceeca43f5fef     0   \n",
       "1  offer received  a03223e636434f42ac4c3df47e8bac43     0   \n",
       "2  offer received  e2127556f4f64592b11af22de27a7932     0   \n",
       "3  offer received  8ec6ce2a7e7949b1bf142def7d0e0586     0   \n",
       "4  offer received  68617ca6246f4fbc85e91a2a49552598     0   \n",
       "\n",
       "                                              value  \n",
       "0  {'offer id': '9b98b8c7a33c4b65b9aebfe6a799e6d9'}  \n",
       "1  {'offer id': '0b1e1539f2cc45b7b9fa7c272da2e1d7'}  \n",
       "2  {'offer id': '2906b810c7d4411798c6938adc9daaa5'}  \n",
       "3  {'offer id': 'fafdcd668e3743c1bb461111dcafc2a4'}  \n",
       "4  {'offer id': '4d5c57ea9a6940dd891ad53e9dbe8da0'}  "
      ]
     },
     "execution_count": 36,
     "metadata": {},
     "output_type": "execute_result"
    }
   ],
   "source": [
    "# View first few rows of df\n",
    "transcript.head()"
   ]
  },
  {
   "cell_type": "code",
   "execution_count": 37,
   "metadata": {},
   "outputs": [
    {
     "data": {
      "text/html": [
       "<div>\n",
       "<style scoped>\n",
       "    .dataframe tbody tr th:only-of-type {\n",
       "        vertical-align: middle;\n",
       "    }\n",
       "\n",
       "    .dataframe tbody tr th {\n",
       "        vertical-align: top;\n",
       "    }\n",
       "\n",
       "    .dataframe thead th {\n",
       "        text-align: right;\n",
       "    }\n",
       "</style>\n",
       "<table border=\"1\" class=\"dataframe\">\n",
       "  <thead>\n",
       "    <tr style=\"text-align: right;\">\n",
       "      <th></th>\n",
       "      <th>event</th>\n",
       "      <th>person</th>\n",
       "      <th>time</th>\n",
       "      <th>value</th>\n",
       "    </tr>\n",
       "  </thead>\n",
       "  <tbody>\n",
       "    <tr>\n",
       "      <th>149577</th>\n",
       "      <td>offer viewed</td>\n",
       "      <td>638eb4b1d24b48e1bbcb15e5b5326650</td>\n",
       "      <td>402</td>\n",
       "      <td>{'offer id': '4d5c57ea9a6940dd891ad53e9dbe8da0'}</td>\n",
       "    </tr>\n",
       "    <tr>\n",
       "      <th>144255</th>\n",
       "      <td>transaction</td>\n",
       "      <td>cc3c53d1212c42d99bcb4a1f016239e3</td>\n",
       "      <td>384</td>\n",
       "      <td>{'amount': 8.77}</td>\n",
       "    </tr>\n",
       "    <tr>\n",
       "      <th>191676</th>\n",
       "      <td>transaction</td>\n",
       "      <td>a104f5f8f470487693d626d36317dcf7</td>\n",
       "      <td>468</td>\n",
       "      <td>{'amount': 5.71}</td>\n",
       "    </tr>\n",
       "    <tr>\n",
       "      <th>108590</th>\n",
       "      <td>offer viewed</td>\n",
       "      <td>8b187db07b274a9583550f15a397c0d0</td>\n",
       "      <td>318</td>\n",
       "      <td>{'offer id': '5a8bc65990b245e5a138643cd4eb9837'}</td>\n",
       "    </tr>\n",
       "    <tr>\n",
       "      <th>262781</th>\n",
       "      <td>transaction</td>\n",
       "      <td>9b7cf5a50ea1407c84b87fdea5459b87</td>\n",
       "      <td>582</td>\n",
       "      <td>{'amount': 3.07}</td>\n",
       "    </tr>\n",
       "  </tbody>\n",
       "</table>\n",
       "</div>"
      ],
      "text/plain": [
       "               event                            person  time  \\\n",
       "149577  offer viewed  638eb4b1d24b48e1bbcb15e5b5326650   402   \n",
       "144255   transaction  cc3c53d1212c42d99bcb4a1f016239e3   384   \n",
       "191676   transaction  a104f5f8f470487693d626d36317dcf7   468   \n",
       "108590  offer viewed  8b187db07b274a9583550f15a397c0d0   318   \n",
       "262781   transaction  9b7cf5a50ea1407c84b87fdea5459b87   582   \n",
       "\n",
       "                                                   value  \n",
       "149577  {'offer id': '4d5c57ea9a6940dd891ad53e9dbe8da0'}  \n",
       "144255                                  {'amount': 8.77}  \n",
       "191676                                  {'amount': 5.71}  \n",
       "108590  {'offer id': '5a8bc65990b245e5a138643cd4eb9837'}  \n",
       "262781                                  {'amount': 3.07}  "
      ]
     },
     "execution_count": 37,
     "metadata": {},
     "output_type": "execute_result"
    }
   ],
   "source": [
    "# Get sample rows from the dataframe\n",
    "transcript.sample(5)"
   ]
  },
  {
   "cell_type": "code",
   "execution_count": 38,
   "metadata": {},
   "outputs": [
    {
     "name": "stdout",
     "output_type": "stream",
     "text": [
      "<class 'pandas.core.frame.DataFrame'>\n",
      "RangeIndex: 306534 entries, 0 to 306533\n",
      "Data columns (total 4 columns):\n",
      "event     306534 non-null object\n",
      "person    306534 non-null object\n",
      "time      306534 non-null int64\n",
      "value     306534 non-null object\n",
      "dtypes: int64(1), object(3)\n",
      "memory usage: 9.4+ MB\n"
     ]
    }
   ],
   "source": [
    "# Get general info on dataset\n",
    "transcript.info()"
   ]
  },
  {
   "cell_type": "code",
   "execution_count": 39,
   "metadata": {},
   "outputs": [
    {
     "data": {
      "text/plain": [
       "transaction        138953\n",
       "offer received      76277\n",
       "offer viewed        57725\n",
       "offer completed     33579\n",
       "Name: event, dtype: int64"
      ]
     },
     "execution_count": 39,
     "metadata": {},
     "output_type": "execute_result"
    }
   ],
   "source": [
    "# Get the event counts in the transcript df\n",
    "transcript.event.value_counts()"
   ]
  },
  {
   "cell_type": "code",
   "execution_count": 40,
   "metadata": {},
   "outputs": [
    {
     "data": {
      "text/plain": [
       "(306534, 4)"
      ]
     },
     "execution_count": 40,
     "metadata": {},
     "output_type": "execute_result"
    }
   ],
   "source": [
    "transcript.shape"
   ]
  },
  {
   "cell_type": "markdown",
   "metadata": {},
   "source": [
    "#### Transcipt Assessment Issues\n",
    "\n",
    "- Rename person to customer_id\n",
    "- Change position of customer_id column to first\n",
    "- separate value column into offer_id and amount and reward_x and y\n",
    "- Split event column into 4 and dummy\n",
    "- Convert time in hours to days and rename column"
   ]
  },
  {
   "cell_type": "code",
   "execution_count": 41,
   "metadata": {},
   "outputs": [
    {
     "data": {
      "text/html": [
       "<div>\n",
       "<style scoped>\n",
       "    .dataframe tbody tr th:only-of-type {\n",
       "        vertical-align: middle;\n",
       "    }\n",
       "\n",
       "    .dataframe tbody tr th {\n",
       "        vertical-align: top;\n",
       "    }\n",
       "\n",
       "    .dataframe thead th {\n",
       "        text-align: right;\n",
       "    }\n",
       "</style>\n",
       "<table border=\"1\" class=\"dataframe\">\n",
       "  <thead>\n",
       "    <tr style=\"text-align: right;\">\n",
       "      <th></th>\n",
       "      <th>event</th>\n",
       "      <th>person</th>\n",
       "      <th>time</th>\n",
       "      <th>value</th>\n",
       "    </tr>\n",
       "  </thead>\n",
       "  <tbody>\n",
       "    <tr>\n",
       "      <th>0</th>\n",
       "      <td>offer received</td>\n",
       "      <td>78afa995795e4d85b5d9ceeca43f5fef</td>\n",
       "      <td>0</td>\n",
       "      <td>{'offer id': '9b98b8c7a33c4b65b9aebfe6a799e6d9'}</td>\n",
       "    </tr>\n",
       "    <tr>\n",
       "      <th>1</th>\n",
       "      <td>offer received</td>\n",
       "      <td>a03223e636434f42ac4c3df47e8bac43</td>\n",
       "      <td>0</td>\n",
       "      <td>{'offer id': '0b1e1539f2cc45b7b9fa7c272da2e1d7'}</td>\n",
       "    </tr>\n",
       "  </tbody>\n",
       "</table>\n",
       "</div>"
      ],
      "text/plain": [
       "            event                            person  time  \\\n",
       "0  offer received  78afa995795e4d85b5d9ceeca43f5fef     0   \n",
       "1  offer received  a03223e636434f42ac4c3df47e8bac43     0   \n",
       "\n",
       "                                              value  \n",
       "0  {'offer id': '9b98b8c7a33c4b65b9aebfe6a799e6d9'}  \n",
       "1  {'offer id': '0b1e1539f2cc45b7b9fa7c272da2e1d7'}  "
      ]
     },
     "execution_count": 41,
     "metadata": {},
     "output_type": "execute_result"
    }
   ],
   "source": [
    "trans = transcript.copy()\n",
    "trans.head(2)"
   ]
  },
  {
   "cell_type": "code",
   "execution_count": 42,
   "metadata": {},
   "outputs": [],
   "source": [
    "#Convert from hours to days\n",
    "trans['time'] /= 24.0\n",
    "#Rename time to days\n",
    "trans.rename(columns={'time': 'day'}, inplace=True)"
   ]
  },
  {
   "cell_type": "code",
   "execution_count": 43,
   "metadata": {},
   "outputs": [
    {
     "data": {
      "image/png": "[encoded data removed]",
      "text/plain": [
       "<matplotlib.figure.Figure at 0x7fc7fe85c940>"
      ]
     },
     "metadata": {
      "needs_background": "light"
     },
     "output_type": "display_data"
    }
   ],
   "source": [
    "# Get counts of the different events\n",
    "events = transcript.event.value_counts()\n",
    "# Plot events bar chart\n",
    "events.plot(kind=\"bar\", color=\"blue\")\n",
    "plt.title('Events Count')\n",
    "plt.xlabel('Event')\n",
    "plt.ylabel('Count');"
   ]
  },
  {
   "cell_type": "markdown",
   "metadata": {},
   "source": [
    "#### Cleaning Code"
   ]
  },
  {
   "cell_type": "code",
   "execution_count": 44,
   "metadata": {},
   "outputs": [],
   "source": [
    "def clean_transcript(transcript):\n",
    "    \n",
    "    \"\"\" Transforms a DataFrame that contains records for events, customer_id, times and\n",
    "    values\n",
    "    Clean the profile dataset:\n",
    "    - Rename person to customer_id\n",
    "    - Change position of customer_id column to first\n",
    "    - separate value column into offer_id and amount and reward_x and y\n",
    "    - Split event column into 4 and dummy\n",
    "    - Convert time in hours to days and rename column\n",
    "    \n",
    "    INPUT:\n",
    "        transcript: DataFrame that contains demographic data for each \n",
    "                 customer\n",
    "       \n",
    "    OUTPUT:\n",
    "        clean transcript dataframe with\n",
    "        offer_data: DataFrame that describes customer offer data\n",
    "        transaction: DataFrame that describes customer transactions\n",
    "    \"\"\"\n",
    "    # Make a copy of transcript df\n",
    "    transcript_clean = transcript.copy()\n",
    "    \n",
    "    # Rearrange column positions\n",
    "    transcript_clean = transcript_clean[['person', 'event','time', 'value']]\n",
    "    \n",
    "    # Rename id to profile id\n",
    "    transcript_clean.rename(columns={'person': 'customer_id'}, inplace=True)\n",
    "    \n",
    "    # Convert from hours to days\n",
    "    #transcript['time'] /= 24.0\n",
    "    # Rename time to days\n",
    "    #transcript_clean.rename(columns={'time': 'day'}, inplace=True)\n",
    "    \n",
    "    # Remove customer id's that are not in the customer profile DataFrame\n",
    "    data = transcript_clean['customer_id'].isin(profile_clean['customer_id'])\n",
    "    transcript_clean = transcript_clean[data]\n",
    "\n",
    "    # Split event column into 4 and dummy\n",
    "    transcript_clean.event = transcript_clean.event.str.replace(' ', '_')\n",
    "    dummy_event = pd.get_dummies(transcript_clean.event, prefix=\"event\")\n",
    "    \n",
    "    # Join transcipt df and dummy table and drop event column\n",
    "    transcript_clean = pd.concat([transcript_clean, dummy_event], axis=1,\n",
    "                                 sort=False)\n",
    "    transcript_clean.drop(columns='event', inplace=True)\n",
    "    \n",
    "    # Create an offer_id column\n",
    "    transcript_clean['offer_id'] =\\\n",
    "            transcript_clean['value'].apply(lambda elem: list(elem.values())[0])\n",
    "    \n",
    "    # Create offer_id column from the value column\n",
    "    transcript_clean['offer_id'] = [[*v.values()][0]\n",
    "                                    if [*v.keys()][0] in ['offer id',\n",
    "                                                          'offer_id'] else None\n",
    "                                    for v in transcript_clean.value]\n",
    "    # Create amount column from the value column\n",
    "#     transcript_clean['amount','reward'] = [np.round([*v.values()][0], decimals=2)\n",
    "#                                   if [*v.keys()][0] == 'amount' else None\n",
    "#                                   for v in transcript_clean.value]\n",
    "    \n",
    "    for i in [\"amount\", \"reward\"]:\n",
    "        transcript_clean[i] = transcript_clean['value'].apply(lambda x: x[i] if i in x else np.nan)\n",
    "    \n",
    "    transcript_clean.drop(columns='value', inplace=True)\n",
    "    \n",
    "    return transcript_clean"
   ]
  },
  {
   "cell_type": "code",
   "execution_count": 45,
   "metadata": {},
   "outputs": [],
   "source": [
    "# Clean transcript df\n",
    "transcript_clean = clean_transcript(transcript)"
   ]
  },
  {
   "cell_type": "code",
   "execution_count": 46,
   "metadata": {},
   "outputs": [
    {
     "data": {
      "text/html": [
       "<div>\n",
       "<style scoped>\n",
       "    .dataframe tbody tr th:only-of-type {\n",
       "        vertical-align: middle;\n",
       "    }\n",
       "\n",
       "    .dataframe tbody tr th {\n",
       "        vertical-align: top;\n",
       "    }\n",
       "\n",
       "    .dataframe thead th {\n",
       "        text-align: right;\n",
       "    }\n",
       "</style>\n",
       "<table border=\"1\" class=\"dataframe\">\n",
       "  <thead>\n",
       "    <tr style=\"text-align: right;\">\n",
       "      <th></th>\n",
       "      <th>customer_id</th>\n",
       "      <th>time</th>\n",
       "      <th>event_offer_completed</th>\n",
       "      <th>event_offer_received</th>\n",
       "      <th>event_offer_viewed</th>\n",
       "      <th>event_transaction</th>\n",
       "      <th>offer_id</th>\n",
       "      <th>amount</th>\n",
       "      <th>reward</th>\n",
       "    </tr>\n",
       "  </thead>\n",
       "  <tbody>\n",
       "    <tr>\n",
       "      <th>0</th>\n",
       "      <td>78afa995795e4d85b5d9ceeca43f5fef</td>\n",
       "      <td>0</td>\n",
       "      <td>0</td>\n",
       "      <td>1</td>\n",
       "      <td>0</td>\n",
       "      <td>0</td>\n",
       "      <td>9b98b8c7a33c4b65b9aebfe6a799e6d9</td>\n",
       "      <td>NaN</td>\n",
       "      <td>NaN</td>\n",
       "    </tr>\n",
       "    <tr>\n",
       "      <th>2</th>\n",
       "      <td>e2127556f4f64592b11af22de27a7932</td>\n",
       "      <td>0</td>\n",
       "      <td>0</td>\n",
       "      <td>1</td>\n",
       "      <td>0</td>\n",
       "      <td>0</td>\n",
       "      <td>2906b810c7d4411798c6938adc9daaa5</td>\n",
       "      <td>NaN</td>\n",
       "      <td>NaN</td>\n",
       "    </tr>\n",
       "    <tr>\n",
       "      <th>5</th>\n",
       "      <td>389bc3fa690240e798340f5a15918d5c</td>\n",
       "      <td>0</td>\n",
       "      <td>0</td>\n",
       "      <td>1</td>\n",
       "      <td>0</td>\n",
       "      <td>0</td>\n",
       "      <td>f19421c1d4aa40978ebb69ca19b0e20d</td>\n",
       "      <td>NaN</td>\n",
       "      <td>NaN</td>\n",
       "    </tr>\n",
       "    <tr>\n",
       "      <th>7</th>\n",
       "      <td>2eeac8d8feae4a8cad5a6af0499a211d</td>\n",
       "      <td>0</td>\n",
       "      <td>0</td>\n",
       "      <td>1</td>\n",
       "      <td>0</td>\n",
       "      <td>0</td>\n",
       "      <td>3f207df678b143eea3cee63160fa8bed</td>\n",
       "      <td>NaN</td>\n",
       "      <td>NaN</td>\n",
       "    </tr>\n",
       "    <tr>\n",
       "      <th>8</th>\n",
       "      <td>aa4862eba776480b8bb9c68455b8c2e1</td>\n",
       "      <td>0</td>\n",
       "      <td>0</td>\n",
       "      <td>1</td>\n",
       "      <td>0</td>\n",
       "      <td>0</td>\n",
       "      <td>0b1e1539f2cc45b7b9fa7c272da2e1d7</td>\n",
       "      <td>NaN</td>\n",
       "      <td>NaN</td>\n",
       "    </tr>\n",
       "  </tbody>\n",
       "</table>\n",
       "</div>"
      ],
      "text/plain": [
       "                        customer_id  time  event_offer_completed  \\\n",
       "0  78afa995795e4d85b5d9ceeca43f5fef     0                      0   \n",
       "2  e2127556f4f64592b11af22de27a7932     0                      0   \n",
       "5  389bc3fa690240e798340f5a15918d5c     0                      0   \n",
       "7  2eeac8d8feae4a8cad5a6af0499a211d     0                      0   \n",
       "8  aa4862eba776480b8bb9c68455b8c2e1     0                      0   \n",
       "\n",
       "   event_offer_received  event_offer_viewed  event_transaction  \\\n",
       "0                     1                   0                  0   \n",
       "2                     1                   0                  0   \n",
       "5                     1                   0                  0   \n",
       "7                     1                   0                  0   \n",
       "8                     1                   0                  0   \n",
       "\n",
       "                           offer_id  amount  reward  \n",
       "0  9b98b8c7a33c4b65b9aebfe6a799e6d9     NaN     NaN  \n",
       "2  2906b810c7d4411798c6938adc9daaa5     NaN     NaN  \n",
       "5  f19421c1d4aa40978ebb69ca19b0e20d     NaN     NaN  \n",
       "7  3f207df678b143eea3cee63160fa8bed     NaN     NaN  \n",
       "8  0b1e1539f2cc45b7b9fa7c272da2e1d7     NaN     NaN  "
      ]
     },
     "execution_count": 46,
     "metadata": {},
     "output_type": "execute_result"
    }
   ],
   "source": [
    "# View first few rows\n",
    "transcript_clean.head()"
   ]
  },
  {
   "cell_type": "code",
   "execution_count": 47,
   "metadata": {},
   "outputs": [
    {
     "data": {
      "text/plain": [
       "(374, 0, 0)"
      ]
     },
     "execution_count": 47,
     "metadata": {},
     "output_type": "execute_result"
    }
   ],
   "source": [
    "# lets check for duplicated values in the cleaned dfs\n",
    "transcript_clean.duplicated().sum(), portfolio_clean.duplicated().sum(), profile_clean.duplicated().sum()"
   ]
  },
  {
   "cell_type": "code",
   "execution_count": 48,
   "metadata": {},
   "outputs": [],
   "source": [
    "# lets visully inspect the duplicates\n",
    "dupli = transcript_clean[transcript_clean.duplicated(keep=False)]"
   ]
  },
  {
   "cell_type": "code",
   "execution_count": 49,
   "metadata": {},
   "outputs": [],
   "source": [
    "# Remove duplicates from transcript_clean\n",
    "transcript_clean.drop_duplicates(inplace=True)\n",
    "transcript_clean.reset_index(drop=True, inplace=True)"
   ]
  },
  {
   "cell_type": "code",
   "execution_count": 50,
   "metadata": {},
   "outputs": [
    {
     "data": {
      "text/plain": [
       "0"
      ]
     },
     "execution_count": 50,
     "metadata": {},
     "output_type": "execute_result"
    }
   ],
   "source": [
    "# Check to see if duplicates have been removed\n",
    "transcript_clean.duplicated().sum()"
   ]
  },
  {
   "cell_type": "code",
   "execution_count": 51,
   "metadata": {},
   "outputs": [
    {
     "data": {
      "text/plain": [
       "((272388, 9), (14825, 6), (10, 12))"
      ]
     },
     "execution_count": 51,
     "metadata": {},
     "output_type": "execute_result"
    }
   ],
   "source": [
    "# Get the shape of all 3 datasets\n",
    "transcript_clean.shape, profile_clean.shape, portfolio_clean.shape"
   ]
  },
  {
   "cell_type": "markdown",
   "metadata": {},
   "source": [
    "### OBSERVATION\n",
    "From exploration of the datasets it can be seen that transcript and profile are related by a common feature customer_id.\n",
    "The portfolio and transcript datasets have an offer id that can be used to join them. It is a good idea to merge the 3 datasets so as to properly understand the relationships betweent the different features. The current features will be used to build the model as well as new engineered features wherever necessary.\n"
   ]
  },
  {
   "cell_type": "markdown",
   "metadata": {},
   "source": [
    "### MERGING OF 3 DATASETS"
   ]
  },
  {
   "cell_type": "code",
   "execution_count": 52,
   "metadata": {},
   "outputs": [],
   "source": [
    "def merge_datasets(portfolio_clean, profile_clean, transcript_clean):\n",
    "    \"\"\" Merge the three data sets into one\n",
    "    Input:\n",
    "    - portfolio_clean\n",
    "    - profile_clean\n",
    "    - transcript_clean\n",
    "    Output:\n",
    "    - df: merged dataframe\n",
    "    \"\"\"\n",
    "    trans_prof = pd.merge(transcript_clean, profile_clean, on='customer_id',\n",
    "                          how=\"left\")\n",
    "    merged_df = pd.merge(trans_prof, portfolio_clean, on='offer_id', how='left')\n",
    "    # Change the offer ids to a simplied form\n",
    "    offer_id = {'ae264e3637204a6fb9bb56bc8210ddfd': 'bogo_1',\n",
    "                '4d5c57ea9a6940dd891ad53e9dbe8da0': 'bogo_2',\n",
    "                '9b98b8c7a33c4b65b9aebfe6a799e6d9': 'bogo_3',\n",
    "                'f19421c1d4aa40978ebb69ca19b0e20d': 'bogo_4',\n",
    "                '0b1e1539f2cc45b7b9fa7c272da2e1d7': 'disc_1',\n",
    "                '2298d6c36e964ae4a3e7e9706d1fb8c2': 'disc_2',\n",
    "                'fafdcd668e3743c1bb461111dcafc2a4': 'disc_3',\n",
    "                '2906b810c7d4411798c6938adc9daaa5': 'disc_4',\n",
    "                '3f207df678b143eea3cee63160fa8bed': 'info_1',\n",
    "                '5a8bc65990b245e5a138643cd4eb9837': 'info_2'}\n",
    "    merged_df.offer_id = merged_df.offer_id.apply(lambda x: offer_id[x] if x else None)\n",
    "\n",
    "    return merged_df"
   ]
  },
  {
   "cell_type": "code",
   "execution_count": 53,
   "metadata": {},
   "outputs": [],
   "source": [
    "# Merge dataframes\n",
    "merged_df = merge_datasets(portfolio_clean, profile_clean, transcript_clean)"
   ]
  },
  {
   "cell_type": "code",
   "execution_count": 54,
   "metadata": {},
   "outputs": [],
   "source": [
    " # Save data to increase reusability and reduce runtime\n",
    "#merged_df.to_csv('data/processed_data.csv', index = False)"
   ]
  },
  {
   "cell_type": "code",
   "execution_count": 55,
   "metadata": {},
   "outputs": [
    {
     "data": {
      "text/html": [
       "<div>\n",
       "<style scoped>\n",
       "    .dataframe tbody tr th:only-of-type {\n",
       "        vertical-align: middle;\n",
       "    }\n",
       "\n",
       "    .dataframe tbody tr th {\n",
       "        vertical-align: top;\n",
       "    }\n",
       "\n",
       "    .dataframe thead th {\n",
       "        text-align: right;\n",
       "    }\n",
       "</style>\n",
       "<table border=\"1\" class=\"dataframe\">\n",
       "  <thead>\n",
       "    <tr style=\"text-align: right;\">\n",
       "      <th></th>\n",
       "      <th>customer_id</th>\n",
       "      <th>time</th>\n",
       "      <th>event_offer_completed</th>\n",
       "      <th>event_offer_received</th>\n",
       "      <th>event_offer_viewed</th>\n",
       "      <th>event_transaction</th>\n",
       "      <th>offer_id</th>\n",
       "      <th>amount</th>\n",
       "      <th>reward_x</th>\n",
       "      <th>age</th>\n",
       "      <th>...</th>\n",
       "      <th>duration</th>\n",
       "      <th>offer_type</th>\n",
       "      <th>reward_y</th>\n",
       "      <th>bogo</th>\n",
       "      <th>discount</th>\n",
       "      <th>informational</th>\n",
       "      <th>channel_email</th>\n",
       "      <th>channel_mobile</th>\n",
       "      <th>channel_social</th>\n",
       "      <th>channel_web</th>\n",
       "    </tr>\n",
       "  </thead>\n",
       "  <tbody>\n",
       "    <tr>\n",
       "      <th>0</th>\n",
       "      <td>78afa995795e4d85b5d9ceeca43f5fef</td>\n",
       "      <td>0</td>\n",
       "      <td>0</td>\n",
       "      <td>1</td>\n",
       "      <td>0</td>\n",
       "      <td>0</td>\n",
       "      <td>bogo_3</td>\n",
       "      <td>NaN</td>\n",
       "      <td>NaN</td>\n",
       "      <td>75</td>\n",
       "      <td>...</td>\n",
       "      <td>7.0</td>\n",
       "      <td>bogo</td>\n",
       "      <td>5.0</td>\n",
       "      <td>1.0</td>\n",
       "      <td>0.0</td>\n",
       "      <td>0.0</td>\n",
       "      <td>1.0</td>\n",
       "      <td>1.0</td>\n",
       "      <td>0.0</td>\n",
       "      <td>1.0</td>\n",
       "    </tr>\n",
       "    <tr>\n",
       "      <th>1</th>\n",
       "      <td>e2127556f4f64592b11af22de27a7932</td>\n",
       "      <td>0</td>\n",
       "      <td>0</td>\n",
       "      <td>1</td>\n",
       "      <td>0</td>\n",
       "      <td>0</td>\n",
       "      <td>disc_4</td>\n",
       "      <td>NaN</td>\n",
       "      <td>NaN</td>\n",
       "      <td>68</td>\n",
       "      <td>...</td>\n",
       "      <td>7.0</td>\n",
       "      <td>discount</td>\n",
       "      <td>2.0</td>\n",
       "      <td>0.0</td>\n",
       "      <td>1.0</td>\n",
       "      <td>0.0</td>\n",
       "      <td>1.0</td>\n",
       "      <td>1.0</td>\n",
       "      <td>0.0</td>\n",
       "      <td>1.0</td>\n",
       "    </tr>\n",
       "    <tr>\n",
       "      <th>2</th>\n",
       "      <td>389bc3fa690240e798340f5a15918d5c</td>\n",
       "      <td>0</td>\n",
       "      <td>0</td>\n",
       "      <td>1</td>\n",
       "      <td>0</td>\n",
       "      <td>0</td>\n",
       "      <td>bogo_4</td>\n",
       "      <td>NaN</td>\n",
       "      <td>NaN</td>\n",
       "      <td>65</td>\n",
       "      <td>...</td>\n",
       "      <td>5.0</td>\n",
       "      <td>bogo</td>\n",
       "      <td>5.0</td>\n",
       "      <td>1.0</td>\n",
       "      <td>0.0</td>\n",
       "      <td>0.0</td>\n",
       "      <td>1.0</td>\n",
       "      <td>1.0</td>\n",
       "      <td>1.0</td>\n",
       "      <td>1.0</td>\n",
       "    </tr>\n",
       "    <tr>\n",
       "      <th>3</th>\n",
       "      <td>2eeac8d8feae4a8cad5a6af0499a211d</td>\n",
       "      <td>0</td>\n",
       "      <td>0</td>\n",
       "      <td>1</td>\n",
       "      <td>0</td>\n",
       "      <td>0</td>\n",
       "      <td>info_1</td>\n",
       "      <td>NaN</td>\n",
       "      <td>NaN</td>\n",
       "      <td>58</td>\n",
       "      <td>...</td>\n",
       "      <td>4.0</td>\n",
       "      <td>informational</td>\n",
       "      <td>0.0</td>\n",
       "      <td>0.0</td>\n",
       "      <td>0.0</td>\n",
       "      <td>1.0</td>\n",
       "      <td>1.0</td>\n",
       "      <td>1.0</td>\n",
       "      <td>0.0</td>\n",
       "      <td>1.0</td>\n",
       "    </tr>\n",
       "  </tbody>\n",
       "</table>\n",
       "<p>4 rows × 25 columns</p>\n",
       "</div>"
      ],
      "text/plain": [
       "                        customer_id  time  event_offer_completed  \\\n",
       "0  78afa995795e4d85b5d9ceeca43f5fef     0                      0   \n",
       "1  e2127556f4f64592b11af22de27a7932     0                      0   \n",
       "2  389bc3fa690240e798340f5a15918d5c     0                      0   \n",
       "3  2eeac8d8feae4a8cad5a6af0499a211d     0                      0   \n",
       "\n",
       "   event_offer_received  event_offer_viewed  event_transaction offer_id  \\\n",
       "0                     1                   0                  0   bogo_3   \n",
       "1                     1                   0                  0   disc_4   \n",
       "2                     1                   0                  0   bogo_4   \n",
       "3                     1                   0                  0   info_1   \n",
       "\n",
       "   amount  reward_x  age     ...      duration     offer_type reward_y  bogo  \\\n",
       "0     NaN       NaN   75     ...           7.0           bogo      5.0   1.0   \n",
       "1     NaN       NaN   68     ...           7.0       discount      2.0   0.0   \n",
       "2     NaN       NaN   65     ...           5.0           bogo      5.0   1.0   \n",
       "3     NaN       NaN   58     ...           4.0  informational      0.0   0.0   \n",
       "\n",
       "   discount  informational channel_email  channel_mobile  channel_social  \\\n",
       "0       0.0            0.0           1.0             1.0             0.0   \n",
       "1       1.0            0.0           1.0             1.0             0.0   \n",
       "2       0.0            0.0           1.0             1.0             1.0   \n",
       "3       0.0            1.0           1.0             1.0             0.0   \n",
       "\n",
       "   channel_web  \n",
       "0          1.0  \n",
       "1          1.0  \n",
       "2          1.0  \n",
       "3          1.0  \n",
       "\n",
       "[4 rows x 25 columns]"
      ]
     },
     "execution_count": 55,
     "metadata": {},
     "output_type": "execute_result"
    }
   ],
   "source": [
    "merged_df.head(4)"
   ]
  },
  {
   "cell_type": "code",
   "execution_count": 56,
   "metadata": {},
   "outputs": [
    {
     "data": {
      "text/plain": [
       "Index(['customer_id', 'time', 'event_offer_completed', 'event_offer_received',\n",
       "       'event_offer_viewed', 'event_transaction', 'offer_id', 'amount',\n",
       "       'reward_x', 'age', 'became_member_on', 'days_as_member', 'gender',\n",
       "       'income', 'difficulty', 'duration', 'offer_type', 'reward_y', 'bogo',\n",
       "       'discount', 'informational', 'channel_email', 'channel_mobile',\n",
       "       'channel_social', 'channel_web'],\n",
       "      dtype='object')"
      ]
     },
     "execution_count": 56,
     "metadata": {},
     "output_type": "execute_result"
    }
   ],
   "source": [
    "merged_df.columns"
   ]
  },
  {
   "cell_type": "markdown",
   "metadata": {},
   "source": [
    "#### EXPLORING MERGED DATA SETS"
   ]
  },
  {
   "cell_type": "code",
   "execution_count": 57,
   "metadata": {},
   "outputs": [
    {
     "data": {
      "text/html": [
       "<div>\n",
       "<style scoped>\n",
       "    .dataframe tbody tr th:only-of-type {\n",
       "        vertical-align: middle;\n",
       "    }\n",
       "\n",
       "    .dataframe tbody tr th {\n",
       "        vertical-align: top;\n",
       "    }\n",
       "\n",
       "    .dataframe thead th {\n",
       "        text-align: right;\n",
       "    }\n",
       "</style>\n",
       "<table border=\"1\" class=\"dataframe\">\n",
       "  <thead>\n",
       "    <tr style=\"text-align: right;\">\n",
       "      <th></th>\n",
       "      <th>customer_id</th>\n",
       "      <th>time</th>\n",
       "      <th>event_offer_completed</th>\n",
       "      <th>event_offer_received</th>\n",
       "      <th>event_offer_viewed</th>\n",
       "      <th>event_transaction</th>\n",
       "      <th>offer_id</th>\n",
       "      <th>amount</th>\n",
       "      <th>reward_x</th>\n",
       "      <th>age</th>\n",
       "      <th>became_member_on</th>\n",
       "      <th>days_as_member</th>\n",
       "      <th>gender</th>\n",
       "      <th>income</th>\n",
       "      <th>difficulty</th>\n",
       "      <th>duration</th>\n",
       "      <th>offer_type</th>\n",
       "      <th>reward_y</th>\n",
       "      <th>bogo</th>\n",
       "      <th>discount</th>\n",
       "      <th>informational</th>\n",
       "      <th>channel_email</th>\n",
       "      <th>channel_mobile</th>\n",
       "      <th>channel_social</th>\n",
       "      <th>channel_web</th>\n",
       "    </tr>\n",
       "  </thead>\n",
       "  <tbody>\n",
       "    <tr>\n",
       "      <th>0</th>\n",
       "      <td>78afa995795e4d85b5d9ceeca43f5fef</td>\n",
       "      <td>0</td>\n",
       "      <td>0</td>\n",
       "      <td>1</td>\n",
       "      <td>0</td>\n",
       "      <td>0</td>\n",
       "      <td>bogo_3</td>\n",
       "      <td>NaN</td>\n",
       "      <td>NaN</td>\n",
       "      <td>75</td>\n",
       "      <td>2017-05-09</td>\n",
       "      <td>1238</td>\n",
       "      <td>F</td>\n",
       "      <td>100000.0</td>\n",
       "      <td>5.0</td>\n",
       "      <td>7.0</td>\n",
       "      <td>bogo</td>\n",
       "      <td>5.0</td>\n",
       "      <td>1.0</td>\n",
       "      <td>0.0</td>\n",
       "      <td>0.0</td>\n",
       "      <td>1.0</td>\n",
       "      <td>1.0</td>\n",
       "      <td>0.0</td>\n",
       "      <td>1.0</td>\n",
       "    </tr>\n",
       "    <tr>\n",
       "      <th>1</th>\n",
       "      <td>e2127556f4f64592b11af22de27a7932</td>\n",
       "      <td>0</td>\n",
       "      <td>0</td>\n",
       "      <td>1</td>\n",
       "      <td>0</td>\n",
       "      <td>0</td>\n",
       "      <td>disc_4</td>\n",
       "      <td>NaN</td>\n",
       "      <td>NaN</td>\n",
       "      <td>68</td>\n",
       "      <td>2018-04-26</td>\n",
       "      <td>886</td>\n",
       "      <td>M</td>\n",
       "      <td>70000.0</td>\n",
       "      <td>10.0</td>\n",
       "      <td>7.0</td>\n",
       "      <td>discount</td>\n",
       "      <td>2.0</td>\n",
       "      <td>0.0</td>\n",
       "      <td>1.0</td>\n",
       "      <td>0.0</td>\n",
       "      <td>1.0</td>\n",
       "      <td>1.0</td>\n",
       "      <td>0.0</td>\n",
       "      <td>1.0</td>\n",
       "    </tr>\n",
       "    <tr>\n",
       "      <th>2</th>\n",
       "      <td>389bc3fa690240e798340f5a15918d5c</td>\n",
       "      <td>0</td>\n",
       "      <td>0</td>\n",
       "      <td>1</td>\n",
       "      <td>0</td>\n",
       "      <td>0</td>\n",
       "      <td>bogo_4</td>\n",
       "      <td>NaN</td>\n",
       "      <td>NaN</td>\n",
       "      <td>65</td>\n",
       "      <td>2018-02-09</td>\n",
       "      <td>962</td>\n",
       "      <td>M</td>\n",
       "      <td>53000.0</td>\n",
       "      <td>5.0</td>\n",
       "      <td>5.0</td>\n",
       "      <td>bogo</td>\n",
       "      <td>5.0</td>\n",
       "      <td>1.0</td>\n",
       "      <td>0.0</td>\n",
       "      <td>0.0</td>\n",
       "      <td>1.0</td>\n",
       "      <td>1.0</td>\n",
       "      <td>1.0</td>\n",
       "      <td>1.0</td>\n",
       "    </tr>\n",
       "    <tr>\n",
       "      <th>3</th>\n",
       "      <td>2eeac8d8feae4a8cad5a6af0499a211d</td>\n",
       "      <td>0</td>\n",
       "      <td>0</td>\n",
       "      <td>1</td>\n",
       "      <td>0</td>\n",
       "      <td>0</td>\n",
       "      <td>info_1</td>\n",
       "      <td>NaN</td>\n",
       "      <td>NaN</td>\n",
       "      <td>58</td>\n",
       "      <td>2017-11-11</td>\n",
       "      <td>1052</td>\n",
       "      <td>M</td>\n",
       "      <td>51000.0</td>\n",
       "      <td>0.0</td>\n",
       "      <td>4.0</td>\n",
       "      <td>informational</td>\n",
       "      <td>0.0</td>\n",
       "      <td>0.0</td>\n",
       "      <td>0.0</td>\n",
       "      <td>1.0</td>\n",
       "      <td>1.0</td>\n",
       "      <td>1.0</td>\n",
       "      <td>0.0</td>\n",
       "      <td>1.0</td>\n",
       "    </tr>\n",
       "    <tr>\n",
       "      <th>4</th>\n",
       "      <td>aa4862eba776480b8bb9c68455b8c2e1</td>\n",
       "      <td>0</td>\n",
       "      <td>0</td>\n",
       "      <td>1</td>\n",
       "      <td>0</td>\n",
       "      <td>0</td>\n",
       "      <td>disc_1</td>\n",
       "      <td>NaN</td>\n",
       "      <td>NaN</td>\n",
       "      <td>61</td>\n",
       "      <td>2017-09-11</td>\n",
       "      <td>1113</td>\n",
       "      <td>F</td>\n",
       "      <td>57000.0</td>\n",
       "      <td>20.0</td>\n",
       "      <td>10.0</td>\n",
       "      <td>discount</td>\n",
       "      <td>5.0</td>\n",
       "      <td>0.0</td>\n",
       "      <td>1.0</td>\n",
       "      <td>0.0</td>\n",
       "      <td>1.0</td>\n",
       "      <td>0.0</td>\n",
       "      <td>0.0</td>\n",
       "      <td>1.0</td>\n",
       "    </tr>\n",
       "  </tbody>\n",
       "</table>\n",
       "</div>"
      ],
      "text/plain": [
       "                        customer_id  time  event_offer_completed  \\\n",
       "0  78afa995795e4d85b5d9ceeca43f5fef     0                      0   \n",
       "1  e2127556f4f64592b11af22de27a7932     0                      0   \n",
       "2  389bc3fa690240e798340f5a15918d5c     0                      0   \n",
       "3  2eeac8d8feae4a8cad5a6af0499a211d     0                      0   \n",
       "4  aa4862eba776480b8bb9c68455b8c2e1     0                      0   \n",
       "\n",
       "   event_offer_received  event_offer_viewed  event_transaction offer_id  \\\n",
       "0                     1                   0                  0   bogo_3   \n",
       "1                     1                   0                  0   disc_4   \n",
       "2                     1                   0                  0   bogo_4   \n",
       "3                     1                   0                  0   info_1   \n",
       "4                     1                   0                  0   disc_1   \n",
       "\n",
       "   amount  reward_x  age became_member_on  days_as_member gender    income  \\\n",
       "0     NaN       NaN   75       2017-05-09            1238      F  100000.0   \n",
       "1     NaN       NaN   68       2018-04-26             886      M   70000.0   \n",
       "2     NaN       NaN   65       2018-02-09             962      M   53000.0   \n",
       "3     NaN       NaN   58       2017-11-11            1052      M   51000.0   \n",
       "4     NaN       NaN   61       2017-09-11            1113      F   57000.0   \n",
       "\n",
       "   difficulty  duration     offer_type  reward_y  bogo  discount  \\\n",
       "0         5.0       7.0           bogo       5.0   1.0       0.0   \n",
       "1        10.0       7.0       discount       2.0   0.0       1.0   \n",
       "2         5.0       5.0           bogo       5.0   1.0       0.0   \n",
       "3         0.0       4.0  informational       0.0   0.0       0.0   \n",
       "4        20.0      10.0       discount       5.0   0.0       1.0   \n",
       "\n",
       "   informational  channel_email  channel_mobile  channel_social  channel_web  \n",
       "0            0.0            1.0             1.0             0.0          1.0  \n",
       "1            0.0            1.0             1.0             0.0          1.0  \n",
       "2            0.0            1.0             1.0             1.0          1.0  \n",
       "3            1.0            1.0             1.0             0.0          1.0  \n",
       "4            0.0            1.0             0.0             0.0          1.0  "
      ]
     },
     "execution_count": 57,
     "metadata": {},
     "output_type": "execute_result"
    }
   ],
   "source": [
    "# View first few rows of merged df\n",
    "pd.set_option('display.max_columns',28)\n",
    "merged_df.head()"
   ]
  },
  {
   "cell_type": "code",
   "execution_count": 58,
   "metadata": {},
   "outputs": [
    {
     "data": {
      "text/plain": [
       "(272388, 25)"
      ]
     },
     "execution_count": 58,
     "metadata": {},
     "output_type": "execute_result"
    }
   ],
   "source": [
    "merged_df.shape"
   ]
  },
  {
   "cell_type": "code",
   "execution_count": 59,
   "metadata": {},
   "outputs": [
    {
     "data": {
      "text/plain": [
       "0    240318\n",
       "1     32070\n",
       "Name: event_offer_completed, dtype: int64"
      ]
     },
     "execution_count": 59,
     "metadata": {},
     "output_type": "execute_result"
    }
   ],
   "source": [
    "merged_df.event_offer_completed.value_counts()"
   ]
  },
  {
   "cell_type": "code",
   "execution_count": 60,
   "metadata": {},
   "outputs": [
    {
     "data": {
      "text/plain": [
       "0    205887\n",
       "1     66501\n",
       "Name: event_offer_received, dtype: int64"
      ]
     },
     "execution_count": 60,
     "metadata": {},
     "output_type": "execute_result"
    }
   ],
   "source": [
    "merged_df.event_offer_received.value_counts()"
   ]
  },
  {
   "cell_type": "code",
   "execution_count": 61,
   "metadata": {},
   "outputs": [
    {
     "data": {
      "text/plain": [
       "0    222528\n",
       "1     49860\n",
       "Name: event_offer_viewed, dtype: int64"
      ]
     },
     "execution_count": 61,
     "metadata": {},
     "output_type": "execute_result"
    }
   ],
   "source": [
    "merged_df.event_offer_viewed.value_counts()"
   ]
  },
  {
   "cell_type": "code",
   "execution_count": 62,
   "metadata": {},
   "outputs": [
    {
     "data": {
      "image/png": "[encoded data removed]",
      "text/plain": [
       "<matplotlib.figure.Figure at 0x7fc7fe5b70b8>"
      ]
     },
     "metadata": {
      "needs_background": "light"
     },
     "output_type": "display_data"
    }
   ],
   "source": [
    "# Plot the different offer types and Id to see distribution\n",
    "plt.subplot(121)\n",
    "merged_df[merged_df.event_offer_received == 1].offer_type.value_counts().plot(kind='bar', rot=45, figsize=(16,5))\n",
    "plt.title('Offer Type');\n",
    "\n",
    "plt.subplot(122)\n",
    "merged_df[merged_df.event_offer_received == 1].offer_id.value_counts().plot(kind='bar', rot=45)\n",
    "plt.title('Offer ID');"
   ]
  },
  {
   "cell_type": "markdown",
   "metadata": {},
   "source": [
    "#### Observation\n",
    "- The discount and bogo offer types have higher numbers than the informational offer\n",
    "The offers ids were sent out approximately the same number of times. They were uniformly distributed."
   ]
  },
  {
   "cell_type": "code",
   "execution_count": 63,
   "metadata": {},
   "outputs": [
    {
     "data": {
      "text/plain": [
       "(272388, 25)"
      ]
     },
     "execution_count": 63,
     "metadata": {},
     "output_type": "execute_result"
    }
   ],
   "source": [
    "# shape of df\n",
    "merged_df.shape"
   ]
  },
  {
   "cell_type": "code",
   "execution_count": 64,
   "metadata": {},
   "outputs": [
    {
     "data": {
      "text/plain": [
       "(123957, 25)"
      ]
     },
     "execution_count": 64,
     "metadata": {},
     "output_type": "execute_result"
    }
   ],
   "source": [
    "merged_df.query('amount != \"Nan\"').shape"
   ]
  },
  {
   "cell_type": "code",
   "execution_count": 65,
   "metadata": {},
   "outputs": [
    {
     "data": {
      "text/plain": [
       "10.0    64358\n",
       "5.0     31285\n",
       "0.0     22660\n",
       "7.0     17881\n",
       "20.0    12247\n",
       "Name: difficulty, dtype: int64"
      ]
     },
     "execution_count": 65,
     "metadata": {},
     "output_type": "execute_result"
    }
   ],
   "source": [
    "merged_df.difficulty.value_counts()"
   ]
  },
  {
   "cell_type": "code",
   "execution_count": 66,
   "metadata": {},
   "outputs": [],
   "source": [
    "# Create a df of only completed offers\n",
    "completed_offer = merged_df[(merged_df['event_offer_completed'] == 1)]"
   ]
  },
  {
   "cell_type": "code",
   "execution_count": 67,
   "metadata": {},
   "outputs": [],
   "source": [
    "# Get the counts of the various completed offers\n",
    "offer_comp = completed_offer.offer_id.value_counts()"
   ]
  },
  {
   "cell_type": "code",
   "execution_count": 68,
   "metadata": {},
   "outputs": [
    {
     "data": {
      "image/png": "[encoded data removed]",
      "text/plain": [
       "<matplotlib.figure.Figure at 0x7fc7fe624da0>"
      ]
     },
     "metadata": {
      "needs_background": "light"
     },
     "output_type": "display_data"
    }
   ],
   "source": [
    "# Plot bar chart of completed offers\n",
    "plt.figure(figsize = [10, 8])\n",
    "offer_comp.plot(kind=\"bar\", color=\"blue\")\n",
    "plt.title('Completed Offers')\n",
    "plt.xlabel('Offer')\n",
    "plt.ylabel('Count');"
   ]
  },
  {
   "cell_type": "markdown",
   "metadata": {},
   "source": [
    "The most completed offers are disc_3 while the least is bogo_2"
   ]
  },
  {
   "cell_type": "markdown",
   "metadata": {},
   "source": [
    "Now lets see how these completed offer fare by gender"
   ]
  },
  {
   "cell_type": "code",
   "execution_count": 69,
   "metadata": {},
   "outputs": [
    {
     "data": {
      "image/png": "[encoded data removed]",
      "text/plain": [
       "<matplotlib.figure.Figure at 0x7fc7fe7af630>"
      ]
     },
     "metadata": {
      "needs_background": "light"
     },
     "output_type": "display_data"
    }
   ],
   "source": [
    "# Plot bar chart\n",
    "plt.figure(figsize = [12, 8])\n",
    "ax = sb.countplot(data = completed_offer, x = 'gender', hue = 'offer_id', palette='Accent')\n",
    "ax.legend(loc = 1, ncol = 2, framealpha = 1, title = \"Offers Completed by Gender\");"
   ]
  },
  {
   "cell_type": "markdown",
   "metadata": {},
   "source": [
    "The plot of completed offers by Gender shows more Males have completed offers than females. The other category shows no significant differences between the offers. The difference between the male and female completed offers might be due to the males having a higher number than the females.The offers disc_2 and disc_3 have the most conversions. This is something Startbucks can look at."
   ]
  },
  {
   "cell_type": "code",
   "execution_count": 70,
   "metadata": {},
   "outputs": [
    {
     "data": {
      "text/plain": [
       "became_member_on\n",
       "2013-12-31      558\n",
       "2014-12-31     1308\n",
       "2015-12-31     4262\n",
       "2016-12-31     8836\n",
       "2017-12-31    11987\n",
       "2018-12-31     5119\n",
       "Freq: A-DEC, Name: event_offer_completed, dtype: int64"
      ]
     },
     "execution_count": 70,
     "metadata": {},
     "output_type": "execute_result"
    }
   ],
   "source": [
    "# Get completed offer by year\n",
    "year_comp = completed_offer.groupby(pd.Grouper(key='became_member_on', freq='Y')).count().event_offer_completed\n",
    "year_comp"
   ]
  },
  {
   "cell_type": "code",
   "execution_count": 71,
   "metadata": {},
   "outputs": [
    {
     "data": {
      "image/png": "[encoded data removed]",
      "text/plain": [
       "<matplotlib.figure.Figure at 0x7fc7fe81b780>"
      ]
     },
     "metadata": {
      "needs_background": "light"
     },
     "output_type": "display_data"
    }
   ],
   "source": [
    "plt.figure(figsize = [10, 8])\n",
    "year_comp.plot(kind=\"bar\", color=\"blue\")\n",
    "plt.title('Membership by Year')\n",
    "plt.xlabel('Year')\n",
    "plt.ylabel('Count');"
   ]
  },
  {
   "cell_type": "markdown",
   "metadata": {},
   "source": [
    "The completed offers have been rising year on year. They dropped off in 2018 "
   ]
  },
  {
   "cell_type": "markdown",
   "metadata": {},
   "source": [
    "Lets see the distribution of completed offers to those not completed"
   ]
  },
  {
   "cell_type": "code",
   "execution_count": 72,
   "metadata": {},
   "outputs": [
    {
     "data": {
      "text/plain": [
       "(32070, 240318)"
      ]
     },
     "execution_count": 72,
     "metadata": {},
     "output_type": "execute_result"
    }
   ],
   "source": [
    "comp = len(merged_df[merged_df['event_offer_completed'] == 1])\n",
    "not_comp = len(merged_df) - comp\n",
    "comp, not_comp"
   ]
  },
  {
   "cell_type": "code",
   "execution_count": 73,
   "metadata": {},
   "outputs": [
    {
     "data": {
      "image/png": "[encoded data removed]",
      "text/plain": [
       "<matplotlib.figure.Figure at 0x7fc7fe6d4c18>"
      ]
     },
     "metadata": {
      "needs_background": "light"
     },
     "output_type": "display_data"
    }
   ],
   "source": [
    "# Plot histogram of Age to see distribution\n",
    "plt.figure(figsize = [12, 6])\n",
    "bins = np.arange(18, 101+10, 10)\n",
    "plt.hist(data = completed_offer, x = 'age', bins=bins)\n",
    "plt.xlabel('Age')\n",
    "plt.ylabel('Count')\n",
    "plt.title('Histogram of Age of Completed Offers');"
   ]
  },
  {
   "cell_type": "markdown",
   "metadata": {},
   "source": [
    "Those between the ages of 50 and 78 have completed the most offers"
   ]
  },
  {
   "cell_type": "code",
   "execution_count": 74,
   "metadata": {},
   "outputs": [
    {
     "data": {
      "image/png": "[encoded data removed]",
      "text/plain": [
       "<matplotlib.figure.Figure at 0x7fc7fe81b128>"
      ]
     },
     "metadata": {
      "needs_background": "light"
     },
     "output_type": "display_data"
    }
   ],
   "source": [
    "# Plot histogram of Income to see distribution\n",
    "plt.figure(figsize = [12, 6])\n",
    "bins = np.arange(30000, 120000+5000, 5000)\n",
    "plt.hist(data = completed_offer, x = 'income', bins=bins)\n",
    "plt.xlabel('Income')\n",
    "plt.ylabel('Count')\n",
    "plt.title('Histogram of Income of Completed Offers');"
   ]
  },
  {
   "cell_type": "markdown",
   "metadata": {},
   "source": [
    "Histogram is normally distributed. Those earning between 50000 to 80000 have the highest numbers of completed offers"
   ]
  },
  {
   "cell_type": "markdown",
   "metadata": {},
   "source": [
    "The merged_df has 25 columns for now. The columns will be used as variable in our Machine Learning model and as the model is tuned further preprocessing might be needed. The most important features to predicting target variable \"event_offer_completed\" will be used.  "
   ]
  },
  {
   "cell_type": "markdown",
   "metadata": {},
   "source": [
    "### MODELING"
   ]
  },
  {
   "cell_type": "markdown",
   "metadata": {},
   "source": [
    "## Build a machine learning model that predicts whether an offer will be completed and the features that are most relevant"
   ]
  },
  {
   "cell_type": "code",
   "execution_count": 75,
   "metadata": {},
   "outputs": [],
   "source": [
    "# Read in relevant libraries and packages \n",
    "from sklearn.preprocessing import MinMaxScaler, StandardScaler\n",
    "from sklearn.model_selection import train_test_split\n",
    "from sklearn.pipeline import Pipeline\n",
    "from sklearn.ensemble import RandomForestRegressor, RandomForestClassifier\n",
    "import xgboost as xgb\n",
    "from xgboost import XGBRegressor, XGBClassifier\n",
    "from sklearn.metrics import mean_squared_error\n",
    "from sklearn.model_selection import GridSearchCV\n",
    "from sklearn.metrics import accuracy_score, confusion_matrix, classification_report\n",
    "from sklearn.utils import shuffle\n",
    "from sklearn.model_selection import cross_val_score, learning_curve, GridSearchCV\n",
    "from sklearn.preprocessing import minmax_scale\n",
    "from sklearn import metrics\n",
    "\n",
    "from sklearn.linear_model import LogisticRegression\n",
    "from sklearn.tree import DecisionTreeRegressor\n",
    "from sklearn.ensemble import RandomForestClassifier, AdaBoostClassifier"
   ]
  },
  {
   "cell_type": "markdown",
   "metadata": {},
   "source": [
    "### DATA PREPROCESSING"
   ]
  },
  {
   "cell_type": "markdown",
   "metadata": {},
   "source": [
    "#### Here we continue to prepare the data to be used in a model:\n",
    "- Create dummies for the offer id, gender and year columns\n",
    "- Aggregate features\n",
    "- Normalize columns ('time', 'income', 'days_as_member', 'duration', 'age', 'amount')\n",
    "\n",
    "#### MODELS\n",
    "\n",
    "- Write functions to to extract train and test data\n",
    "- Use Random Forest regressor for baseline model with all dafualt features \n",
    "- Write function to evaluate model\n",
    "- Tune model using correlation between features then use variables in Random Forest Regressor, XGboost, LogisticRegression and   DecisionTreeRegressor Model\n",
    "- Evaluate model using RMSE and Cross validation\n",
    "- Further tune model using Pipelines, Standartd scalar, XGBoost and GridSearchSV\n",
    "- Evaluate model\n",
    "- Use Best Parameters\n",
    "- Find best features for predicting event offer completion"
   ]
  },
  {
   "cell_type": "code",
   "execution_count": 76,
   "metadata": {},
   "outputs": [
    {
     "data": {
      "text/html": [
       "<div>\n",
       "<style scoped>\n",
       "    .dataframe tbody tr th:only-of-type {\n",
       "        vertical-align: middle;\n",
       "    }\n",
       "\n",
       "    .dataframe tbody tr th {\n",
       "        vertical-align: top;\n",
       "    }\n",
       "\n",
       "    .dataframe thead th {\n",
       "        text-align: right;\n",
       "    }\n",
       "</style>\n",
       "<table border=\"1\" class=\"dataframe\">\n",
       "  <thead>\n",
       "    <tr style=\"text-align: right;\">\n",
       "      <th></th>\n",
       "      <th>customer_id</th>\n",
       "      <th>time</th>\n",
       "      <th>event_offer_completed</th>\n",
       "      <th>event_offer_received</th>\n",
       "      <th>event_offer_viewed</th>\n",
       "      <th>event_transaction</th>\n",
       "      <th>offer_id</th>\n",
       "      <th>amount</th>\n",
       "      <th>reward_x</th>\n",
       "      <th>age</th>\n",
       "      <th>became_member_on</th>\n",
       "      <th>days_as_member</th>\n",
       "      <th>gender</th>\n",
       "      <th>income</th>\n",
       "      <th>difficulty</th>\n",
       "      <th>duration</th>\n",
       "      <th>offer_type</th>\n",
       "      <th>reward_y</th>\n",
       "      <th>bogo</th>\n",
       "      <th>discount</th>\n",
       "      <th>informational</th>\n",
       "      <th>channel_email</th>\n",
       "      <th>channel_mobile</th>\n",
       "      <th>channel_social</th>\n",
       "      <th>channel_web</th>\n",
       "    </tr>\n",
       "  </thead>\n",
       "  <tbody>\n",
       "    <tr>\n",
       "      <th>0</th>\n",
       "      <td>78afa995795e4d85b5d9ceeca43f5fef</td>\n",
       "      <td>0</td>\n",
       "      <td>0</td>\n",
       "      <td>1</td>\n",
       "      <td>0</td>\n",
       "      <td>0</td>\n",
       "      <td>bogo_3</td>\n",
       "      <td>NaN</td>\n",
       "      <td>NaN</td>\n",
       "      <td>75</td>\n",
       "      <td>2017-05-09</td>\n",
       "      <td>1238</td>\n",
       "      <td>F</td>\n",
       "      <td>100000.0</td>\n",
       "      <td>5.0</td>\n",
       "      <td>7.0</td>\n",
       "      <td>bogo</td>\n",
       "      <td>5.0</td>\n",
       "      <td>1.0</td>\n",
       "      <td>0.0</td>\n",
       "      <td>0.0</td>\n",
       "      <td>1.0</td>\n",
       "      <td>1.0</td>\n",
       "      <td>0.0</td>\n",
       "      <td>1.0</td>\n",
       "    </tr>\n",
       "    <tr>\n",
       "      <th>1</th>\n",
       "      <td>e2127556f4f64592b11af22de27a7932</td>\n",
       "      <td>0</td>\n",
       "      <td>0</td>\n",
       "      <td>1</td>\n",
       "      <td>0</td>\n",
       "      <td>0</td>\n",
       "      <td>disc_4</td>\n",
       "      <td>NaN</td>\n",
       "      <td>NaN</td>\n",
       "      <td>68</td>\n",
       "      <td>2018-04-26</td>\n",
       "      <td>886</td>\n",
       "      <td>M</td>\n",
       "      <td>70000.0</td>\n",
       "      <td>10.0</td>\n",
       "      <td>7.0</td>\n",
       "      <td>discount</td>\n",
       "      <td>2.0</td>\n",
       "      <td>0.0</td>\n",
       "      <td>1.0</td>\n",
       "      <td>0.0</td>\n",
       "      <td>1.0</td>\n",
       "      <td>1.0</td>\n",
       "      <td>0.0</td>\n",
       "      <td>1.0</td>\n",
       "    </tr>\n",
       "    <tr>\n",
       "      <th>2</th>\n",
       "      <td>389bc3fa690240e798340f5a15918d5c</td>\n",
       "      <td>0</td>\n",
       "      <td>0</td>\n",
       "      <td>1</td>\n",
       "      <td>0</td>\n",
       "      <td>0</td>\n",
       "      <td>bogo_4</td>\n",
       "      <td>NaN</td>\n",
       "      <td>NaN</td>\n",
       "      <td>65</td>\n",
       "      <td>2018-02-09</td>\n",
       "      <td>962</td>\n",
       "      <td>M</td>\n",
       "      <td>53000.0</td>\n",
       "      <td>5.0</td>\n",
       "      <td>5.0</td>\n",
       "      <td>bogo</td>\n",
       "      <td>5.0</td>\n",
       "      <td>1.0</td>\n",
       "      <td>0.0</td>\n",
       "      <td>0.0</td>\n",
       "      <td>1.0</td>\n",
       "      <td>1.0</td>\n",
       "      <td>1.0</td>\n",
       "      <td>1.0</td>\n",
       "    </tr>\n",
       "    <tr>\n",
       "      <th>3</th>\n",
       "      <td>2eeac8d8feae4a8cad5a6af0499a211d</td>\n",
       "      <td>0</td>\n",
       "      <td>0</td>\n",
       "      <td>1</td>\n",
       "      <td>0</td>\n",
       "      <td>0</td>\n",
       "      <td>info_1</td>\n",
       "      <td>NaN</td>\n",
       "      <td>NaN</td>\n",
       "      <td>58</td>\n",
       "      <td>2017-11-11</td>\n",
       "      <td>1052</td>\n",
       "      <td>M</td>\n",
       "      <td>51000.0</td>\n",
       "      <td>0.0</td>\n",
       "      <td>4.0</td>\n",
       "      <td>informational</td>\n",
       "      <td>0.0</td>\n",
       "      <td>0.0</td>\n",
       "      <td>0.0</td>\n",
       "      <td>1.0</td>\n",
       "      <td>1.0</td>\n",
       "      <td>1.0</td>\n",
       "      <td>0.0</td>\n",
       "      <td>1.0</td>\n",
       "    </tr>\n",
       "    <tr>\n",
       "      <th>4</th>\n",
       "      <td>aa4862eba776480b8bb9c68455b8c2e1</td>\n",
       "      <td>0</td>\n",
       "      <td>0</td>\n",
       "      <td>1</td>\n",
       "      <td>0</td>\n",
       "      <td>0</td>\n",
       "      <td>disc_1</td>\n",
       "      <td>NaN</td>\n",
       "      <td>NaN</td>\n",
       "      <td>61</td>\n",
       "      <td>2017-09-11</td>\n",
       "      <td>1113</td>\n",
       "      <td>F</td>\n",
       "      <td>57000.0</td>\n",
       "      <td>20.0</td>\n",
       "      <td>10.0</td>\n",
       "      <td>discount</td>\n",
       "      <td>5.0</td>\n",
       "      <td>0.0</td>\n",
       "      <td>1.0</td>\n",
       "      <td>0.0</td>\n",
       "      <td>1.0</td>\n",
       "      <td>0.0</td>\n",
       "      <td>0.0</td>\n",
       "      <td>1.0</td>\n",
       "    </tr>\n",
       "  </tbody>\n",
       "</table>\n",
       "</div>"
      ],
      "text/plain": [
       "                        customer_id  time  event_offer_completed  \\\n",
       "0  78afa995795e4d85b5d9ceeca43f5fef     0                      0   \n",
       "1  e2127556f4f64592b11af22de27a7932     0                      0   \n",
       "2  389bc3fa690240e798340f5a15918d5c     0                      0   \n",
       "3  2eeac8d8feae4a8cad5a6af0499a211d     0                      0   \n",
       "4  aa4862eba776480b8bb9c68455b8c2e1     0                      0   \n",
       "\n",
       "   event_offer_received  event_offer_viewed  event_transaction offer_id  \\\n",
       "0                     1                   0                  0   bogo_3   \n",
       "1                     1                   0                  0   disc_4   \n",
       "2                     1                   0                  0   bogo_4   \n",
       "3                     1                   0                  0   info_1   \n",
       "4                     1                   0                  0   disc_1   \n",
       "\n",
       "   amount  reward_x  age became_member_on  days_as_member gender    income  \\\n",
       "0     NaN       NaN   75       2017-05-09            1238      F  100000.0   \n",
       "1     NaN       NaN   68       2018-04-26             886      M   70000.0   \n",
       "2     NaN       NaN   65       2018-02-09             962      M   53000.0   \n",
       "3     NaN       NaN   58       2017-11-11            1052      M   51000.0   \n",
       "4     NaN       NaN   61       2017-09-11            1113      F   57000.0   \n",
       "\n",
       "   difficulty  duration     offer_type  reward_y  bogo  discount  \\\n",
       "0         5.0       7.0           bogo       5.0   1.0       0.0   \n",
       "1        10.0       7.0       discount       2.0   0.0       1.0   \n",
       "2         5.0       5.0           bogo       5.0   1.0       0.0   \n",
       "3         0.0       4.0  informational       0.0   0.0       0.0   \n",
       "4        20.0      10.0       discount       5.0   0.0       1.0   \n",
       "\n",
       "   informational  channel_email  channel_mobile  channel_social  channel_web  \n",
       "0            0.0            1.0             1.0             0.0          1.0  \n",
       "1            0.0            1.0             1.0             0.0          1.0  \n",
       "2            0.0            1.0             1.0             1.0          1.0  \n",
       "3            1.0            1.0             1.0             0.0          1.0  \n",
       "4            0.0            1.0             0.0             0.0          1.0  "
      ]
     },
     "execution_count": 76,
     "metadata": {},
     "output_type": "execute_result"
    }
   ],
   "source": [
    "merged_df.head()"
   ]
  },
  {
   "cell_type": "code",
   "execution_count": 77,
   "metadata": {},
   "outputs": [],
   "source": [
    "def dummy_offer(merged_df):\n",
    "    \"\"\" Dummy offer_id columns with 0s and 1s\n",
    "    - join to merged df\n",
    "    - drop offer id column\n",
    "    Input:\n",
    "    - merged_df\n",
    "    Output:\n",
    "    - df: Dataframe with dummy offer id columns\n",
    "    \"\"\"\n",
    "    offer_dummy = pd.get_dummies(merged_df['offer_id'])\n",
    "   # Concat dummy dfs to model_df\n",
    "    offer_concat = pd.concat([merged_df, offer_dummy], axis=1)\n",
    "    # Drop channels and offer type columns\n",
    "    dummy_df = offer_concat.drop(columns=['offer_id'])\n",
    "    \n",
    "    return dummy_df"
   ]
  },
  {
   "cell_type": "code",
   "execution_count": 78,
   "metadata": {},
   "outputs": [],
   "source": [
    "# Use function to get df\n",
    "model_df = dummy_offer(merged_df)"
   ]
  },
  {
   "cell_type": "code",
   "execution_count": 79,
   "metadata": {},
   "outputs": [
    {
     "data": {
      "text/html": [
       "<div>\n",
       "<style scoped>\n",
       "    .dataframe tbody tr th:only-of-type {\n",
       "        vertical-align: middle;\n",
       "    }\n",
       "\n",
       "    .dataframe tbody tr th {\n",
       "        vertical-align: top;\n",
       "    }\n",
       "\n",
       "    .dataframe thead th {\n",
       "        text-align: right;\n",
       "    }\n",
       "</style>\n",
       "<table border=\"1\" class=\"dataframe\">\n",
       "  <thead>\n",
       "    <tr style=\"text-align: right;\">\n",
       "      <th></th>\n",
       "      <th>customer_id</th>\n",
       "      <th>time</th>\n",
       "      <th>event_offer_completed</th>\n",
       "      <th>event_offer_received</th>\n",
       "      <th>event_offer_viewed</th>\n",
       "      <th>event_transaction</th>\n",
       "      <th>amount</th>\n",
       "      <th>reward_x</th>\n",
       "      <th>age</th>\n",
       "      <th>became_member_on</th>\n",
       "      <th>days_as_member</th>\n",
       "      <th>gender</th>\n",
       "      <th>income</th>\n",
       "      <th>difficulty</th>\n",
       "      <th>duration</th>\n",
       "      <th>offer_type</th>\n",
       "      <th>reward_y</th>\n",
       "      <th>bogo</th>\n",
       "      <th>discount</th>\n",
       "      <th>informational</th>\n",
       "      <th>channel_email</th>\n",
       "      <th>channel_mobile</th>\n",
       "      <th>channel_social</th>\n",
       "      <th>channel_web</th>\n",
       "      <th>bogo_1</th>\n",
       "      <th>bogo_2</th>\n",
       "      <th>bogo_3</th>\n",
       "      <th>bogo_4</th>\n",
       "      <th>disc_1</th>\n",
       "      <th>disc_2</th>\n",
       "      <th>disc_3</th>\n",
       "      <th>disc_4</th>\n",
       "      <th>info_1</th>\n",
       "      <th>info_2</th>\n",
       "    </tr>\n",
       "  </thead>\n",
       "  <tbody>\n",
       "    <tr>\n",
       "      <th>0</th>\n",
       "      <td>78afa995795e4d85b5d9ceeca43f5fef</td>\n",
       "      <td>0</td>\n",
       "      <td>0</td>\n",
       "      <td>1</td>\n",
       "      <td>0</td>\n",
       "      <td>0</td>\n",
       "      <td>NaN</td>\n",
       "      <td>NaN</td>\n",
       "      <td>75</td>\n",
       "      <td>2017-05-09</td>\n",
       "      <td>1238</td>\n",
       "      <td>F</td>\n",
       "      <td>100000.0</td>\n",
       "      <td>5.0</td>\n",
       "      <td>7.0</td>\n",
       "      <td>bogo</td>\n",
       "      <td>5.0</td>\n",
       "      <td>1.0</td>\n",
       "      <td>0.0</td>\n",
       "      <td>0.0</td>\n",
       "      <td>1.0</td>\n",
       "      <td>1.0</td>\n",
       "      <td>0.0</td>\n",
       "      <td>1.0</td>\n",
       "      <td>0</td>\n",
       "      <td>0</td>\n",
       "      <td>1</td>\n",
       "      <td>0</td>\n",
       "      <td>0</td>\n",
       "      <td>0</td>\n",
       "      <td>0</td>\n",
       "      <td>0</td>\n",
       "      <td>0</td>\n",
       "      <td>0</td>\n",
       "    </tr>\n",
       "    <tr>\n",
       "      <th>1</th>\n",
       "      <td>e2127556f4f64592b11af22de27a7932</td>\n",
       "      <td>0</td>\n",
       "      <td>0</td>\n",
       "      <td>1</td>\n",
       "      <td>0</td>\n",
       "      <td>0</td>\n",
       "      <td>NaN</td>\n",
       "      <td>NaN</td>\n",
       "      <td>68</td>\n",
       "      <td>2018-04-26</td>\n",
       "      <td>886</td>\n",
       "      <td>M</td>\n",
       "      <td>70000.0</td>\n",
       "      <td>10.0</td>\n",
       "      <td>7.0</td>\n",
       "      <td>discount</td>\n",
       "      <td>2.0</td>\n",
       "      <td>0.0</td>\n",
       "      <td>1.0</td>\n",
       "      <td>0.0</td>\n",
       "      <td>1.0</td>\n",
       "      <td>1.0</td>\n",
       "      <td>0.0</td>\n",
       "      <td>1.0</td>\n",
       "      <td>0</td>\n",
       "      <td>0</td>\n",
       "      <td>0</td>\n",
       "      <td>0</td>\n",
       "      <td>0</td>\n",
       "      <td>0</td>\n",
       "      <td>0</td>\n",
       "      <td>1</td>\n",
       "      <td>0</td>\n",
       "      <td>0</td>\n",
       "    </tr>\n",
       "    <tr>\n",
       "      <th>2</th>\n",
       "      <td>389bc3fa690240e798340f5a15918d5c</td>\n",
       "      <td>0</td>\n",
       "      <td>0</td>\n",
       "      <td>1</td>\n",
       "      <td>0</td>\n",
       "      <td>0</td>\n",
       "      <td>NaN</td>\n",
       "      <td>NaN</td>\n",
       "      <td>65</td>\n",
       "      <td>2018-02-09</td>\n",
       "      <td>962</td>\n",
       "      <td>M</td>\n",
       "      <td>53000.0</td>\n",
       "      <td>5.0</td>\n",
       "      <td>5.0</td>\n",
       "      <td>bogo</td>\n",
       "      <td>5.0</td>\n",
       "      <td>1.0</td>\n",
       "      <td>0.0</td>\n",
       "      <td>0.0</td>\n",
       "      <td>1.0</td>\n",
       "      <td>1.0</td>\n",
       "      <td>1.0</td>\n",
       "      <td>1.0</td>\n",
       "      <td>0</td>\n",
       "      <td>0</td>\n",
       "      <td>0</td>\n",
       "      <td>1</td>\n",
       "      <td>0</td>\n",
       "      <td>0</td>\n",
       "      <td>0</td>\n",
       "      <td>0</td>\n",
       "      <td>0</td>\n",
       "      <td>0</td>\n",
       "    </tr>\n",
       "    <tr>\n",
       "      <th>3</th>\n",
       "      <td>2eeac8d8feae4a8cad5a6af0499a211d</td>\n",
       "      <td>0</td>\n",
       "      <td>0</td>\n",
       "      <td>1</td>\n",
       "      <td>0</td>\n",
       "      <td>0</td>\n",
       "      <td>NaN</td>\n",
       "      <td>NaN</td>\n",
       "      <td>58</td>\n",
       "      <td>2017-11-11</td>\n",
       "      <td>1052</td>\n",
       "      <td>M</td>\n",
       "      <td>51000.0</td>\n",
       "      <td>0.0</td>\n",
       "      <td>4.0</td>\n",
       "      <td>informational</td>\n",
       "      <td>0.0</td>\n",
       "      <td>0.0</td>\n",
       "      <td>0.0</td>\n",
       "      <td>1.0</td>\n",
       "      <td>1.0</td>\n",
       "      <td>1.0</td>\n",
       "      <td>0.0</td>\n",
       "      <td>1.0</td>\n",
       "      <td>0</td>\n",
       "      <td>0</td>\n",
       "      <td>0</td>\n",
       "      <td>0</td>\n",
       "      <td>0</td>\n",
       "      <td>0</td>\n",
       "      <td>0</td>\n",
       "      <td>0</td>\n",
       "      <td>1</td>\n",
       "      <td>0</td>\n",
       "    </tr>\n",
       "    <tr>\n",
       "      <th>4</th>\n",
       "      <td>aa4862eba776480b8bb9c68455b8c2e1</td>\n",
       "      <td>0</td>\n",
       "      <td>0</td>\n",
       "      <td>1</td>\n",
       "      <td>0</td>\n",
       "      <td>0</td>\n",
       "      <td>NaN</td>\n",
       "      <td>NaN</td>\n",
       "      <td>61</td>\n",
       "      <td>2017-09-11</td>\n",
       "      <td>1113</td>\n",
       "      <td>F</td>\n",
       "      <td>57000.0</td>\n",
       "      <td>20.0</td>\n",
       "      <td>10.0</td>\n",
       "      <td>discount</td>\n",
       "      <td>5.0</td>\n",
       "      <td>0.0</td>\n",
       "      <td>1.0</td>\n",
       "      <td>0.0</td>\n",
       "      <td>1.0</td>\n",
       "      <td>0.0</td>\n",
       "      <td>0.0</td>\n",
       "      <td>1.0</td>\n",
       "      <td>0</td>\n",
       "      <td>0</td>\n",
       "      <td>0</td>\n",
       "      <td>0</td>\n",
       "      <td>1</td>\n",
       "      <td>0</td>\n",
       "      <td>0</td>\n",
       "      <td>0</td>\n",
       "      <td>0</td>\n",
       "      <td>0</td>\n",
       "    </tr>\n",
       "  </tbody>\n",
       "</table>\n",
       "</div>"
      ],
      "text/plain": [
       "                        customer_id  time  event_offer_completed  \\\n",
       "0  78afa995795e4d85b5d9ceeca43f5fef     0                      0   \n",
       "1  e2127556f4f64592b11af22de27a7932     0                      0   \n",
       "2  389bc3fa690240e798340f5a15918d5c     0                      0   \n",
       "3  2eeac8d8feae4a8cad5a6af0499a211d     0                      0   \n",
       "4  aa4862eba776480b8bb9c68455b8c2e1     0                      0   \n",
       "\n",
       "   event_offer_received  event_offer_viewed  event_transaction  amount  \\\n",
       "0                     1                   0                  0     NaN   \n",
       "1                     1                   0                  0     NaN   \n",
       "2                     1                   0                  0     NaN   \n",
       "3                     1                   0                  0     NaN   \n",
       "4                     1                   0                  0     NaN   \n",
       "\n",
       "   reward_x  age became_member_on  days_as_member gender    income  \\\n",
       "0       NaN   75       2017-05-09            1238      F  100000.0   \n",
       "1       NaN   68       2018-04-26             886      M   70000.0   \n",
       "2       NaN   65       2018-02-09             962      M   53000.0   \n",
       "3       NaN   58       2017-11-11            1052      M   51000.0   \n",
       "4       NaN   61       2017-09-11            1113      F   57000.0   \n",
       "\n",
       "   difficulty  duration     offer_type  reward_y  bogo  discount  \\\n",
       "0         5.0       7.0           bogo       5.0   1.0       0.0   \n",
       "1        10.0       7.0       discount       2.0   0.0       1.0   \n",
       "2         5.0       5.0           bogo       5.0   1.0       0.0   \n",
       "3         0.0       4.0  informational       0.0   0.0       0.0   \n",
       "4        20.0      10.0       discount       5.0   0.0       1.0   \n",
       "\n",
       "   informational  channel_email  channel_mobile  channel_social  channel_web  \\\n",
       "0            0.0            1.0             1.0             0.0          1.0   \n",
       "1            0.0            1.0             1.0             0.0          1.0   \n",
       "2            0.0            1.0             1.0             1.0          1.0   \n",
       "3            1.0            1.0             1.0             0.0          1.0   \n",
       "4            0.0            1.0             0.0             0.0          1.0   \n",
       "\n",
       "   bogo_1  bogo_2  bogo_3  bogo_4  disc_1  disc_2  disc_3  disc_4  info_1  \\\n",
       "0       0       0       1       0       0       0       0       0       0   \n",
       "1       0       0       0       0       0       0       0       1       0   \n",
       "2       0       0       0       1       0       0       0       0       0   \n",
       "3       0       0       0       0       0       0       0       0       1   \n",
       "4       0       0       0       0       1       0       0       0       0   \n",
       "\n",
       "   info_2  \n",
       "0       0  \n",
       "1       0  \n",
       "2       0  \n",
       "3       0  \n",
       "4       0  "
      ]
     },
     "execution_count": 79,
     "metadata": {},
     "output_type": "execute_result"
    }
   ],
   "source": [
    "pd.set_option('display.max_columns',50)\n",
    "# View first few lines of df\n",
    "model_df.head()"
   ]
  },
  {
   "cell_type": "code",
   "execution_count": 80,
   "metadata": {},
   "outputs": [
    {
     "data": {
      "text/plain": [
       "(272388, 34)"
      ]
     },
     "execution_count": 80,
     "metadata": {},
     "output_type": "execute_result"
    }
   ],
   "source": [
    "model_df.shape"
   ]
  },
  {
   "cell_type": "code",
   "execution_count": 81,
   "metadata": {},
   "outputs": [
    {
     "data": {
      "text/plain": [
       "Index(['customer_id', 'time', 'event_offer_completed', 'event_offer_received',\n",
       "       'event_offer_viewed', 'event_transaction', 'amount', 'reward_x', 'age',\n",
       "       'became_member_on', 'days_as_member', 'gender', 'income', 'difficulty',\n",
       "       'duration', 'offer_type', 'reward_y', 'bogo', 'discount',\n",
       "       'informational', 'channel_email', 'channel_mobile', 'channel_social',\n",
       "       'channel_web', 'bogo_1', 'bogo_2', 'bogo_3', 'bogo_4', 'disc_1',\n",
       "       'disc_2', 'disc_3', 'disc_4', 'info_1', 'info_2'],\n",
       "      dtype='object')"
      ]
     },
     "execution_count": 81,
     "metadata": {},
     "output_type": "execute_result"
    }
   ],
   "source": [
    "# Get list of df columns\n",
    "model_df.columns"
   ]
  },
  {
   "cell_type": "code",
   "execution_count": 82,
   "metadata": {},
   "outputs": [],
   "source": [
    "# Aggregate the model df\n",
    "model_df = model_df.groupby(['customer_id' ]).agg(\n",
    "    {    'time':'mean',\n",
    "         'event_offer_completed':'sum',   \n",
    "         'event_offer_received':'sum', \n",
    "         'event_offer_viewed':'sum',\n",
    "         'event_transaction':'sum', \n",
    "         'amount':'sum',\n",
    "         'reward_x':'sum',\n",
    "         'age':'last',\n",
    "         'became_member_on':'last',\n",
    "         'days_as_member':'last',            \n",
    "         'gender':'last',\n",
    "         'income':'last',\n",
    "         'difficulty':'sum',\n",
    "         'duration':'mean',\n",
    "         'reward_y':'sum',\n",
    "         'bogo':'sum',\n",
    "         'discount':'sum',\n",
    "         'informational':'sum',\n",
    "         'channel_email':'sum',\n",
    "         'channel_mobile':'sum',\n",
    "         'channel_social':'sum',\n",
    "         'channel_web':'sum',\n",
    "         'bogo_1':'sum',\n",
    "         'bogo_2':'sum',\n",
    "         'bogo_3':'sum',\n",
    "         'bogo_4':'sum',\n",
    "         'disc_1':'sum',\n",
    "         'disc_2':'sum',\n",
    "         'disc_3':'sum',\n",
    "         'disc_4':'sum',\n",
    "         'info_1':'sum',\n",
    "         'info_2':'sum'\n",
    "        \n",
    "    }\n",
    ").reset_index()"
   ]
  },
  {
   "cell_type": "code",
   "execution_count": 83,
   "metadata": {
    "scrolled": true
   },
   "outputs": [
    {
     "data": {
      "text/html": [
       "<div>\n",
       "<style scoped>\n",
       "    .dataframe tbody tr th:only-of-type {\n",
       "        vertical-align: middle;\n",
       "    }\n",
       "\n",
       "    .dataframe tbody tr th {\n",
       "        vertical-align: top;\n",
       "    }\n",
       "\n",
       "    .dataframe thead th {\n",
       "        text-align: right;\n",
       "    }\n",
       "</style>\n",
       "<table border=\"1\" class=\"dataframe\">\n",
       "  <thead>\n",
       "    <tr style=\"text-align: right;\">\n",
       "      <th></th>\n",
       "      <th>customer_id</th>\n",
       "      <th>time</th>\n",
       "      <th>event_offer_completed</th>\n",
       "      <th>event_offer_received</th>\n",
       "      <th>event_offer_viewed</th>\n",
       "      <th>event_transaction</th>\n",
       "      <th>amount</th>\n",
       "      <th>reward_x</th>\n",
       "      <th>age</th>\n",
       "      <th>became_member_on</th>\n",
       "      <th>days_as_member</th>\n",
       "      <th>gender</th>\n",
       "      <th>income</th>\n",
       "      <th>difficulty</th>\n",
       "      <th>duration</th>\n",
       "      <th>reward_y</th>\n",
       "      <th>bogo</th>\n",
       "      <th>discount</th>\n",
       "      <th>informational</th>\n",
       "      <th>channel_email</th>\n",
       "      <th>channel_mobile</th>\n",
       "      <th>channel_social</th>\n",
       "      <th>channel_web</th>\n",
       "      <th>bogo_1</th>\n",
       "      <th>bogo_2</th>\n",
       "      <th>bogo_3</th>\n",
       "      <th>bogo_4</th>\n",
       "      <th>disc_1</th>\n",
       "      <th>disc_2</th>\n",
       "      <th>disc_3</th>\n",
       "      <th>disc_4</th>\n",
       "      <th>info_1</th>\n",
       "      <th>info_2</th>\n",
       "    </tr>\n",
       "  </thead>\n",
       "  <tbody>\n",
       "    <tr>\n",
       "      <th>0</th>\n",
       "      <td>0009655768c64bdeb2e877511632db8f</td>\n",
       "      <td>470.700000</td>\n",
       "      <td>3</td>\n",
       "      <td>5</td>\n",
       "      <td>4</td>\n",
       "      <td>8</td>\n",
       "      <td>127.60</td>\n",
       "      <td>9.0</td>\n",
       "      <td>33</td>\n",
       "      <td>2017-04-21</td>\n",
       "      <td>1256</td>\n",
       "      <td>M</td>\n",
       "      <td>72000.0</td>\n",
       "      <td>65.0</td>\n",
       "      <td>6.083333</td>\n",
       "      <td>25.0</td>\n",
       "      <td>3.0</td>\n",
       "      <td>5.0</td>\n",
       "      <td>4.0</td>\n",
       "      <td>12.0</td>\n",
       "      <td>12.0</td>\n",
       "      <td>8.0</td>\n",
       "      <td>10.0</td>\n",
       "      <td>0</td>\n",
       "      <td>0</td>\n",
       "      <td>0</td>\n",
       "      <td>3</td>\n",
       "      <td>0</td>\n",
       "      <td>0</td>\n",
       "      <td>3</td>\n",
       "      <td>2</td>\n",
       "      <td>2</td>\n",
       "      <td>2</td>\n",
       "    </tr>\n",
       "    <tr>\n",
       "      <th>1</th>\n",
       "      <td>0011e0d4e6b944f998e987f904e8c1e5</td>\n",
       "      <td>365.000000</td>\n",
       "      <td>3</td>\n",
       "      <td>5</td>\n",
       "      <td>5</td>\n",
       "      <td>5</td>\n",
       "      <td>79.46</td>\n",
       "      <td>13.0</td>\n",
       "      <td>40</td>\n",
       "      <td>2018-01-09</td>\n",
       "      <td>993</td>\n",
       "      <td>O</td>\n",
       "      <td>57000.0</td>\n",
       "      <td>96.0</td>\n",
       "      <td>6.615385</td>\n",
       "      <td>39.0</td>\n",
       "      <td>3.0</td>\n",
       "      <td>6.0</td>\n",
       "      <td>4.0</td>\n",
       "      <td>13.0</td>\n",
       "      <td>10.0</td>\n",
       "      <td>5.0</td>\n",
       "      <td>11.0</td>\n",
       "      <td>0</td>\n",
       "      <td>0</td>\n",
       "      <td>3</td>\n",
       "      <td>0</td>\n",
       "      <td>3</td>\n",
       "      <td>3</td>\n",
       "      <td>0</td>\n",
       "      <td>0</td>\n",
       "      <td>2</td>\n",
       "      <td>2</td>\n",
       "    </tr>\n",
       "    <tr>\n",
       "      <th>2</th>\n",
       "      <td>0020c2b971eb4e9188eac86d93036a77</td>\n",
       "      <td>335.684211</td>\n",
       "      <td>3</td>\n",
       "      <td>5</td>\n",
       "      <td>3</td>\n",
       "      <td>8</td>\n",
       "      <td>196.86</td>\n",
       "      <td>14.0</td>\n",
       "      <td>59</td>\n",
       "      <td>2016-03-04</td>\n",
       "      <td>1669</td>\n",
       "      <td>F</td>\n",
       "      <td>90000.0</td>\n",
       "      <td>90.0</td>\n",
       "      <td>7.090909</td>\n",
       "      <td>50.0</td>\n",
       "      <td>4.0</td>\n",
       "      <td>5.0</td>\n",
       "      <td>2.0</td>\n",
       "      <td>11.0</td>\n",
       "      <td>11.0</td>\n",
       "      <td>11.0</td>\n",
       "      <td>8.0</td>\n",
       "      <td>1</td>\n",
       "      <td>3</td>\n",
       "      <td>0</td>\n",
       "      <td>0</td>\n",
       "      <td>0</td>\n",
       "      <td>0</td>\n",
       "      <td>5</td>\n",
       "      <td>0</td>\n",
       "      <td>0</td>\n",
       "      <td>2</td>\n",
       "    </tr>\n",
       "    <tr>\n",
       "      <th>3</th>\n",
       "      <td>0020ccbbb6d84e358d3414a3ff76cffd</td>\n",
       "      <td>374.869565</td>\n",
       "      <td>3</td>\n",
       "      <td>4</td>\n",
       "      <td>4</td>\n",
       "      <td>12</td>\n",
       "      <td>154.05</td>\n",
       "      <td>13.0</td>\n",
       "      <td>24</td>\n",
       "      <td>2016-11-11</td>\n",
       "      <td>1417</td>\n",
       "      <td>F</td>\n",
       "      <td>60000.0</td>\n",
       "      <td>51.0</td>\n",
       "      <td>5.727273</td>\n",
       "      <td>39.0</td>\n",
       "      <td>6.0</td>\n",
       "      <td>3.0</td>\n",
       "      <td>2.0</td>\n",
       "      <td>11.0</td>\n",
       "      <td>11.0</td>\n",
       "      <td>8.0</td>\n",
       "      <td>9.0</td>\n",
       "      <td>0</td>\n",
       "      <td>0</td>\n",
       "      <td>3</td>\n",
       "      <td>3</td>\n",
       "      <td>0</td>\n",
       "      <td>3</td>\n",
       "      <td>0</td>\n",
       "      <td>0</td>\n",
       "      <td>0</td>\n",
       "      <td>2</td>\n",
       "    </tr>\n",
       "    <tr>\n",
       "      <th>4</th>\n",
       "      <td>003d66b6608740288d6cc97a6903f4f0</td>\n",
       "      <td>390.600000</td>\n",
       "      <td>3</td>\n",
       "      <td>5</td>\n",
       "      <td>4</td>\n",
       "      <td>18</td>\n",
       "      <td>48.34</td>\n",
       "      <td>9.0</td>\n",
       "      <td>26</td>\n",
       "      <td>2017-06-21</td>\n",
       "      <td>1195</td>\n",
       "      <td>F</td>\n",
       "      <td>73000.0</td>\n",
       "      <td>100.0</td>\n",
       "      <td>7.833333</td>\n",
       "      <td>22.0</td>\n",
       "      <td>0.0</td>\n",
       "      <td>8.0</td>\n",
       "      <td>4.0</td>\n",
       "      <td>12.0</td>\n",
       "      <td>10.0</td>\n",
       "      <td>8.0</td>\n",
       "      <td>10.0</td>\n",
       "      <td>0</td>\n",
       "      <td>0</td>\n",
       "      <td>0</td>\n",
       "      <td>0</td>\n",
       "      <td>2</td>\n",
       "      <td>0</td>\n",
       "      <td>6</td>\n",
       "      <td>0</td>\n",
       "      <td>2</td>\n",
       "      <td>2</td>\n",
       "    </tr>\n",
       "  </tbody>\n",
       "</table>\n",
       "</div>"
      ],
      "text/plain": [
       "                        customer_id        time  event_offer_completed  \\\n",
       "0  0009655768c64bdeb2e877511632db8f  470.700000                      3   \n",
       "1  0011e0d4e6b944f998e987f904e8c1e5  365.000000                      3   \n",
       "2  0020c2b971eb4e9188eac86d93036a77  335.684211                      3   \n",
       "3  0020ccbbb6d84e358d3414a3ff76cffd  374.869565                      3   \n",
       "4  003d66b6608740288d6cc97a6903f4f0  390.600000                      3   \n",
       "\n",
       "   event_offer_received  event_offer_viewed  event_transaction  amount  \\\n",
       "0                     5                   4                  8  127.60   \n",
       "1                     5                   5                  5   79.46   \n",
       "2                     5                   3                  8  196.86   \n",
       "3                     4                   4                 12  154.05   \n",
       "4                     5                   4                 18   48.34   \n",
       "\n",
       "   reward_x  age became_member_on  days_as_member gender   income  difficulty  \\\n",
       "0       9.0   33       2017-04-21            1256      M  72000.0        65.0   \n",
       "1      13.0   40       2018-01-09             993      O  57000.0        96.0   \n",
       "2      14.0   59       2016-03-04            1669      F  90000.0        90.0   \n",
       "3      13.0   24       2016-11-11            1417      F  60000.0        51.0   \n",
       "4       9.0   26       2017-06-21            1195      F  73000.0       100.0   \n",
       "\n",
       "   duration  reward_y  bogo  discount  informational  channel_email  \\\n",
       "0  6.083333      25.0   3.0       5.0            4.0           12.0   \n",
       "1  6.615385      39.0   3.0       6.0            4.0           13.0   \n",
       "2  7.090909      50.0   4.0       5.0            2.0           11.0   \n",
       "3  5.727273      39.0   6.0       3.0            2.0           11.0   \n",
       "4  7.833333      22.0   0.0       8.0            4.0           12.0   \n",
       "\n",
       "   channel_mobile  channel_social  channel_web  bogo_1  bogo_2  bogo_3  \\\n",
       "0            12.0             8.0         10.0       0       0       0   \n",
       "1            10.0             5.0         11.0       0       0       3   \n",
       "2            11.0            11.0          8.0       1       3       0   \n",
       "3            11.0             8.0          9.0       0       0       3   \n",
       "4            10.0             8.0         10.0       0       0       0   \n",
       "\n",
       "   bogo_4  disc_1  disc_2  disc_3  disc_4  info_1  info_2  \n",
       "0       3       0       0       3       2       2       2  \n",
       "1       0       3       3       0       0       2       2  \n",
       "2       0       0       0       5       0       0       2  \n",
       "3       3       0       3       0       0       0       2  \n",
       "4       0       2       0       6       0       2       2  "
      ]
     },
     "execution_count": 83,
     "metadata": {},
     "output_type": "execute_result"
    }
   ],
   "source": [
    "model_df.head()"
   ]
  },
  {
   "cell_type": "code",
   "execution_count": 84,
   "metadata": {},
   "outputs": [
    {
     "data": {
      "text/plain": [
       "customer_id              0\n",
       "time                     0\n",
       "event_offer_completed    0\n",
       "event_offer_received     0\n",
       "event_offer_viewed       0\n",
       "event_transaction        0\n",
       "amount                   0\n",
       "reward_x                 0\n",
       "age                      0\n",
       "became_member_on         0\n",
       "days_as_member           0\n",
       "gender                   0\n",
       "income                   0\n",
       "difficulty               0\n",
       "duration                 5\n",
       "reward_y                 0\n",
       "bogo                     0\n",
       "discount                 0\n",
       "informational            0\n",
       "channel_email            0\n",
       "channel_mobile           0\n",
       "channel_social           0\n",
       "channel_web              0\n",
       "bogo_1                   0\n",
       "bogo_2                   0\n",
       "bogo_3                   0\n",
       "bogo_4                   0\n",
       "disc_1                   0\n",
       "disc_2                   0\n",
       "disc_3                   0\n",
       "disc_4                   0\n",
       "info_1                   0\n",
       "info_2                   0\n",
       "dtype: int64"
      ]
     },
     "execution_count": 84,
     "metadata": {},
     "output_type": "execute_result"
    }
   ],
   "source": [
    "# Check if there are any null values\n",
    "model_df.isnull().sum()"
   ]
  },
  {
   "cell_type": "markdown",
   "metadata": {},
   "source": [
    "### BASELINE MODEL"
   ]
  },
  {
   "cell_type": "code",
   "execution_count": 85,
   "metadata": {},
   "outputs": [],
   "source": [
    "def clean_model_df(df):\n",
    "    \"\"\" Cleans a DataFrame that contains features in preparation for test train split\n",
    "    Clean the model dataset:\n",
    "    - Dummy the gender column with 1s and 0s\n",
    "    - Get year from became a member column and dummy it\n",
    "    - Fill missing values in numeric columns with mean\n",
    "    - Normalize columns\n",
    "    - Drop columns\n",
    "    \n",
    "    INPUT:\n",
    "        model_df: DataFrame that contains all features for model\n",
    "       \n",
    "    OUTPUT:\n",
    "        clean model dataframe with\n",
    "\n",
    "    \"\"\"\n",
    "    \n",
    "    \n",
    "    # Dummy gender column\n",
    "    gender_dummy = pd.get_dummies(df['gender'])\n",
    "    \n",
    "    # Get year only\n",
    "    year_only = df['became_member_on'].dt.year\n",
    "    \n",
    "    # Dummy year only\n",
    "    year_dummies = pd.get_dummies(year_only).astype(int)\n",
    "    \n",
    "    # Dummy offer_id column\n",
    "    #offer_dummy = pd.get_dummies(df['offer_id'])\n",
    "    \n",
    "    \n",
    "    \n",
    "#     For age use function process_cut\n",
    "#     cut_points = [10, 20, 30, 40, 50, 60, 70, 80, 90, 100]\n",
    "#     df['age_cat'] = pd.cut(df['age'], cut_points)\n",
    "#     age_dummies = pd.get_dummies(df['age_cat'])\n",
    "    \n",
    "    #diff_dummy = pd.get_dummies(df['difficulty'])\n",
    "    \n",
    "    # Addition for df\n",
    "        \n",
    "    # Fill numeric columns with the mean\n",
    "    # The numeric columns are alot fewer than the categorical column and the missing values are relatively small\n",
    "    num_vars = df.select_dtypes(include=['float', 'int']).columns\n",
    "    for col in num_vars:\n",
    "        df[col].fillna((df[col].mean()), inplace=True)\n",
    "\n",
    "    # Normalize columns\n",
    "    \n",
    "    column_normalize = ['time', 'income', 'days_as_member', 'duration', 'age', 'amount'] #'reward_x', 'reward_y', #'difficulty'\n",
    "\n",
    "    for col in column_normalize:\n",
    "        df[col] = minmax_scale(df[col])\n",
    "    \n",
    "    # Concat dummy dfs to model_df\n",
    "    model_df = pd.concat([df, year_dummies], axis=1)\n",
    "\n",
    "    \n",
    "    \n",
    "   # Drop channels and offer type columns\n",
    "    model_df = model_df.drop(columns=['gender', 'became_member_on']) #, 'age', 'age_cat',\n",
    "                                     #]) #'reward_x'\n",
    "    \n",
    "    \n",
    "    return model_df\n",
    "    "
   ]
  },
  {
   "cell_type": "code",
   "execution_count": 86,
   "metadata": {},
   "outputs": [
    {
     "name": "stderr",
     "output_type": "stream",
     "text": [
      "/opt/conda/lib/python3.6/site-packages/sklearn/utils/validation.py:475: DataConversionWarning: Data with input dtype int64 was converted to float64.\n",
      "  warnings.warn(msg, DataConversionWarning)\n"
     ]
    },
    {
     "data": {
      "text/html": [
       "<div>\n",
       "<style scoped>\n",
       "    .dataframe tbody tr th:only-of-type {\n",
       "        vertical-align: middle;\n",
       "    }\n",
       "\n",
       "    .dataframe tbody tr th {\n",
       "        vertical-align: top;\n",
       "    }\n",
       "\n",
       "    .dataframe thead th {\n",
       "        text-align: right;\n",
       "    }\n",
       "</style>\n",
       "<table border=\"1\" class=\"dataframe\">\n",
       "  <thead>\n",
       "    <tr style=\"text-align: right;\">\n",
       "      <th></th>\n",
       "      <th>customer_id</th>\n",
       "      <th>time</th>\n",
       "      <th>event_offer_completed</th>\n",
       "      <th>event_offer_received</th>\n",
       "      <th>event_offer_viewed</th>\n",
       "      <th>event_transaction</th>\n",
       "      <th>amount</th>\n",
       "      <th>reward_x</th>\n",
       "      <th>age</th>\n",
       "      <th>days_as_member</th>\n",
       "      <th>income</th>\n",
       "      <th>difficulty</th>\n",
       "      <th>duration</th>\n",
       "      <th>reward_y</th>\n",
       "      <th>bogo</th>\n",
       "      <th>discount</th>\n",
       "      <th>informational</th>\n",
       "      <th>channel_email</th>\n",
       "      <th>channel_mobile</th>\n",
       "      <th>channel_social</th>\n",
       "      <th>channel_web</th>\n",
       "      <th>bogo_1</th>\n",
       "      <th>bogo_2</th>\n",
       "      <th>bogo_3</th>\n",
       "      <th>bogo_4</th>\n",
       "      <th>disc_1</th>\n",
       "      <th>disc_2</th>\n",
       "      <th>disc_3</th>\n",
       "      <th>disc_4</th>\n",
       "      <th>info_1</th>\n",
       "      <th>info_2</th>\n",
       "      <th>2013</th>\n",
       "      <th>2014</th>\n",
       "      <th>2015</th>\n",
       "      <th>2016</th>\n",
       "      <th>2017</th>\n",
       "      <th>2018</th>\n",
       "    </tr>\n",
       "  </thead>\n",
       "  <tbody>\n",
       "    <tr>\n",
       "      <th>0</th>\n",
       "      <td>0009655768c64bdeb2e877511632db8f</td>\n",
       "      <td>0.752755</td>\n",
       "      <td>3</td>\n",
       "      <td>5</td>\n",
       "      <td>4</td>\n",
       "      <td>8</td>\n",
       "      <td>0.079319</td>\n",
       "      <td>9.0</td>\n",
       "      <td>0.180723</td>\n",
       "      <td>0.252880</td>\n",
       "      <td>0.466667</td>\n",
       "      <td>65.0</td>\n",
       "      <td>0.440476</td>\n",
       "      <td>25.0</td>\n",
       "      <td>3.0</td>\n",
       "      <td>5.0</td>\n",
       "      <td>4.0</td>\n",
       "      <td>12.0</td>\n",
       "      <td>12.0</td>\n",
       "      <td>8.0</td>\n",
       "      <td>10.0</td>\n",
       "      <td>0</td>\n",
       "      <td>0</td>\n",
       "      <td>0</td>\n",
       "      <td>3</td>\n",
       "      <td>0</td>\n",
       "      <td>0</td>\n",
       "      <td>3</td>\n",
       "      <td>2</td>\n",
       "      <td>2</td>\n",
       "      <td>2</td>\n",
       "      <td>0</td>\n",
       "      <td>0</td>\n",
       "      <td>0</td>\n",
       "      <td>0</td>\n",
       "      <td>1</td>\n",
       "      <td>0</td>\n",
       "    </tr>\n",
       "    <tr>\n",
       "      <th>1</th>\n",
       "      <td>0011e0d4e6b944f998e987f904e8c1e5</td>\n",
       "      <td>0.529961</td>\n",
       "      <td>3</td>\n",
       "      <td>5</td>\n",
       "      <td>5</td>\n",
       "      <td>5</td>\n",
       "      <td>0.049394</td>\n",
       "      <td>13.0</td>\n",
       "      <td>0.265060</td>\n",
       "      <td>0.108612</td>\n",
       "      <td>0.300000</td>\n",
       "      <td>96.0</td>\n",
       "      <td>0.516484</td>\n",
       "      <td>39.0</td>\n",
       "      <td>3.0</td>\n",
       "      <td>6.0</td>\n",
       "      <td>4.0</td>\n",
       "      <td>13.0</td>\n",
       "      <td>10.0</td>\n",
       "      <td>5.0</td>\n",
       "      <td>11.0</td>\n",
       "      <td>0</td>\n",
       "      <td>0</td>\n",
       "      <td>3</td>\n",
       "      <td>0</td>\n",
       "      <td>3</td>\n",
       "      <td>3</td>\n",
       "      <td>0</td>\n",
       "      <td>0</td>\n",
       "      <td>2</td>\n",
       "      <td>2</td>\n",
       "      <td>0</td>\n",
       "      <td>0</td>\n",
       "      <td>0</td>\n",
       "      <td>0</td>\n",
       "      <td>0</td>\n",
       "      <td>1</td>\n",
       "    </tr>\n",
       "    <tr>\n",
       "      <th>2</th>\n",
       "      <td>0020c2b971eb4e9188eac86d93036a77</td>\n",
       "      <td>0.468169</td>\n",
       "      <td>3</td>\n",
       "      <td>5</td>\n",
       "      <td>3</td>\n",
       "      <td>8</td>\n",
       "      <td>0.122373</td>\n",
       "      <td>14.0</td>\n",
       "      <td>0.493976</td>\n",
       "      <td>0.479430</td>\n",
       "      <td>0.666667</td>\n",
       "      <td>90.0</td>\n",
       "      <td>0.584416</td>\n",
       "      <td>50.0</td>\n",
       "      <td>4.0</td>\n",
       "      <td>5.0</td>\n",
       "      <td>2.0</td>\n",
       "      <td>11.0</td>\n",
       "      <td>11.0</td>\n",
       "      <td>11.0</td>\n",
       "      <td>8.0</td>\n",
       "      <td>1</td>\n",
       "      <td>3</td>\n",
       "      <td>0</td>\n",
       "      <td>0</td>\n",
       "      <td>0</td>\n",
       "      <td>0</td>\n",
       "      <td>5</td>\n",
       "      <td>0</td>\n",
       "      <td>0</td>\n",
       "      <td>2</td>\n",
       "      <td>0</td>\n",
       "      <td>0</td>\n",
       "      <td>0</td>\n",
       "      <td>1</td>\n",
       "      <td>0</td>\n",
       "      <td>0</td>\n",
       "    </tr>\n",
       "    <tr>\n",
       "      <th>3</th>\n",
       "      <td>0020ccbbb6d84e358d3414a3ff76cffd</td>\n",
       "      <td>0.550764</td>\n",
       "      <td>3</td>\n",
       "      <td>4</td>\n",
       "      <td>4</td>\n",
       "      <td>12</td>\n",
       "      <td>0.095761</td>\n",
       "      <td>13.0</td>\n",
       "      <td>0.072289</td>\n",
       "      <td>0.341196</td>\n",
       "      <td>0.333333</td>\n",
       "      <td>51.0</td>\n",
       "      <td>0.389610</td>\n",
       "      <td>39.0</td>\n",
       "      <td>6.0</td>\n",
       "      <td>3.0</td>\n",
       "      <td>2.0</td>\n",
       "      <td>11.0</td>\n",
       "      <td>11.0</td>\n",
       "      <td>8.0</td>\n",
       "      <td>9.0</td>\n",
       "      <td>0</td>\n",
       "      <td>0</td>\n",
       "      <td>3</td>\n",
       "      <td>3</td>\n",
       "      <td>0</td>\n",
       "      <td>3</td>\n",
       "      <td>0</td>\n",
       "      <td>0</td>\n",
       "      <td>0</td>\n",
       "      <td>2</td>\n",
       "      <td>0</td>\n",
       "      <td>0</td>\n",
       "      <td>0</td>\n",
       "      <td>1</td>\n",
       "      <td>0</td>\n",
       "      <td>0</td>\n",
       "    </tr>\n",
       "    <tr>\n",
       "      <th>4</th>\n",
       "      <td>003d66b6608740288d6cc97a6903f4f0</td>\n",
       "      <td>0.583921</td>\n",
       "      <td>3</td>\n",
       "      <td>5</td>\n",
       "      <td>4</td>\n",
       "      <td>18</td>\n",
       "      <td>0.030049</td>\n",
       "      <td>9.0</td>\n",
       "      <td>0.096386</td>\n",
       "      <td>0.219419</td>\n",
       "      <td>0.477778</td>\n",
       "      <td>100.0</td>\n",
       "      <td>0.690476</td>\n",
       "      <td>22.0</td>\n",
       "      <td>0.0</td>\n",
       "      <td>8.0</td>\n",
       "      <td>4.0</td>\n",
       "      <td>12.0</td>\n",
       "      <td>10.0</td>\n",
       "      <td>8.0</td>\n",
       "      <td>10.0</td>\n",
       "      <td>0</td>\n",
       "      <td>0</td>\n",
       "      <td>0</td>\n",
       "      <td>0</td>\n",
       "      <td>2</td>\n",
       "      <td>0</td>\n",
       "      <td>6</td>\n",
       "      <td>0</td>\n",
       "      <td>2</td>\n",
       "      <td>2</td>\n",
       "      <td>0</td>\n",
       "      <td>0</td>\n",
       "      <td>0</td>\n",
       "      <td>0</td>\n",
       "      <td>1</td>\n",
       "      <td>0</td>\n",
       "    </tr>\n",
       "  </tbody>\n",
       "</table>\n",
       "</div>"
      ],
      "text/plain": [
       "                        customer_id      time  event_offer_completed  \\\n",
       "0  0009655768c64bdeb2e877511632db8f  0.752755                      3   \n",
       "1  0011e0d4e6b944f998e987f904e8c1e5  0.529961                      3   \n",
       "2  0020c2b971eb4e9188eac86d93036a77  0.468169                      3   \n",
       "3  0020ccbbb6d84e358d3414a3ff76cffd  0.550764                      3   \n",
       "4  003d66b6608740288d6cc97a6903f4f0  0.583921                      3   \n",
       "\n",
       "   event_offer_received  event_offer_viewed  event_transaction    amount  \\\n",
       "0                     5                   4                  8  0.079319   \n",
       "1                     5                   5                  5  0.049394   \n",
       "2                     5                   3                  8  0.122373   \n",
       "3                     4                   4                 12  0.095761   \n",
       "4                     5                   4                 18  0.030049   \n",
       "\n",
       "   reward_x       age  days_as_member    income  difficulty  duration  \\\n",
       "0       9.0  0.180723        0.252880  0.466667        65.0  0.440476   \n",
       "1      13.0  0.265060        0.108612  0.300000        96.0  0.516484   \n",
       "2      14.0  0.493976        0.479430  0.666667        90.0  0.584416   \n",
       "3      13.0  0.072289        0.341196  0.333333        51.0  0.389610   \n",
       "4       9.0  0.096386        0.219419  0.477778       100.0  0.690476   \n",
       "\n",
       "   reward_y  bogo  discount  informational  channel_email  channel_mobile  \\\n",
       "0      25.0   3.0       5.0            4.0           12.0            12.0   \n",
       "1      39.0   3.0       6.0            4.0           13.0            10.0   \n",
       "2      50.0   4.0       5.0            2.0           11.0            11.0   \n",
       "3      39.0   6.0       3.0            2.0           11.0            11.0   \n",
       "4      22.0   0.0       8.0            4.0           12.0            10.0   \n",
       "\n",
       "   channel_social  channel_web  bogo_1  bogo_2  bogo_3  bogo_4  disc_1  \\\n",
       "0             8.0         10.0       0       0       0       3       0   \n",
       "1             5.0         11.0       0       0       3       0       3   \n",
       "2            11.0          8.0       1       3       0       0       0   \n",
       "3             8.0          9.0       0       0       3       3       0   \n",
       "4             8.0         10.0       0       0       0       0       2   \n",
       "\n",
       "   disc_2  disc_3  disc_4  info_1  info_2  2013  2014  2015  2016  2017  2018  \n",
       "0       0       3       2       2       2     0     0     0     0     1     0  \n",
       "1       3       0       0       2       2     0     0     0     0     0     1  \n",
       "2       0       5       0       0       2     0     0     0     1     0     0  \n",
       "3       3       0       0       0       2     0     0     0     1     0     0  \n",
       "4       0       6       0       2       2     0     0     0     0     1     0  "
      ]
     },
     "execution_count": 86,
     "metadata": {},
     "output_type": "execute_result"
    }
   ],
   "source": [
    "# Use clean model df to clean model df and view first fews rows\n",
    "pd.options.mode.chained_assignment = None\n",
    "pd.set_option('display.max_columns',37)\n",
    "model_df = clean_model_df(model_df)\n",
    "model_df.head()"
   ]
  },
  {
   "cell_type": "code",
   "execution_count": 87,
   "metadata": {},
   "outputs": [
    {
     "data": {
      "text/plain": [
       "(14825, 37)"
      ]
     },
     "execution_count": 87,
     "metadata": {},
     "output_type": "execute_result"
    }
   ],
   "source": [
    "# GEt shape of model\n",
    "model_df.shape"
   ]
  },
  {
   "cell_type": "code",
   "execution_count": 88,
   "metadata": {},
   "outputs": [
    {
     "data": {
      "text/plain": [
       "customer_id              0\n",
       "time                     0\n",
       "event_offer_completed    0\n",
       "event_offer_received     0\n",
       "event_offer_viewed       0\n",
       "event_transaction        0\n",
       "amount                   0\n",
       "reward_x                 0\n",
       "age                      0\n",
       "days_as_member           0\n",
       "income                   0\n",
       "difficulty               0\n",
       "duration                 0\n",
       "reward_y                 0\n",
       "bogo                     0\n",
       "discount                 0\n",
       "informational            0\n",
       "channel_email            0\n",
       "channel_mobile           0\n",
       "channel_social           0\n",
       "channel_web              0\n",
       "bogo_1                   0\n",
       "bogo_2                   0\n",
       "bogo_3                   0\n",
       "bogo_4                   0\n",
       "disc_1                   0\n",
       "disc_2                   0\n",
       "disc_3                   0\n",
       "disc_4                   0\n",
       "info_1                   0\n",
       "info_2                   0\n",
       "2013                     0\n",
       "2014                     0\n",
       "2015                     0\n",
       "2016                     0\n",
       "2017                     0\n",
       "2018                     0\n",
       "dtype: int64"
      ]
     },
     "execution_count": 88,
     "metadata": {},
     "output_type": "execute_result"
    }
   ],
   "source": [
    "# Check again if there are any null values\n",
    "model_df.isnull().sum()"
   ]
  },
  {
   "cell_type": "code",
   "execution_count": 89,
   "metadata": {},
   "outputs": [],
   "source": [
    "def train_test_data(df):\n",
    "    '''\n",
    "    Function to make train and test data\n",
    "    \n",
    "    INPUT:\n",
    "    model_df - data set having features and target variables\n",
    "    \n",
    "    OUTPUT:\n",
    "    x_train - training feature variables\n",
    "    x_test - testing feature variables\n",
    "    y_train - training target variable\n",
    "    y_test - testing target variable\n",
    "    \n",
    "    '''\n",
    "    # Setting target variable to 'amount'\n",
    "    y = df['event_offer_completed']\n",
    "    \n",
    "    # Making feature data set by removing target variable 'amount' from it\n",
    "    # We also remove 'customer_id' column as it gives no information to model\n",
    "    x = df.drop(['event_offer_completed', 'customer_id'], axis=1)\n",
    "    \n",
    "    # Making training and testing data sets\n",
    "    x_train, x_test, y_train, y_test = train_test_split(x, y, test_size=0.3, random_state=42)\n",
    "    \n",
    "#     from sklearn.datasets import make_classification\n",
    "#     from sklearn.model_selection import StratifiedKFold\n",
    "#     # generate 2 class dataset\n",
    "#     x, y = make_classification(n_samples=10000, n_classes=2, weights=[0.99, 0.01], flip_y=0, random_state=1)\n",
    "#     kfold = StratifiedKFold(n_splits=5, shuffle=True, random_state=1)\n",
    "#     # enumerate the splits and summarize the distributions\n",
    "#     for train_ix, test_ix in kfold.split(x, y):\n",
    "#         #select rows\n",
    "#         x_train, x_test = x[train_ix], x[test_ix]\n",
    "#         y_train, y_test = y[train_ix], y[test_ix]\n",
    "    \n",
    "    return x_train, x_test, y_train, y_test"
   ]
  },
  {
   "cell_type": "code",
   "execution_count": 90,
   "metadata": {},
   "outputs": [],
   "source": [
    "# Make the training and testing data sets\n",
    "x_train, x_test, y_train, y_test = train_test_data(model_df)"
   ]
  },
  {
   "cell_type": "code",
   "execution_count": 91,
   "metadata": {},
   "outputs": [],
   "source": [
    "    # Setting target variable to 'amount'\n",
    "y = model_df['event_offer_completed']\n",
    "    \n",
    "    # Making feature data set by removing target variable 'amount' from it\n",
    "    # We also remove 'customer_id' column as it gives no information to model\n",
    "x = model_df.drop(['event_offer_completed', 'customer_id'], axis=1)"
   ]
  },
  {
   "cell_type": "code",
   "execution_count": 92,
   "metadata": {},
   "outputs": [
    {
     "data": {
      "text/plain": [
       "0.14818299486156403"
      ]
     },
     "execution_count": 92,
     "metadata": {},
     "output_type": "execute_result"
    }
   ],
   "source": [
    "from sklearn.metrics import mean_squared_error, make_scorer\n",
    "model = RandomForestRegressor()\n",
    "\n",
    "# Fitting model instance on training data\n",
    "model.fit(x_train, y_train)\n",
    "    \n",
    "# Model predictions on train data \n",
    "y_train_predict = model.predict(x_train)\n",
    "\n",
    "# Model predictions on test data \n",
    "y_test_predict = model.predict(x_test)\n",
    "my_s = make_scorer(mean_squared_error)\n",
    "scores = cross_val_score(model, x, y, cv=5, scoring=my_s)\n",
    "np.sqrt(scores).mean()"
   ]
  },
  {
   "cell_type": "code",
   "execution_count": 93,
   "metadata": {},
   "outputs": [],
   "source": [
    "def model_evaluate(x_train, x_test, y_train, y_test, model):\n",
    "    '''\n",
    "    Function to take in the training and testing data and evaluate model performance\n",
    "    \n",
    "    INPUT:\n",
    "    model - model instance to use\n",
    "    x_train - training feature variables\n",
    "    x_test - testing feature variables\n",
    "    y_train - training target variable\n",
    "    y_test - testing target variable\n",
    "    Output:\n",
    "    train_rmse - Root Mean Squared Error on Training Data\n",
    "    test_rmse - Root Mean Squared Error on Testing Data\n",
    "    \n",
    "    '''\n",
    "       \n",
    "    # Fit model instance on training data\n",
    "    model.fit(x_train, y_train)\n",
    "    \n",
    "    # Model predictions on train data \n",
    "    y_train_predict = model.predict(x_train)\n",
    "\n",
    "    # Model predictions on test data \n",
    "    y_test_predict = model.predict(x_test)\n",
    "\n",
    "    train_rmse = np.sqrt(mean_squared_error(y_train, y_train_predict))\n",
    "\n",
    "    test_rmse = np.sqrt(mean_squared_error(y_test, y_test_predict))\n",
    "    \n",
    "    return train_rmse, test_rmse"
   ]
  },
  {
   "cell_type": "code",
   "execution_count": 94,
   "metadata": {},
   "outputs": [
    {
     "name": "stdout",
     "output_type": "stream",
     "text": [
      "Baseline Random Forest model performance:- Train RMSE error: 0.07048203364396896, Test RMSE error: 0.1419133132909264\n"
     ]
    }
   ],
   "source": [
    "model = RandomForestRegressor()\n",
    "train_rmse, test_rmse = model_evaluate(x_train, x_test, y_train, y_test, model)\n",
    "print(\"Baseline Random Forest model performance:- Train RMSE error: {}, Test RMSE error: {}\".format(train_rmse, test_rmse))"
   ]
  },
  {
   "cell_type": "code",
   "execution_count": 95,
   "metadata": {},
   "outputs": [
    {
     "name": "stdout",
     "output_type": "stream",
     "text": [
      "Mean Absolute Error (MAE): 0.0204394333622\n",
      "Mean Absolute Error (MAE): 0.0528776978417\n"
     ]
    }
   ],
   "source": [
    "# Get the mean absolute error of the model\n",
    "\n",
    "print('Mean Absolute Error (MAE):', metrics.mean_absolute_error(y_train, y_train_predict))\n",
    "\n",
    "print('Mean Absolute Error (MAE):', metrics.mean_absolute_error(y_test, y_test_predict))"
   ]
  },
  {
   "cell_type": "markdown",
   "metadata": {},
   "source": [
    "- The cross validation test score was 0.14193026981757537\n",
    "- Train RMSE error: 0.06849896017848293\n",
    "- Test RMSE error: 0.14594334665086545"
   ]
  },
  {
   "cell_type": "markdown",
   "metadata": {},
   "source": [
    "## TUNE WITH CORRELATION"
   ]
  },
  {
   "cell_type": "markdown",
   "metadata": {},
   "source": [
    "Lets see if we can get better results by reducing number of features and only using those most correlated with the target varialble"
   ]
  },
  {
   "cell_type": "code",
   "execution_count": 96,
   "metadata": {},
   "outputs": [
    {
     "data": {
      "text/html": [
       "<div>\n",
       "<style scoped>\n",
       "    .dataframe tbody tr th:only-of-type {\n",
       "        vertical-align: middle;\n",
       "    }\n",
       "\n",
       "    .dataframe tbody tr th {\n",
       "        vertical-align: top;\n",
       "    }\n",
       "\n",
       "    .dataframe thead th {\n",
       "        text-align: right;\n",
       "    }\n",
       "</style>\n",
       "<table border=\"1\" class=\"dataframe\">\n",
       "  <thead>\n",
       "    <tr style=\"text-align: right;\">\n",
       "      <th></th>\n",
       "      <th>customer_id</th>\n",
       "      <th>time</th>\n",
       "      <th>event_offer_completed</th>\n",
       "      <th>event_offer_received</th>\n",
       "      <th>event_offer_viewed</th>\n",
       "      <th>event_transaction</th>\n",
       "      <th>amount</th>\n",
       "      <th>reward_x</th>\n",
       "      <th>age</th>\n",
       "      <th>days_as_member</th>\n",
       "      <th>income</th>\n",
       "      <th>difficulty</th>\n",
       "      <th>duration</th>\n",
       "      <th>reward_y</th>\n",
       "      <th>bogo</th>\n",
       "      <th>discount</th>\n",
       "      <th>informational</th>\n",
       "      <th>channel_email</th>\n",
       "      <th>channel_mobile</th>\n",
       "      <th>channel_social</th>\n",
       "      <th>channel_web</th>\n",
       "      <th>bogo_1</th>\n",
       "      <th>bogo_2</th>\n",
       "      <th>bogo_3</th>\n",
       "      <th>bogo_4</th>\n",
       "      <th>disc_1</th>\n",
       "      <th>disc_2</th>\n",
       "      <th>disc_3</th>\n",
       "      <th>disc_4</th>\n",
       "      <th>info_1</th>\n",
       "      <th>info_2</th>\n",
       "      <th>2013</th>\n",
       "      <th>2014</th>\n",
       "      <th>2015</th>\n",
       "      <th>2016</th>\n",
       "      <th>2017</th>\n",
       "      <th>2018</th>\n",
       "    </tr>\n",
       "  </thead>\n",
       "  <tbody>\n",
       "    <tr>\n",
       "      <th>0</th>\n",
       "      <td>0009655768c64bdeb2e877511632db8f</td>\n",
       "      <td>0.752755</td>\n",
       "      <td>3</td>\n",
       "      <td>5</td>\n",
       "      <td>4</td>\n",
       "      <td>8</td>\n",
       "      <td>0.079319</td>\n",
       "      <td>9.0</td>\n",
       "      <td>0.180723</td>\n",
       "      <td>0.252880</td>\n",
       "      <td>0.466667</td>\n",
       "      <td>65.0</td>\n",
       "      <td>0.440476</td>\n",
       "      <td>25.0</td>\n",
       "      <td>3.0</td>\n",
       "      <td>5.0</td>\n",
       "      <td>4.0</td>\n",
       "      <td>12.0</td>\n",
       "      <td>12.0</td>\n",
       "      <td>8.0</td>\n",
       "      <td>10.0</td>\n",
       "      <td>0</td>\n",
       "      <td>0</td>\n",
       "      <td>0</td>\n",
       "      <td>3</td>\n",
       "      <td>0</td>\n",
       "      <td>0</td>\n",
       "      <td>3</td>\n",
       "      <td>2</td>\n",
       "      <td>2</td>\n",
       "      <td>2</td>\n",
       "      <td>0</td>\n",
       "      <td>0</td>\n",
       "      <td>0</td>\n",
       "      <td>0</td>\n",
       "      <td>1</td>\n",
       "      <td>0</td>\n",
       "    </tr>\n",
       "    <tr>\n",
       "      <th>1</th>\n",
       "      <td>0011e0d4e6b944f998e987f904e8c1e5</td>\n",
       "      <td>0.529961</td>\n",
       "      <td>3</td>\n",
       "      <td>5</td>\n",
       "      <td>5</td>\n",
       "      <td>5</td>\n",
       "      <td>0.049394</td>\n",
       "      <td>13.0</td>\n",
       "      <td>0.265060</td>\n",
       "      <td>0.108612</td>\n",
       "      <td>0.300000</td>\n",
       "      <td>96.0</td>\n",
       "      <td>0.516484</td>\n",
       "      <td>39.0</td>\n",
       "      <td>3.0</td>\n",
       "      <td>6.0</td>\n",
       "      <td>4.0</td>\n",
       "      <td>13.0</td>\n",
       "      <td>10.0</td>\n",
       "      <td>5.0</td>\n",
       "      <td>11.0</td>\n",
       "      <td>0</td>\n",
       "      <td>0</td>\n",
       "      <td>3</td>\n",
       "      <td>0</td>\n",
       "      <td>3</td>\n",
       "      <td>3</td>\n",
       "      <td>0</td>\n",
       "      <td>0</td>\n",
       "      <td>2</td>\n",
       "      <td>2</td>\n",
       "      <td>0</td>\n",
       "      <td>0</td>\n",
       "      <td>0</td>\n",
       "      <td>0</td>\n",
       "      <td>0</td>\n",
       "      <td>1</td>\n",
       "    </tr>\n",
       "    <tr>\n",
       "      <th>2</th>\n",
       "      <td>0020c2b971eb4e9188eac86d93036a77</td>\n",
       "      <td>0.468169</td>\n",
       "      <td>3</td>\n",
       "      <td>5</td>\n",
       "      <td>3</td>\n",
       "      <td>8</td>\n",
       "      <td>0.122373</td>\n",
       "      <td>14.0</td>\n",
       "      <td>0.493976</td>\n",
       "      <td>0.479430</td>\n",
       "      <td>0.666667</td>\n",
       "      <td>90.0</td>\n",
       "      <td>0.584416</td>\n",
       "      <td>50.0</td>\n",
       "      <td>4.0</td>\n",
       "      <td>5.0</td>\n",
       "      <td>2.0</td>\n",
       "      <td>11.0</td>\n",
       "      <td>11.0</td>\n",
       "      <td>11.0</td>\n",
       "      <td>8.0</td>\n",
       "      <td>1</td>\n",
       "      <td>3</td>\n",
       "      <td>0</td>\n",
       "      <td>0</td>\n",
       "      <td>0</td>\n",
       "      <td>0</td>\n",
       "      <td>5</td>\n",
       "      <td>0</td>\n",
       "      <td>0</td>\n",
       "      <td>2</td>\n",
       "      <td>0</td>\n",
       "      <td>0</td>\n",
       "      <td>0</td>\n",
       "      <td>1</td>\n",
       "      <td>0</td>\n",
       "      <td>0</td>\n",
       "    </tr>\n",
       "    <tr>\n",
       "      <th>3</th>\n",
       "      <td>0020ccbbb6d84e358d3414a3ff76cffd</td>\n",
       "      <td>0.550764</td>\n",
       "      <td>3</td>\n",
       "      <td>4</td>\n",
       "      <td>4</td>\n",
       "      <td>12</td>\n",
       "      <td>0.095761</td>\n",
       "      <td>13.0</td>\n",
       "      <td>0.072289</td>\n",
       "      <td>0.341196</td>\n",
       "      <td>0.333333</td>\n",
       "      <td>51.0</td>\n",
       "      <td>0.389610</td>\n",
       "      <td>39.0</td>\n",
       "      <td>6.0</td>\n",
       "      <td>3.0</td>\n",
       "      <td>2.0</td>\n",
       "      <td>11.0</td>\n",
       "      <td>11.0</td>\n",
       "      <td>8.0</td>\n",
       "      <td>9.0</td>\n",
       "      <td>0</td>\n",
       "      <td>0</td>\n",
       "      <td>3</td>\n",
       "      <td>3</td>\n",
       "      <td>0</td>\n",
       "      <td>3</td>\n",
       "      <td>0</td>\n",
       "      <td>0</td>\n",
       "      <td>0</td>\n",
       "      <td>2</td>\n",
       "      <td>0</td>\n",
       "      <td>0</td>\n",
       "      <td>0</td>\n",
       "      <td>1</td>\n",
       "      <td>0</td>\n",
       "      <td>0</td>\n",
       "    </tr>\n",
       "    <tr>\n",
       "      <th>4</th>\n",
       "      <td>003d66b6608740288d6cc97a6903f4f0</td>\n",
       "      <td>0.583921</td>\n",
       "      <td>3</td>\n",
       "      <td>5</td>\n",
       "      <td>4</td>\n",
       "      <td>18</td>\n",
       "      <td>0.030049</td>\n",
       "      <td>9.0</td>\n",
       "      <td>0.096386</td>\n",
       "      <td>0.219419</td>\n",
       "      <td>0.477778</td>\n",
       "      <td>100.0</td>\n",
       "      <td>0.690476</td>\n",
       "      <td>22.0</td>\n",
       "      <td>0.0</td>\n",
       "      <td>8.0</td>\n",
       "      <td>4.0</td>\n",
       "      <td>12.0</td>\n",
       "      <td>10.0</td>\n",
       "      <td>8.0</td>\n",
       "      <td>10.0</td>\n",
       "      <td>0</td>\n",
       "      <td>0</td>\n",
       "      <td>0</td>\n",
       "      <td>0</td>\n",
       "      <td>2</td>\n",
       "      <td>0</td>\n",
       "      <td>6</td>\n",
       "      <td>0</td>\n",
       "      <td>2</td>\n",
       "      <td>2</td>\n",
       "      <td>0</td>\n",
       "      <td>0</td>\n",
       "      <td>0</td>\n",
       "      <td>0</td>\n",
       "      <td>1</td>\n",
       "      <td>0</td>\n",
       "    </tr>\n",
       "  </tbody>\n",
       "</table>\n",
       "</div>"
      ],
      "text/plain": [
       "                        customer_id      time  event_offer_completed  \\\n",
       "0  0009655768c64bdeb2e877511632db8f  0.752755                      3   \n",
       "1  0011e0d4e6b944f998e987f904e8c1e5  0.529961                      3   \n",
       "2  0020c2b971eb4e9188eac86d93036a77  0.468169                      3   \n",
       "3  0020ccbbb6d84e358d3414a3ff76cffd  0.550764                      3   \n",
       "4  003d66b6608740288d6cc97a6903f4f0  0.583921                      3   \n",
       "\n",
       "   event_offer_received  event_offer_viewed  event_transaction    amount  \\\n",
       "0                     5                   4                  8  0.079319   \n",
       "1                     5                   5                  5  0.049394   \n",
       "2                     5                   3                  8  0.122373   \n",
       "3                     4                   4                 12  0.095761   \n",
       "4                     5                   4                 18  0.030049   \n",
       "\n",
       "   reward_x       age  days_as_member    income  difficulty  duration  \\\n",
       "0       9.0  0.180723        0.252880  0.466667        65.0  0.440476   \n",
       "1      13.0  0.265060        0.108612  0.300000        96.0  0.516484   \n",
       "2      14.0  0.493976        0.479430  0.666667        90.0  0.584416   \n",
       "3      13.0  0.072289        0.341196  0.333333        51.0  0.389610   \n",
       "4       9.0  0.096386        0.219419  0.477778       100.0  0.690476   \n",
       "\n",
       "   reward_y  bogo  discount  informational  channel_email  channel_mobile  \\\n",
       "0      25.0   3.0       5.0            4.0           12.0            12.0   \n",
       "1      39.0   3.0       6.0            4.0           13.0            10.0   \n",
       "2      50.0   4.0       5.0            2.0           11.0            11.0   \n",
       "3      39.0   6.0       3.0            2.0           11.0            11.0   \n",
       "4      22.0   0.0       8.0            4.0           12.0            10.0   \n",
       "\n",
       "   channel_social  channel_web  bogo_1  bogo_2  bogo_3  bogo_4  disc_1  \\\n",
       "0             8.0         10.0       0       0       0       3       0   \n",
       "1             5.0         11.0       0       0       3       0       3   \n",
       "2            11.0          8.0       1       3       0       0       0   \n",
       "3             8.0          9.0       0       0       3       3       0   \n",
       "4             8.0         10.0       0       0       0       0       2   \n",
       "\n",
       "   disc_2  disc_3  disc_4  info_1  info_2  2013  2014  2015  2016  2017  2018  \n",
       "0       0       3       2       2       2     0     0     0     0     1     0  \n",
       "1       3       0       0       2       2     0     0     0     0     0     1  \n",
       "2       0       5       0       0       2     0     0     0     1     0     0  \n",
       "3       3       0       0       0       2     0     0     0     1     0     0  \n",
       "4       0       6       0       2       2     0     0     0     0     1     0  "
      ]
     },
     "execution_count": 96,
     "metadata": {},
     "output_type": "execute_result"
    }
   ],
   "source": [
    "model_df.head()"
   ]
  },
  {
   "cell_type": "code",
   "execution_count": null,
   "metadata": {},
   "outputs": [],
   "source": []
  },
  {
   "cell_type": "code",
   "execution_count": 97,
   "metadata": {},
   "outputs": [],
   "source": [
    "# Set target variable\n",
    "y = model_df['event_offer_completed']\n",
    "    \n",
    "# Making feature data set by removing target variable 'amount' from it\n",
    "# Set feature variables. Remove target variable and also remove 'customer_id' column as it gives no information to model\n",
    "X = model_df.drop(['customer_id', 'event_offer_completed'], axis=1)\n",
    "num_feats = 15"
   ]
  },
  {
   "cell_type": "code",
   "execution_count": 98,
   "metadata": {},
   "outputs": [
    {
     "name": "stdout",
     "output_type": "stream",
     "text": [
      "15 selected features\n"
     ]
    }
   ],
   "source": [
    "# Find top 15 correlated variables with event offer completion\n",
    "def cor_selector(X, y,num_feats):\n",
    "    cor_list = []\n",
    "    feature_name = X.columns.tolist()\n",
    "    # calculate the correlation with y for each feature\n",
    "    for i in X.columns.tolist():\n",
    "        cor = np.corrcoef(X[i], y)[0, 1]\n",
    "        cor_list.append(cor)\n",
    "    # replace NaN with 0\n",
    "    cor_list = [0 if np.isnan(i) else i for i in cor_list]\n",
    "    # feature name\n",
    "    cor_feature = X.iloc[:,np.argsort(np.abs(cor_list))[-num_feats:]].columns.tolist()\n",
    "    # feature selection? 0 for not select, 1 for select\n",
    "    cor_support = [True if i in cor_feature else False for i in feature_name]\n",
    "    return cor_support, cor_feature\n",
    "cor_support, cor_feature = cor_selector(X, y,num_feats)\n",
    "print(str(len(cor_feature)), 'selected features')"
   ]
  },
  {
   "cell_type": "code",
   "execution_count": 99,
   "metadata": {},
   "outputs": [
    {
     "data": {
      "text/html": [
       "<div>\n",
       "<style scoped>\n",
       "    .dataframe tbody tr th:only-of-type {\n",
       "        vertical-align: middle;\n",
       "    }\n",
       "\n",
       "    .dataframe tbody tr th {\n",
       "        vertical-align: top;\n",
       "    }\n",
       "\n",
       "    .dataframe thead th {\n",
       "        text-align: right;\n",
       "    }\n",
       "</style>\n",
       "<table border=\"1\" class=\"dataframe\">\n",
       "  <thead>\n",
       "    <tr style=\"text-align: right;\">\n",
       "      <th></th>\n",
       "      <th>Feature</th>\n",
       "      <th>Pearson</th>\n",
       "      <th>Total</th>\n",
       "    </tr>\n",
       "  </thead>\n",
       "  <tbody>\n",
       "    <tr>\n",
       "      <th>1</th>\n",
       "      <td>reward_y</td>\n",
       "      <td>True</td>\n",
       "      <td>1</td>\n",
       "    </tr>\n",
       "    <tr>\n",
       "      <th>2</th>\n",
       "      <td>reward_x</td>\n",
       "      <td>True</td>\n",
       "      <td>1</td>\n",
       "    </tr>\n",
       "    <tr>\n",
       "      <th>3</th>\n",
       "      <td>event_transaction</td>\n",
       "      <td>True</td>\n",
       "      <td>1</td>\n",
       "    </tr>\n",
       "    <tr>\n",
       "      <th>4</th>\n",
       "      <td>event_offer_viewed</td>\n",
       "      <td>True</td>\n",
       "      <td>1</td>\n",
       "    </tr>\n",
       "    <tr>\n",
       "      <th>5</th>\n",
       "      <td>event_offer_received</td>\n",
       "      <td>True</td>\n",
       "      <td>1</td>\n",
       "    </tr>\n",
       "    <tr>\n",
       "      <th>6</th>\n",
       "      <td>duration</td>\n",
       "      <td>True</td>\n",
       "      <td>1</td>\n",
       "    </tr>\n",
       "    <tr>\n",
       "      <th>7</th>\n",
       "      <td>discount</td>\n",
       "      <td>True</td>\n",
       "      <td>1</td>\n",
       "    </tr>\n",
       "    <tr>\n",
       "      <th>8</th>\n",
       "      <td>difficulty</td>\n",
       "      <td>True</td>\n",
       "      <td>1</td>\n",
       "    </tr>\n",
       "    <tr>\n",
       "      <th>9</th>\n",
       "      <td>channel_web</td>\n",
       "      <td>True</td>\n",
       "      <td>1</td>\n",
       "    </tr>\n",
       "    <tr>\n",
       "      <th>10</th>\n",
       "      <td>channel_social</td>\n",
       "      <td>True</td>\n",
       "      <td>1</td>\n",
       "    </tr>\n",
       "    <tr>\n",
       "      <th>11</th>\n",
       "      <td>channel_mobile</td>\n",
       "      <td>True</td>\n",
       "      <td>1</td>\n",
       "    </tr>\n",
       "    <tr>\n",
       "      <th>12</th>\n",
       "      <td>channel_email</td>\n",
       "      <td>True</td>\n",
       "      <td>1</td>\n",
       "    </tr>\n",
       "    <tr>\n",
       "      <th>13</th>\n",
       "      <td>bogo</td>\n",
       "      <td>True</td>\n",
       "      <td>1</td>\n",
       "    </tr>\n",
       "    <tr>\n",
       "      <th>14</th>\n",
       "      <td>amount</td>\n",
       "      <td>True</td>\n",
       "      <td>1</td>\n",
       "    </tr>\n",
       "    <tr>\n",
       "      <th>15</th>\n",
       "      <td>2018</td>\n",
       "      <td>True</td>\n",
       "      <td>1</td>\n",
       "    </tr>\n",
       "  </tbody>\n",
       "</table>\n",
       "</div>"
      ],
      "text/plain": [
       "                 Feature  Pearson  Total\n",
       "1               reward_y     True      1\n",
       "2               reward_x     True      1\n",
       "3      event_transaction     True      1\n",
       "4     event_offer_viewed     True      1\n",
       "5   event_offer_received     True      1\n",
       "6               duration     True      1\n",
       "7               discount     True      1\n",
       "8             difficulty     True      1\n",
       "9            channel_web     True      1\n",
       "10        channel_social     True      1\n",
       "11        channel_mobile     True      1\n",
       "12         channel_email     True      1\n",
       "13                  bogo     True      1\n",
       "14                amount     True      1\n",
       "15                  2018     True      1"
      ]
     },
     "execution_count": 99,
     "metadata": {},
     "output_type": "execute_result"
    }
   ],
   "source": [
    "# Get list of features\n",
    "feature_name = X.columns.tolist()\n",
    "# put all selection together\n",
    "feature_selection_df = pd.DataFrame({'Feature':feature_name, 'Pearson':cor_support})\n",
    "# count the selected times for each feature\n",
    "feature_selection_df['Total'] = np.sum(feature_selection_df, axis=1)\n",
    "# display the top 100\n",
    "feature_selection_df = feature_selection_df.sort_values(['Total','Feature'] , ascending=False)\n",
    "feature_selection_df.index = range(1, len(feature_selection_df)+1)\n",
    "feature_selection_df.head(num_feats)"
   ]
  },
  {
   "cell_type": "code",
   "execution_count": 100,
   "metadata": {},
   "outputs": [],
   "source": [
    "def train_test_data_2(model_df):\n",
    "    '''\n",
    "    Function to make train and test data\n",
    "    \n",
    "    INPUT:\n",
    "    model_df - data set having features and target variables\n",
    "    \n",
    "    OUTPUT:\n",
    "    x_train - training feature variables\n",
    "    x_test - testing feature variables\n",
    "    y_train - training target variable\n",
    "    y_test - testing target variable\n",
    "    \n",
    "    '''\n",
    "    # Setting target variable to 'amount'\n",
    "    y = model_df['event_offer_completed']\n",
    "    \n",
    "    # Making feature data set by removing target variable 'amount' from it\n",
    "    # We also remove 'customer_id' column as it gives no information to model\n",
    "    x = model_df[['reward_x', 'reward_y', 'event_transaction', 'event_offer_viewed', 'event_offer_received', 'duration',\n",
    "                      'discount', 'difficulty', 'channel_web','channel_web', 'channel_social', 'channel_mobile', \n",
    "                      'channel_email', 'bogo', 'amount']]\n",
    "    x = x.loc[:,~x.columns.duplicated()]\n",
    "    # Making training and testing data sets\n",
    "    x_train, x_test, y_train, y_test = train_test_split(x, y, test_size=0.3, random_state=42)\n",
    "#     from sklearn.datasets import make_classification\n",
    "#     from sklearn.model_selection import StratifiedKFold\n",
    "#     # generate 2 class dataset\n",
    "#     x, y = make_classification(n_samples=10000, n_classes=2, weights=[0.99, 0.01], flip_y=0, random_state=1)\n",
    "#     kfold = StratifiedKFold(n_splits=5, shuffle=True, random_state=1)\n",
    "#     # enumerate the splits and summarize the distributions\n",
    "#     for train_ix, test_ix in kfold.split(x, y):\n",
    "#         #select rows\n",
    "#         x_train, x_test = x[train_ix], x[test_ix]\n",
    "#         y_train, y_test = y[train_ix], y[test_ix]\n",
    "    \n",
    "    return x_train, x_test, y_train, y_test"
   ]
  },
  {
   "cell_type": "code",
   "execution_count": 101,
   "metadata": {},
   "outputs": [],
   "source": [
    "# Making training and testing data sets\n",
    "x_train, x_test, y_train, y_test = train_test_data_2(model_df)"
   ]
  },
  {
   "cell_type": "code",
   "execution_count": 102,
   "metadata": {},
   "outputs": [],
   "source": [
    "    # Setting target variable to 'amount'\n",
    "y = model_df['event_offer_completed']\n",
    "    \n",
    "    # Making feature data set by removing target variable 'amount' from it\n",
    "    # We also remove 'customer_id' column as it gives no information to model\n",
    "x = model_df[['reward_x', 'reward_y', 'event_transaction', 'event_offer_viewed', 'event_offer_received', 'duration',\n",
    "                    'discount', 'difficulty', 'channel_web','channel_web', 'channel_social', 'channel_mobile', \n",
    "                    'channel_email', 'bogo', 'amount']]\n",
    "x = x.loc[:,~x.columns.duplicated()]\n",
    "# Making training and testing data sets\n",
    "x_train, x_test, y_train, y_test = train_test_split(x, y, test_size=0.3, random_state=42)"
   ]
  },
  {
   "cell_type": "markdown",
   "metadata": {},
   "source": [
    "### XGB REGRESSOR MODEL"
   ]
  },
  {
   "cell_type": "code",
   "execution_count": 103,
   "metadata": {},
   "outputs": [],
   "source": [
    "# Choose model\n",
    "model = XGBRegressor()\n",
    "\n",
    "# Fitting model instance on training data\n",
    "model.fit(x_train, y_train)\n",
    "    \n",
    "# Model predictions on train data \n",
    "y_train_predict = model.predict(x_train)\n",
    "\n",
    "# Model predictions on test data \n",
    "y_test_predict = model.predict(x_test)\n",
    "my_xgb = make_scorer(mean_squared_error)\n",
    "scores_5 = cross_val_score(model, x, y, cv=5, scoring=my_xgb)\n",
    "xgb_score = np.sqrt(scores).mean()"
   ]
  },
  {
   "cell_type": "code",
   "execution_count": 104,
   "metadata": {},
   "outputs": [
    {
     "name": "stdout",
     "output_type": "stream",
     "text": [
      "Xgb Cross validation Test Score: 0.14818299486156403\n"
     ]
    }
   ],
   "source": [
    "print(\"Xgb Cross validation Test Score: {}\".format(xgb_score))"
   ]
  },
  {
   "cell_type": "code",
   "execution_count": 105,
   "metadata": {},
   "outputs": [],
   "source": [
    "# Evaluate model\n",
    "train_rmse_5, test_rmse_5 = model_evaluate(x_train, x_test, y_train, y_test, model)"
   ]
  },
  {
   "cell_type": "code",
   "execution_count": 106,
   "metadata": {},
   "outputs": [
    {
     "name": "stdout",
     "output_type": "stream",
     "text": [
      "xbg Regressor model performance:- Train RMSE error: 0.05210123211145401, Test RMSE error: 0.12047526985406876\n"
     ]
    }
   ],
   "source": [
    "print(\"xbg Regressor model performance:- Train RMSE error: {}, Test RMSE error: {}\".format(train_rmse_5, test_rmse_5))"
   ]
  },
  {
   "cell_type": "code",
   "execution_count": 107,
   "metadata": {},
   "outputs": [
    {
     "name": "stdout",
     "output_type": "stream",
     "text": [
      "Mean Absolute Error Train (MAE): 0.0329986\n",
      "Mean Absolute Error Test (MAE): 0.0711941\n"
     ]
    }
   ],
   "source": [
    "print('Mean Absolute Error Train (MAE):', metrics.mean_absolute_error(y_train, y_train_predict))\n",
    "\n",
    "print('Mean Absolute Error Test (MAE):', metrics.mean_absolute_error(y_test, y_test_predict))"
   ]
  },
  {
   "cell_type": "code",
   "execution_count": null,
   "metadata": {},
   "outputs": [],
   "source": []
  },
  {
   "cell_type": "markdown",
   "metadata": {},
   "source": [
    "### RANDOM FOREST REGRESSOR MODEL"
   ]
  },
  {
   "cell_type": "code",
   "execution_count": 108,
   "metadata": {},
   "outputs": [],
   "source": [
    "# Choose model\n",
    "model = RandomForestRegressor()\n",
    "\n",
    "# Fitting model instance on training data\n",
    "model.fit(x_train, y_train)\n",
    "    \n",
    "# Model predictions on train data \n",
    "y_train_predict = model.predict(x_train)\n",
    "\n",
    "# Model predictions on test data \n",
    "y_test_predict = model.predict(x_test)\n",
    "my_for = make_scorer(mean_squared_error)\n",
    "scores_2 = cross_val_score(model, x, y, cv=5, scoring=my_for)\n",
    "rfg_score = np.sqrt(scores_2).mean()"
   ]
  },
  {
   "cell_type": "code",
   "execution_count": 109,
   "metadata": {},
   "outputs": [
    {
     "name": "stdout",
     "output_type": "stream",
     "text": [
      "Random Forest Cross validation Test Score: 0.14986706584227955\n"
     ]
    }
   ],
   "source": [
    "print(\"Random Forest Cross validation Test Score: {}\".format(rfg_score))"
   ]
  },
  {
   "cell_type": "code",
   "execution_count": 110,
   "metadata": {},
   "outputs": [],
   "source": [
    "# Evaluate model\n",
    "train_rmse_2, test_rmse_2 = model_evaluate(x_train, x_test, y_train, y_test, model)"
   ]
  },
  {
   "cell_type": "code",
   "execution_count": 111,
   "metadata": {},
   "outputs": [
    {
     "name": "stdout",
     "output_type": "stream",
     "text": [
      "Correlated Random Forest model performance:- Train RMSE error: 0.06516078955715371, Test RMSE error: 0.1524234682359142\n"
     ]
    }
   ],
   "source": [
    "print(\"Correlated Random Forest model performance:- Train RMSE error: {}, Test RMSE error: {}\".format(train_rmse_2, test_rmse_2))"
   ]
  },
  {
   "cell_type": "code",
   "execution_count": 112,
   "metadata": {},
   "outputs": [
    {
     "name": "stdout",
     "output_type": "stream",
     "text": [
      "Mean Absolute Error Train (MAE): 0.0198708682664\n",
      "Mean Absolute Error Test (MAE): 0.0549685251799\n"
     ]
    }
   ],
   "source": [
    "print('Mean Absolute Error Train (MAE):', metrics.mean_absolute_error(y_train, y_train_predict))\n",
    "\n",
    "print('Mean Absolute Error Test (MAE):', metrics.mean_absolute_error(y_test, y_test_predict))"
   ]
  },
  {
   "cell_type": "markdown",
   "metadata": {},
   "source": [
    "### LOGISTIC REGRESSION MODEL"
   ]
  },
  {
   "cell_type": "code",
   "execution_count": 113,
   "metadata": {},
   "outputs": [],
   "source": [
    "# Choose model\n",
    "model = LogisticRegression()\n",
    "\n",
    "# Fitting model instance on training data\n",
    "model.fit(x_train, y_train)\n",
    "    \n",
    "# Model predictions on train data \n",
    "y_train_predict = model.predict(x_train)\n",
    "\n",
    "# Model predictions on test data \n",
    "y_test_predict = model.predict(x_test)\n",
    "my_log = make_scorer(mean_squared_error)\n",
    "scores_3 = cross_val_score(model, x, y, cv=5, scoring=my_log)\n",
    "lgm_score = np.sqrt(scores).mean()"
   ]
  },
  {
   "cell_type": "code",
   "execution_count": 114,
   "metadata": {},
   "outputs": [
    {
     "name": "stdout",
     "output_type": "stream",
     "text": [
      "Logistic Regression Cross validation Test Score: 0.14818299486156403\n"
     ]
    }
   ],
   "source": [
    "print(\"Logistic Regression Cross validation Test Score: {}\".format(lgm_score))"
   ]
  },
  {
   "cell_type": "code",
   "execution_count": 115,
   "metadata": {},
   "outputs": [],
   "source": [
    "# Evaluate model\n",
    "train_rmse_3, test_rmse_3 = model_evaluate(x_train, x_test, y_train, y_test, model)"
   ]
  },
  {
   "cell_type": "code",
   "execution_count": 116,
   "metadata": {},
   "outputs": [
    {
     "name": "stdout",
     "output_type": "stream",
     "text": [
      "Logistic Regression model performance:- Train RMSE error: 0.4300327971338626, Test RMSE error: 0.4381739413494347\n"
     ]
    }
   ],
   "source": [
    "print(\"Logistic Regression model performance:- Train RMSE error: {}, Test RMSE error: {}\".format(train_rmse_3, test_rmse_3))"
   ]
  },
  {
   "cell_type": "code",
   "execution_count": 117,
   "metadata": {},
   "outputs": [
    {
     "name": "stdout",
     "output_type": "stream",
     "text": [
      "Mean Absolute Error Train (MAE): 33.8651826154\n",
      "Mean Absolute Error Test (MAE): 35.2535971223\n"
     ]
    }
   ],
   "source": [
    "print('Mean Absolute Error Train (MAE):', metrics.mean_absolute_error(y_train, y_train_predict))\n",
    "\n",
    "print('Mean Absolute Error Test (MAE):', metrics.mean_absolute_error(y_test, y_test_predict))"
   ]
  },
  {
   "cell_type": "markdown",
   "metadata": {},
   "source": [
    "### DECISION TREE MODEL"
   ]
  },
  {
   "cell_type": "code",
   "execution_count": 118,
   "metadata": {},
   "outputs": [],
   "source": [
    "# Choose Model\n",
    "model = DecisionTreeRegressor()\n",
    "\n",
    "# Fitting model instance on training data\n",
    "model.fit(x_train, y_train)\n",
    "    \n",
    "# Model predictions on train data \n",
    "y_train_predict = model.predict(x_train)\n",
    "\n",
    "# Model predictions on test data \n",
    "y_test_predict = model.predict(x_test)\n",
    "my_tree = make_scorer(mean_squared_error)\n",
    "scores_4 = cross_val_score(model, x, y, cv=5, scoring=my_tree)\n",
    "dtm_score = np.sqrt(scores).mean()"
   ]
  },
  {
   "cell_type": "code",
   "execution_count": 119,
   "metadata": {},
   "outputs": [
    {
     "name": "stdout",
     "output_type": "stream",
     "text": [
      "Decision Tree Cross validation Test Score: 0.14818299486156403\n"
     ]
    }
   ],
   "source": [
    "print(\"Decision Tree Cross validation Test Score: {}\".format(dtm_score))"
   ]
  },
  {
   "cell_type": "code",
   "execution_count": 120,
   "metadata": {},
   "outputs": [],
   "source": [
    "# Evaluate model\n",
    "train_rmse_4, test_rmse_4 = model_evaluate(x_train, x_test, y_train, y_test, model)"
   ]
  },
  {
   "cell_type": "code",
   "execution_count": 121,
   "metadata": {},
   "outputs": [
    {
     "name": "stdout",
     "output_type": "stream",
     "text": [
      "Decision Tree model performance:- Train RMSE error: 0.0, Test RMSE error: 0.2141572070991728\n"
     ]
    }
   ],
   "source": [
    "print(\"Decision Tree model performance:- Train RMSE error: {}, Test RMSE error: {}\".format(train_rmse_4, test_rmse_4))"
   ]
  },
  {
   "cell_type": "code",
   "execution_count": 122,
   "metadata": {},
   "outputs": [
    {
     "name": "stdout",
     "output_type": "stream",
     "text": [
      "Mean Absolute Error Train (MAE): 0.0\n",
      "Mean Absolute Error Test (MAE): 0.0440647482014\n"
     ]
    }
   ],
   "source": [
    "print('Mean Absolute Error Train (MAE):', metrics.mean_absolute_error(y_train, y_train_predict))\n",
    "\n",
    "print('Mean Absolute Error Test (MAE):', metrics.mean_absolute_error(y_test, y_test_predict))"
   ]
  },
  {
   "cell_type": "markdown",
   "metadata": {},
   "source": [
    "The xgboost Regressor had the best cross validation test score at 0.142. The train and test RMSE were also the best at\n",
    "It will now be used with GridsearchCV to tune the parameters to get a better result."
   ]
  },
  {
   "cell_type": "code",
   "execution_count": null,
   "metadata": {},
   "outputs": [],
   "source": []
  },
  {
   "cell_type": "markdown",
   "metadata": {},
   "source": [
    "## TUNE USING GRIDSEARCH"
   ]
  },
  {
   "cell_type": "code",
   "execution_count": 123,
   "metadata": {},
   "outputs": [],
   "source": [
    "grid_mean = make_scorer(mean_squared_error)"
   ]
  },
  {
   "cell_type": "code",
   "execution_count": 124,
   "metadata": {},
   "outputs": [],
   "source": [
    "# Define my model and pipeline\n",
    "model = XGBRegressor()\n",
    "pipeline = Pipeline([\n",
    "            ('scaler', StandardScaler()),\n",
    "            ('model', xgb.XGBRegressor())\n",
    "])\n",
    "score_3 = cross_val_score(pipeline, x, y, cv=5, scoring=grid_mean)\n",
    "grid_score = np.sqrt(score_3).mean()"
   ]
  },
  {
   "cell_type": "code",
   "execution_count": 125,
   "metadata": {},
   "outputs": [
    {
     "name": "stdout",
     "output_type": "stream",
     "text": [
      "GridSearch Pipeline Cross validation Test Score: 0.11725761365145668\n"
     ]
    }
   ],
   "source": [
    "print(\"GridSearch Pipeline Cross validation Test Score: {}\".format(grid_score))"
   ]
  },
  {
   "cell_type": "code",
   "execution_count": 126,
   "metadata": {},
   "outputs": [
    {
     "data": {
      "text/plain": [
       "dict_keys(['memory', 'steps', 'scaler', 'model', 'scaler__copy', 'scaler__with_mean', 'scaler__with_std', 'model__objective', 'model__base_score', 'model__booster', 'model__colsample_bylevel', 'model__colsample_bynode', 'model__colsample_bytree', 'model__gamma', 'model__gpu_id', 'model__importance_type', 'model__interaction_constraints', 'model__learning_rate', 'model__max_delta_step', 'model__max_depth', 'model__min_child_weight', 'model__missing', 'model__monotone_constraints', 'model__n_estimators', 'model__n_jobs', 'model__num_parallel_tree', 'model__random_state', 'model__reg_alpha', 'model__reg_lambda', 'model__scale_pos_weight', 'model__subsample', 'model__tree_method', 'model__validate_parameters', 'model__verbosity'])"
      ]
     },
     "execution_count": 126,
     "metadata": {},
     "output_type": "execute_result"
    }
   ],
   "source": [
    "pipeline.get_params().keys()"
   ]
  },
  {
   "cell_type": "markdown",
   "metadata": {},
   "source": [
    "Almost all of the parameters of the XGB Regressor can be tuned. However tuning and using all these parameters in our datasets can lead to long run times. I chose 5 of these parameters to use and tune. The max depth is chosen because it can cause overfitting. The value of 6 was found to be the best paramater. For the booster gbtree is the type that will assist the model the most. The parallel tree is computed to support further boosting the algorithm.\n",
    "The learning_rate parameter was set to control the weighting of new trees added to the model. Using the n_estimators at 200 we were able to control the size of decision trees, also called the number of layers or the depth."
   ]
  },
  {
   "cell_type": "code",
   "execution_count": 127,
   "metadata": {},
   "outputs": [],
   "source": [
    "parameters = {\n",
    "    'model__max_depth': [6], #[3, 5, 6],\n",
    "    'model__booster': ['gbtree'], #, 'gblinear'],\n",
    "    'model__num_parallel_tree': [1], #, 2],\n",
    "    'model__learning_rate': [0.1], #[0.03, 0.06, 0.1],\n",
    "    'model__n_estimators': [200] #[50, 100, 150, 200]\n",
    "             }\n",
    "\n",
    "cv = GridSearchCV(pipeline, param_grid=parameters, n_jobs = -1, verbose=2)\n",
    "# from sklearn.model_selection import cross_val_score\n"
   ]
  },
  {
   "cell_type": "code",
   "execution_count": 128,
   "metadata": {},
   "outputs": [
    {
     "name": "stdout",
     "output_type": "stream",
     "text": [
      "Fitting 3 folds for each of 1 candidates, totalling 3 fits\n",
      "[CV] model__booster=gbtree, model__learning_rate=0.1, model__max_depth=6, model__n_estimators=200, model__num_parallel_tree=1 \n",
      "[CV]  model__booster=gbtree, model__learning_rate=0.1, model__max_depth=6, model__n_estimators=200, model__num_parallel_tree=1, total=   1.9s\n",
      "[CV] model__booster=gbtree, model__learning_rate=0.1, model__max_depth=6, model__n_estimators=200, model__num_parallel_tree=1 \n"
     ]
    },
    {
     "name": "stderr",
     "output_type": "stream",
     "text": [
      "[Parallel(n_jobs=-1)]: Done   1 out of   1 | elapsed:    1.9s remaining:    0.0s\n"
     ]
    },
    {
     "name": "stdout",
     "output_type": "stream",
     "text": [
      "[CV]  model__booster=gbtree, model__learning_rate=0.1, model__max_depth=6, model__n_estimators=200, model__num_parallel_tree=1, total=   1.9s\n",
      "[CV] model__booster=gbtree, model__learning_rate=0.1, model__max_depth=6, model__n_estimators=200, model__num_parallel_tree=1 \n",
      "[CV]  model__booster=gbtree, model__learning_rate=0.1, model__max_depth=6, model__n_estimators=200, model__num_parallel_tree=1, total=   1.9s\n"
     ]
    },
    {
     "name": "stderr",
     "output_type": "stream",
     "text": [
      "[Parallel(n_jobs=-1)]: Done   3 out of   3 | elapsed:    5.9s finished\n"
     ]
    }
   ],
   "source": [
    "train_rmse_3, test_rmse_3 = model_evaluate(x_train, x_test, y_train, y_test, cv)"
   ]
  },
  {
   "cell_type": "code",
   "execution_count": 129,
   "metadata": {},
   "outputs": [
    {
     "name": "stdout",
     "output_type": "stream",
     "text": [
      "Tuned XGBoost model performance:- Train RMSE error: 0.05766602233052254, Test RMSE error: 0.10836191475391388\n"
     ]
    }
   ],
   "source": [
    "print(\"Tuned XGBoost model performance:- Train RMSE error: {}, Test RMSE error: {}\".format(train_rmse_3, test_rmse_3))"
   ]
  },
  {
   "cell_type": "code",
   "execution_count": 130,
   "metadata": {},
   "outputs": [
    {
     "data": {
      "text/plain": [
       "({'model__booster': 'gbtree',\n",
       "  'model__learning_rate': 0.1,\n",
       "  'model__max_depth': 6,\n",
       "  'model__n_estimators': 200,\n",
       "  'model__num_parallel_tree': 1},\n",
       " 0.99329093490416576,\n",
       " Pipeline(memory=None,\n",
       "      steps=[('scaler', StandardScaler(copy=True, with_mean=True, with_std=True)), ('model', XGBRegressor(base_score=0.5, booster='gbtree', colsample_bylevel=1,\n",
       "        colsample_bynode=1, colsample_bytree=1, gamma=0, gpu_id=-1,\n",
       "        importance_type='gain', interaction_constraints='',\n",
       "        learning_rat...cale_pos_weight=1, subsample=1, tree_method='exact',\n",
       "        validate_parameters=1, verbosity=None))]))"
      ]
     },
     "execution_count": 130,
     "metadata": {},
     "output_type": "execute_result"
    }
   ],
   "source": [
    "best_params = cv.best_params_\n",
    "best_score = cv.best_score_\n",
    "tuned_model = cv.best_estimator_\n",
    "best_params, best_score, tuned_model"
   ]
  },
  {
   "cell_type": "code",
   "execution_count": 131,
   "metadata": {},
   "outputs": [
    {
     "data": {
      "text/plain": [
       "Pipeline(memory=None,\n",
       "     steps=[('scaler', StandardScaler(copy=True, with_mean=True, with_std=True)), ('model', XGBRegressor(base_score=0.5, booster='gbtree', colsample_bylevel=1,\n",
       "       colsample_bynode=1, colsample_bytree=1, gamma=0, gpu_id=-1,\n",
       "       importance_type='gain', interaction_constraints='',\n",
       "       learning_rat...cale_pos_weight=1, subsample=1, tree_method='exact',\n",
       "       validate_parameters=1, verbosity=None))])"
      ]
     },
     "execution_count": 131,
     "metadata": {},
     "output_type": "execute_result"
    }
   ],
   "source": [
    "tuned_model"
   ]
  },
  {
   "cell_type": "code",
   "execution_count": 132,
   "metadata": {},
   "outputs": [],
   "source": [
    "# Setting target variable to 'amount'\n",
    "y = model_df['event_offer_completed']\n",
    "    \n",
    "# Variables\n",
    "x = model_df[['reward_x', 'reward_y', 'event_transaction', 'event_offer_viewed', 'event_offer_received', 'duration',\n",
    "                'discount', 'difficulty', 'channel_web','channel_web', 'channel_social', 'channel_mobile', \n",
    "                'channel_email', 'bogo', 'amount']]"
   ]
  },
  {
   "cell_type": "code",
   "execution_count": 133,
   "metadata": {},
   "outputs": [],
   "source": [
    "fit_var = tuned_model.fit(x, y)"
   ]
  },
  {
   "cell_type": "code",
   "execution_count": 134,
   "metadata": {},
   "outputs": [
    {
     "name": "stdout",
     "output_type": "stream",
     "text": [
      "[ 0.66337317  0.00731224  0.00578805  0.02249958  0.01393579  0.00793522\n",
      "  0.09589174  0.00417395  0.04273067  0.          0.00125123  0.01044552\n",
      "  0.11302179  0.00567004  0.00597102]\n"
     ]
    }
   ],
   "source": [
    "print(cv.best_estimator_.named_steps[\"model\"].feature_importances_)"
   ]
  },
  {
   "cell_type": "code",
   "execution_count": 135,
   "metadata": {},
   "outputs": [
    {
     "name": "stdout",
     "output_type": "stream",
     "text": [
      "[(0.66339999, 'x1'), (0.113, 'x13'), (0.095899999, 'x7'), (0.0427, 'x9'), (0.022500001, 'x4'), (0.0139, 'x5'), (0.0104, 'x12'), (0.0078999996, 'x6'), (0.0073000002, 'x2'), (0.0060000001, 'x15'), (0.0057999999, 'x3'), (0.0057000001, 'x14'), (0.0041999999, 'x8'), (0.0013, 'x11'), (0.0, 'x10')]\n"
     ]
    }
   ],
   "source": [
    "ln=x.shape\n",
    "names = [\"x%s\" % i for i in range(1,ln[1]+1)]\n",
    "print(sorted(zip(map(lambda x: round(x, 4), cv.best_estimator_.named_steps[\"model\"].feature_importances_),names), reverse=True))"
   ]
  },
  {
   "cell_type": "code",
   "execution_count": 136,
   "metadata": {},
   "outputs": [
    {
     "data": {
      "text/plain": [
       "{'channel_web': 0.0,\n",
       " 'channel_social': 0.0012512323,\n",
       " 'difficulty': 0.0041739512,\n",
       " 'bogo': 0.0056700381,\n",
       " 'event_transaction': 0.0057880534,\n",
       " 'amount': 0.005971021,\n",
       " 'reward_y': 0.0073122405,\n",
       " 'duration': 0.0079352222,\n",
       " 'channel_mobile': 0.010445524,\n",
       " 'event_offer_received': 0.013935791,\n",
       " 'event_offer_viewed': 0.022499582,\n",
       " 'discount': 0.095891744,\n",
       " 'channel_email': 0.11302179,\n",
       " 'reward_x': 0.66337317}"
      ]
     },
     "execution_count": 136,
     "metadata": {},
     "output_type": "execute_result"
    }
   ],
   "source": [
    "feat_imp = dict(zip(x.columns, cv.best_estimator_.named_steps[\"model\"].feature_importances_))\n",
    "feat_imp = {k: v for k, v in sorted(feat_imp.items(), key=lambda item: item[1])}\n",
    "feat_imp"
   ]
  },
  {
   "cell_type": "code",
   "execution_count": 137,
   "metadata": {},
   "outputs": [
    {
     "data": {
      "image/png": "[encoded data removed]",
      "text/plain": [
       "<matplotlib.figure.Figure at 0x7fc7fe854a90>"
      ]
     },
     "metadata": {
      "needs_background": "light"
     },
     "output_type": "display_data"
    }
   ],
   "source": [
    "# Plot features as bar chart\n",
    "plt.figure(figsize = [15, 6])\n",
    "plt.bar(range(len(feat_imp)), list(feat_imp.values()),  align='center')\n",
    "plt.xticks(range(len(feat_imp)), list(feat_imp.keys()))\n",
    "plt.xticks(rotation=15);"
   ]
  },
  {
   "cell_type": "markdown",
   "metadata": {},
   "source": [
    "### CONCLUSION\n",
    "\n",
    "1.FEATURE ANALYSIS\n",
    "\n",
    "From the visualization above the 3 features are the most important respectively:\n",
    "\n",
    "- reward_x\n",
    "- channel_email\n",
    "- discount\n",
    "\n",
    "Now lets take a look at each of the above on its own merit:\n",
    "- The reward_x appears to be the most significant feature when it comes to offer completion. Its possible that the higher the reward the higher the chance of the offer being completed. The rewards are creating value by motivating Starbucks customers to try a product by completing the offer. Starbucks can use the rewards to create a programs that rewards customer loyalty. Delivering increased value in form of rewards to profitable customers turns them into loyal customers; and that loyal customers become even more profitable over time.\n",
    "\n",
    "- Channel email doesnt appear to be as influential a feature as reward_x but it does show the delivery system most effective in offer completions. Starbucks can use this by sending more through emails and further fine tuning the process to find out why the channel is effective.\n",
    "\n",
    "- The 3rd feature in order of importance is discount which is an offer type. This is not surprising as customers are known to respond positively to discounts. Giving customers a discount might just be the thing to draw them in and become a recurring  customer. And new customers mean new opportunities for cross-sells and upsells, meaning more revenue in the long run as well. Therefore Starbucks might look at how to give more discounts to its customers instead of other offers.\n",
    "\n",
    "\n",
    "2.RESULTS EVALUATION\n",
    "All the models from above were all analyzed using the Root Mean Square Error(RMSE) and cross validation. \n",
    "RMSE is the standard deviation of the residuals (prediction errors). Residuals are a measure of how far from the regression line data points are; RMSE is a measure of how spread out these residuals are. In other words, it tells you how concentrated the data is around the line of best fit. \n",
    "The RMSE from our models above are:\n",
    "- Baseline Model: Train RMSE error: 0.06461127565148764, Test RMSE error: 0.13643719402592924\n",
    "- xbg Regressor model performance:- Train RMSE error: 0.05210123211145401, Test RMSE error: 0.12047526985406876\n",
    "- Random Forest Model: 0.06368740514313077, Test RMSE error: 0.15087425084601191\n",
    "- Decision Tree model performance:- Train RMSE error: 0.0, Test RMSE error: 0.21780048291891418\n",
    "- GridSearchSv Tuned Model: Train RMSE error: 0.05766602233052254, Test RMSE error: 0.10836191475391388 \n",
    "\n",
    "Cross-validation is a technique for evaluating ML models by training several ML models on subsets of the available input data and evaluating them on the complementary subset of the data. The best cross validation score was from xgbRegressor at 0.142.\n",
    "\n",
    "As can be seen from above the GridSearchSv model performed the best as it had the least errors both in the Train and Test sets and the cross validation. In the Random Forest Regression Model the training data performed better slightly than the Baseline model but the test is worse off. This might be explained by overfitting in the Baseline model. \n",
    "The xbg Regressor model also performed best among all the other models with a cross validation error of 0.142. Even though the Train RMSE was a bit lower than the tuned RMSE, the tuned test RMSE was better. The cross validation also became better at 0.11725761365145668. \n",
    "\n",
    "3. IMPROVEMENTS AND CONCLUSION\n",
    "\n",
    "- The first improvement that can be made is on preprocessing of data. It was quite challenging finding a way to work out how to put all the data together meaningfully. I chose to aggregate the data to make customer offer events and transactions together. There can be other ways to bring the data together by keeping the individuality of each transaction intact.\n",
    "- Someone with deeper coffee retail industry knowledge might be able to select better target and feature variables or even come up with new ones that will make it easier to predict which customers will complete offers.\n",
    "- We can also go further by finding out what the optimal rewards and discounts are to get more customers completing the offers.\n",
    "- A proper experiment can be set up eg A/B testing to determine the effects of sending offers through emails or other platforms. Different reward systems and discounts can also be tested for effectiveness.\n",
    "- It will definately be useful to dig deeper and find features that affect specific demographics to find what makes completions successful. Income demographics and age are definately interesting routes that can be explored.\n",
    "\n",
    "In conclusion Starbucks can send more of its discount offer through the email channel and also have a good reward system. By creating a reward program that keeps customers loyal over a long period of time while also encouraging them to spend more on Starbucks products."
   ]
  },
  {
   "cell_type": "code",
   "execution_count": null,
   "metadata": {},
   "outputs": [],
   "source": []
  }
 ],
 "metadata": {
  "kernelspec": {
   "display_name": "Python 3",
   "language": "python",
   "name": "python3"
  },
  "language_info": {
   "codemirror_mode": {
    "name": "ipython",
    "version": 3
   },
   "file_extension": ".py",
   "mimetype": "text/x-python",
   "name": "python",
   "nbconvert_exporter": "python",
   "pygments_lexer": "ipython3",
   "version": "3.6.3"
  }
 },
 "nbformat": 4,
 "nbformat_minor": 2
}
